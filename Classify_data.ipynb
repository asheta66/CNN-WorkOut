{
  "nbformat": 4,
  "nbformat_minor": 0,
  "metadata": {
    "colab": {
      "name": "Classify_data.ipynb",
      "provenance": [],
      "collapsed_sections": [],
      "authorship_tag": "ABX9TyMxJSDvJ9fLVr5YWsJ2f4YZ",
      "include_colab_link": true
    },
    "kernelspec": {
      "name": "python3",
      "display_name": "Python 3"
    },
    "language_info": {
      "name": "python"
    }
  },
  "cells": [
    {
      "cell_type": "markdown",
      "metadata": {
        "id": "view-in-github",
        "colab_type": "text"
      },
      "source": [
        "<a href=\"https://colab.research.google.com/github/asheta66/CNN-WorkOut/blob/main/Classify_data.ipynb\" target=\"_parent\"><img src=\"https://colab.research.google.com/assets/colab-badge.svg\" alt=\"Open In Colab\"/></a>"
      ]
    },
    {
      "cell_type": "code",
      "metadata": {
        "id": "82lX9_Omhre_"
      },
      "source": [
        "# This Python 3 environment comes with many helpful analytics libraries installed\n",
        "# It is defined by the kaggle/python docker image: https://github.com/kaggle/docker-python\n",
        "# For example, here's several helpful packages to load in \n",
        "import numpy as np\n",
        "import pandas as pd\n",
        "import matplotlib.pyplot as plt\n",
        "import seaborn as sns\n",
        "from sklearn.linear_model import LogisticRegression\n",
        "from sklearn.model_selection import train_test_split"
      ],
      "execution_count": 2,
      "outputs": []
    },
    {
      "cell_type": "markdown",
      "metadata": {
        "id": "ABEnFJ_6hxng"
      },
      "source": [
        "### **Load Data**"
      ]
    },
    {
      "cell_type": "code",
      "metadata": {
        "trusted": true,
        "_uuid": "8d0ffd4e0549f6f2eb24c7cc258256f2fb63ec48",
        "id": "yOaloGybDVwl",
        "colab": {
          "base_uri": "https://localhost:8080/",
          "height": 269
        },
        "outputId": "9c8709b6-f671-40c6-8167-9f893705e167"
      },
      "source": [
        "# We are reading our data\n",
        "url = \"https://raw.githubusercontent.com/asheta66/CNN-WorkOut/main/copd2.csv\"\n",
        "df  =  pd.read_csv(url)\n",
        "\n",
        "# First 5 rows of our data\n",
        "print(df.target.value_counts())\n",
        "print()\n",
        "df.head()"
      ],
      "execution_count": 9,
      "outputs": [
        {
          "output_type": "stream",
          "text": [
            "0    1151\n",
            "1     706\n",
            "Name: target, dtype: int64\n",
            "\n"
          ],
          "name": "stdout"
        },
        {
          "output_type": "execute_result",
          "data": {
            "text/html": [
              "<div>\n",
              "<style scoped>\n",
              "    .dataframe tbody tr th:only-of-type {\n",
              "        vertical-align: middle;\n",
              "    }\n",
              "\n",
              "    .dataframe tbody tr th {\n",
              "        vertical-align: top;\n",
              "    }\n",
              "\n",
              "    .dataframe thead th {\n",
              "        text-align: right;\n",
              "    }\n",
              "</style>\n",
              "<table border=\"1\" class=\"dataframe\">\n",
              "  <thead>\n",
              "    <tr style=\"text-align: right;\">\n",
              "      <th></th>\n",
              "      <th>height</th>\n",
              "      <th>weight</th>\n",
              "      <th>age</th>\n",
              "      <th>sex</th>\n",
              "      <th>race</th>\n",
              "      <th>fv1/fvc</th>\n",
              "      <th>fev1/fev6</th>\n",
              "      <th>smoker</th>\n",
              "      <th>cough</th>\n",
              "      <th>dapnea</th>\n",
              "      <th>target</th>\n",
              "    </tr>\n",
              "  </thead>\n",
              "  <tbody>\n",
              "    <tr>\n",
              "      <th>0</th>\n",
              "      <td>66.50</td>\n",
              "      <td>165.0</td>\n",
              "      <td>66</td>\n",
              "      <td>0</td>\n",
              "      <td>0</td>\n",
              "      <td>48</td>\n",
              "      <td>102</td>\n",
              "      <td>1</td>\n",
              "      <td>1</td>\n",
              "      <td>1</td>\n",
              "      <td>1</td>\n",
              "    </tr>\n",
              "    <tr>\n",
              "      <th>1</th>\n",
              "      <td>68.75</td>\n",
              "      <td>204.0</td>\n",
              "      <td>66</td>\n",
              "      <td>0</td>\n",
              "      <td>0</td>\n",
              "      <td>52</td>\n",
              "      <td>79</td>\n",
              "      <td>1</td>\n",
              "      <td>0</td>\n",
              "      <td>0</td>\n",
              "      <td>1</td>\n",
              "    </tr>\n",
              "    <tr>\n",
              "      <th>2</th>\n",
              "      <td>68.00</td>\n",
              "      <td>197.0</td>\n",
              "      <td>59</td>\n",
              "      <td>0</td>\n",
              "      <td>1</td>\n",
              "      <td>80</td>\n",
              "      <td>69</td>\n",
              "      <td>0</td>\n",
              "      <td>1</td>\n",
              "      <td>1</td>\n",
              "      <td>1</td>\n",
              "    </tr>\n",
              "    <tr>\n",
              "      <th>3</th>\n",
              "      <td>62.00</td>\n",
              "      <td>141.0</td>\n",
              "      <td>79</td>\n",
              "      <td>1</td>\n",
              "      <td>0</td>\n",
              "      <td>69</td>\n",
              "      <td>99</td>\n",
              "      <td>1</td>\n",
              "      <td>0</td>\n",
              "      <td>1</td>\n",
              "      <td>1</td>\n",
              "    </tr>\n",
              "    <tr>\n",
              "      <th>4</th>\n",
              "      <td>61.50</td>\n",
              "      <td>159.0</td>\n",
              "      <td>80</td>\n",
              "      <td>1</td>\n",
              "      <td>0</td>\n",
              "      <td>70</td>\n",
              "      <td>102</td>\n",
              "      <td>1</td>\n",
              "      <td>1</td>\n",
              "      <td>0</td>\n",
              "      <td>1</td>\n",
              "    </tr>\n",
              "  </tbody>\n",
              "</table>\n",
              "</div>"
            ],
            "text/plain": [
              "   height  weight  age  sex  race  ...  fev1/fev6  smoker  cough  dapnea  target\n",
              "0   66.50   165.0   66    0     0  ...        102       1      1       1       1\n",
              "1   68.75   204.0   66    0     0  ...         79       1      0       0       1\n",
              "2   68.00   197.0   59    0     1  ...         69       0      1       1       1\n",
              "3   62.00   141.0   79    1     0  ...         99       1      0       1       1\n",
              "4   61.50   159.0   80    1     0  ...        102       1      1       0       1\n",
              "\n",
              "[5 rows x 11 columns]"
            ]
          },
          "metadata": {
            "tags": []
          },
          "execution_count": 9
        }
      ]
    },
    {
      "cell_type": "code",
      "metadata": {
        "id": "L51KjlTXi9dt"
      },
      "source": [
        "y          = df.target.values\n",
        "x_data = df.drop(['target'], axis = 1)"
      ],
      "execution_count": 11,
      "outputs": []
    },
    {
      "cell_type": "code",
      "metadata": {
        "id": "BePitf9cj7ef"
      },
      "source": [
        "# Normalize\n",
        "x = (x_data - np.min(x_data))/(np.max(x_data) - np.min(x_data)).values\n",
        "x_train, x_test, y_train, y_test = train_test_split(x,y,test_size = 0.2,random_state=0)\n",
        "\n",
        "# Transpose matrices\n",
        "x_train = x_train.T\n",
        "y_train = y_train.T\n",
        "x_test   = x_test.T\n",
        "y_test   = y_test.T"
      ],
      "execution_count": 13,
      "outputs": []
    },
    {
      "cell_type": "markdown",
      "metadata": {
        "id": "zGa7LhUHi9K-"
      },
      "source": [
        ""
      ]
    },
    {
      "cell_type": "markdown",
      "metadata": {
        "id": "FtEjyzEDh_NQ"
      },
      "source": [
        "### **Logistic Regression**"
      ]
    },
    {
      "cell_type": "code",
      "metadata": {
        "colab": {
          "base_uri": "https://localhost:8080/"
        },
        "id": "HxSmMw-EgMr7",
        "outputId": "4fecedae-cc6f-486d-b4f3-86f64575ffb0"
      },
      "source": [
        "accuracies1 = {}\n",
        "accuracies2 = {}\n",
        "\n",
        "lr = LogisticRegression()\n",
        "lr.fit(x_train.T,y_train.T)\n",
        "\n",
        "acc1 = lr.score(x_train.T,y_train.T)*100\n",
        "acc2 = lr.score(x_test.T,y_test.T)*100\n",
        "\n",
        "accuracies1['Logistic Regression'] = acc1\n",
        "accuracies2['Logistic Regression'] = acc2\n",
        "\n",
        "print(\"LR Accuracy in Training Case {:.2f}%\".format(acc1))\n",
        "print(\"LR Accuracy in Testing Case {:.2f}%\".format(acc2))"
      ],
      "execution_count": 15,
      "outputs": [
        {
          "output_type": "stream",
          "text": [
            "LR Accuracy in Training Case 74.55%\n",
            "LR Accuracy in Testing Case 71.77%\n"
          ],
          "name": "stdout"
        }
      ]
    },
    {
      "cell_type": "markdown",
      "metadata": {
        "id": "r5g2QP2rsIXC"
      },
      "source": [
        "### **Sklearn Logistic Regression**"
      ]
    },
    {
      "cell_type": "code",
      "metadata": {
        "colab": {
          "base_uri": "https://localhost:8080/"
        },
        "id": "OdGosLRfsMw4",
        "outputId": "1e8c3549-156c-48b8-ba65-a7595a732c58"
      },
      "source": [
        "accuracies1 = {}\n",
        "accuracies2 = {}\n",
        "\n",
        "lr = LogisticRegression()\n",
        "lr.fit(x_train.T,y_train.T)\n",
        "\n",
        "acc1 = lr.score(x_train.T,y_train.T)*100\n",
        "acc2 = lr.score(x_test.T,y_test.T)*100\n",
        "\n",
        "accuracies1['Logistic Regression'] = acc1\n",
        "accuracies2['Logistic Regression'] = acc2\n",
        "\n",
        "print(\"LR Accuracy in Training Case {:.2f}%\".format(acc1))\n",
        "print(\"LR Accuracy in Testing Case {:.2f}%\".format(acc2))"
      ],
      "execution_count": 38,
      "outputs": [
        {
          "output_type": "stream",
          "text": [
            "LR Accuracy in Training Case 74.55%\n",
            "LR Accuracy in Testing Case 71.77%\n"
          ],
          "name": "stdout"
        }
      ]
    },
    {
      "cell_type": "markdown",
      "metadata": {
        "id": "v876STTXmO8F"
      },
      "source": [
        "### **Support Vector Machines**"
      ]
    },
    {
      "cell_type": "code",
      "metadata": {
        "colab": {
          "base_uri": "https://localhost:8080/"
        },
        "id": "WoVPoAyHmSkq",
        "outputId": "1d4056b4-2786-4852-870c-6b0a0b56d7db"
      },
      "source": [
        "from sklearn.svm import SVC\n",
        "\n",
        "svm = SVC(random_state = 1)\n",
        "svm.fit(x_train.T, y_train.T)\n",
        "\n",
        "acc1 = svm.score(x_train.T,y_train.T)*100\n",
        "acc2 = svm.score(x_test.T,y_test.T)*100\n",
        "\n",
        "accuracies1['SVM'] = acc1\n",
        "accuracies2['SVM'] = acc2\n",
        "\n",
        "print(\"SVM Accuracy in Training Case: {:.2f}%\".format(acc1))\n",
        "print(\"SVM Accuracy in Training Case: {:.2f}%\".format(acc2))"
      ],
      "execution_count": 18,
      "outputs": [
        {
          "output_type": "stream",
          "text": [
            "SVM Accuracy in Training Case: 73.87%\n",
            "SVM Accuracy in Training Case: 70.16%\n"
          ],
          "name": "stdout"
        }
      ]
    },
    {
      "cell_type": "markdown",
      "metadata": {
        "id": "gP3ywMIumg5r"
      },
      "source": [
        "### **Naive Bayes Algorithm**"
      ]
    },
    {
      "cell_type": "code",
      "metadata": {
        "colab": {
          "base_uri": "https://localhost:8080/"
        },
        "id": "ymnuw4r6mmgk",
        "outputId": "db0e6971-50f4-45a9-ac5a-ca8a511a0d30"
      },
      "source": [
        "from sklearn.naive_bayes import GaussianNB\n",
        "nb = GaussianNB()\n",
        "nb.fit(x_train.T, y_train.T)\n",
        "\n",
        "acc1 = nb.score(x_train.T,y_train.T)*100\n",
        "acc2 = nb.score(x_test.T,y_test.T)*100\n",
        "\n",
        "accuracies1['Naive Bayes'] = acc1\n",
        "accuracies2['Naive Bayes'] = acc2\n",
        "\n",
        "print(\"Naive Bayes Accuracy in Training Case: {:.2f}%\".format(acc1))\n",
        "print(\"Naive Bayes Accuracy in Training Case: {:.2f}%\".format(acc2))"
      ],
      "execution_count": 39,
      "outputs": [
        {
          "output_type": "stream",
          "text": [
            "Naive Bayes Accuracy in Training Case: 71.31%\n",
            "Naive Bayes Accuracy in Training Case: 73.92%\n"
          ],
          "name": "stdout"
        }
      ]
    },
    {
      "cell_type": "markdown",
      "metadata": {
        "id": "8HDbt_gcmq91"
      },
      "source": [
        "### **Random Forest Classification**"
      ]
    },
    {
      "cell_type": "code",
      "metadata": {
        "colab": {
          "base_uri": "https://localhost:8080/"
        },
        "id": "trqX5GXFmv50",
        "outputId": "03ce4560-b99b-43ef-adac-fac219acad7f"
      },
      "source": [
        "# Random Forest Classification\n",
        "from sklearn.ensemble import RandomForestClassifier\n",
        "\n",
        "rf = RandomForestClassifier(n_estimators = 1000, random_state = 1)\n",
        "rf.fit(x_train.T, y_train.T)\n",
        "\n",
        "acc1 = rf.score(x_train.T,y_train.T)*100\n",
        "acc2 = rf.score(x_test.T,y_test.T)*100\n",
        "\n",
        "accuracies1['Random Forest'] = acc1\n",
        "accuracies2['Random Forest'] = acc2\n",
        "\n",
        "print(\"Random Forest Accuracy in Training Case : {:.2f}%\".format(acc1))\n",
        "print(\"Random Forest Accuracy in Testing Case : {:.2f}%\".format(acc2))"
      ],
      "execution_count": 40,
      "outputs": [
        {
          "output_type": "stream",
          "text": [
            "Random Forest Accuracy in Training Case : 100.00%\n",
            "Random Forest Accuracy in Testing Case : 73.12%\n"
          ],
          "name": "stdout"
        }
      ]
    },
    {
      "cell_type": "markdown",
      "metadata": {
        "id": "KO6I1SbwrbBp"
      },
      "source": [
        "### **K-Nearest Neighbour (KNN)**"
      ]
    },
    {
      "cell_type": "code",
      "metadata": {
        "colab": {
          "base_uri": "https://localhost:8080/"
        },
        "id": "Wsk9jMcirbmU",
        "outputId": "941ad22c-3a6d-4b42-ddec-64d6db167da9"
      },
      "source": [
        "# KNN Model\n",
        "from sklearn.neighbors import KNeighborsClassifier\n",
        "knn = KNeighborsClassifier(n_neighbors = 2)  # n_neighbors means k\n",
        "knn.fit(x_train.T, y_train.T)\n",
        "\n",
        "prediction1 = knn.predict(x_train.T)\n",
        "prediction2 = knn.predict(x_test.T)\n",
        "\n",
        "print(\"{}KNN Accuracy in Training Case: {:.2f}%\".format(2, knn.score(x_train.T, y_train.T)*100))\n",
        "print(\"{}KNN Accuracy in Testing Case: {:.2f}%\".format(2, knn.score(x_test.T, y_test.T)*100))"
      ],
      "execution_count": 41,
      "outputs": [
        {
          "output_type": "stream",
          "text": [
            "2KNN Accuracy in Training Case: 81.48%\n",
            "2KNN Accuracy in Testing Case: 65.59%\n"
          ],
          "name": "stdout"
        }
      ]
    },
    {
      "cell_type": "markdown",
      "metadata": {
        "id": "pNPEkRQ0pCwk"
      },
      "source": [
        "## **Artificial Neural Network**"
      ]
    },
    {
      "cell_type": "code",
      "metadata": {
        "colab": {
          "base_uri": "https://localhost:8080/",
          "height": 132
        },
        "id": "-vVizmxlpEU1",
        "outputId": "de6c73e2-b60f-463c-ab25-864d34b9ad7f"
      },
      "source": [
        "from keras.models import Sequential\n",
        "from keras.layers import Dense\n",
        "import tensorflow as tf\n",
        "\n",
        "model = Sequential()\n",
        "model.add(Dense(32,activation='relu',input_dim=8)\n",
        "model.add(Dense(1,activation='sigmoid'))\n",
        "model.compile(loss='binary_crossentropy',optimizer='adam',metrics=['accuracy'])\n",
        "model.fit(x_train,y_train,epochs=100, callbacks = tf.keras.callbacks.EarlyStopping(monitor='loss', patience=3))\n",
        "\n",
        "y_pred_nn  = model.predict(x_test)\n",
        "rounded     = [round(x[0]) for x in y_pred_nn]\n",
        "y_pred_nn = rounded\n",
        "score_nn    = round(accuracy_score(y_pred_nn,y_test)*100,2)\n",
        "print(\"The accuracy score we have achieved using Neural Network is: \"+str(score_nn)+\" %\")"
      ],
      "execution_count": 37,
      "outputs": [
        {
          "output_type": "error",
          "ename": "SyntaxError",
          "evalue": "ignored",
          "traceback": [
            "\u001b[0;36m  File \u001b[0;32m\"<ipython-input-37-58ba3a00734f>\"\u001b[0;36m, line \u001b[0;32m7\u001b[0m\n\u001b[0;31m    model.add(Dense(1,activation='sigmoid'))\u001b[0m\n\u001b[0m        ^\u001b[0m\n\u001b[0;31mSyntaxError\u001b[0m\u001b[0;31m:\u001b[0m invalid syntax\n"
          ]
        }
      ]
    }
  ]
}