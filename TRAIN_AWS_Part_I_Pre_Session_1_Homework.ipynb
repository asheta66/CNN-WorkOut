{
  "nbformat": 4,
  "nbformat_minor": 0,
  "metadata": {
    "colab": {
      "provenance": [],
      "collapsed_sections": [
        "6SmJqVpQyk5t",
        "xihUA2cZzw5S",
        "lIhX3Ylb1gVW",
        "UFYqcxws29-I",
        "7WjmGKyu4vbo"
      ],
      "include_colab_link": true
    },
    "kernelspec": {
      "name": "python3",
      "display_name": "Python 3"
    },
    "language_info": {
      "name": "python"
    }
  },
  "cells": [
    {
      "cell_type": "markdown",
      "metadata": {
        "id": "view-in-github",
        "colab_type": "text"
      },
      "source": [
        "<a href=\"https://colab.research.google.com/github/asheta66/Experiments/blob/main/TRAIN_AWS_Part_I_Pre_Session_1_Homework.ipynb\" target=\"_parent\"><img src=\"https://colab.research.google.com/assets/colab-badge.svg\" alt=\"Open In Colab\"/></a>"
      ]
    },
    {
      "cell_type": "markdown",
      "source": [
        "# **Homework: Python Basics - Part 1**\n",
        "---\n",
        "\n"
      ],
      "metadata": {
        "id": "VpJoSzHkmseh"
      }
    },
    {
      "cell_type": "markdown",
      "source": [
        "### **Problem #1**\n",
        "---\n",
        "\n",
        "Modify the code to calculate the area of a rectangle whose length is 10 and width is 5."
      ],
      "metadata": {
        "id": "xwi8nagW-1ad"
      }
    },
    {
      "cell_type": "code",
      "source": [
        "length = 10\n",
        "width = 5\n",
        "area = length*width\n",
        "print(area)"
      ],
      "metadata": {
        "id": "ntGXhAFY9Yd-",
        "colab": {
          "base_uri": "https://localhost:8080/"
        },
        "outputId": "a0283718-6f83-47e7-8638-316208acc4e4"
      },
      "execution_count": null,
      "outputs": [
        {
          "output_type": "stream",
          "name": "stdout",
          "text": [
            "50\n"
          ]
        }
      ]
    },
    {
      "cell_type": "markdown",
      "source": [
        "### **Problem #2**\n",
        "---\n",
        "\n",
        "Modify the code to calculate the `cost_per_person` if the `total_cost` is 500."
      ],
      "metadata": {
        "id": "zLYs9izPCfMM"
      }
    },
    {
      "cell_type": "code",
      "source": [
        "total_cost = 500\n",
        "number_of_people = 5\n",
        "cost_per_person = total_cost/number_of_people\n",
        "print(cost_per_person)"
      ],
      "metadata": {
        "id": "QfgQPydj9gIl",
        "outputId": "9edb3fa0-a0ff-419e-b403-df1d469e873d",
        "colab": {
          "base_uri": "https://localhost:8080/"
        }
      },
      "execution_count": null,
      "outputs": [
        {
          "output_type": "stream",
          "name": "stdout",
          "text": [
            "100.0\n"
          ]
        }
      ]
    },
    {
      "cell_type": "markdown",
      "source": [
        "### **Problem #3**\n",
        "---\n",
        "\n",
        "Modify the code shown below to calculate the final exam grade needed when:\n",
        "\n",
        "| Exam         \t| Grade \t| Weight \t|\n",
        "|--------------\t|-------\t|--------\t|\n",
        "| Exam 1:      \t| 75    \t| 0.2    \t|\n",
        "| Exam 2:      \t| 82    \t| 0.2    \t|\n",
        "| Final Exam:  \t| ?     \t| 0.6    \t|\n",
        "| Final Grade: \t| 85    \t|        \t|"
      ],
      "metadata": {
        "id": "9FS3rfX9CrNU"
      }
    },
    {
      "cell_type": "code",
      "source": [
        "exam_1_grade = 75\n",
        "exam_1_weight = 0.2\n",
        "\n",
        "exam_2_grade = 82\n",
        "exam_2_weight = 0.2\n",
        "\n",
        "final_exam_weight = 0.6\n",
        "wanted_final_grade = 82.4\n",
        "\n",
        "required_grade_on_final = (wanted_final_grade- exam_1_grade*exam_1_weight - exam_2_grade*exam_2_weight)/final_exam_weight\n",
        "print(required_grade_on_final)"
      ],
      "metadata": {
        "colab": {
          "base_uri": "https://localhost:8080/"
        },
        "id": "_waPzkfG9sK4",
        "outputId": "4914b275-654d-498c-d7e8-d23ac30177b0"
      },
      "execution_count": null,
      "outputs": [
        {
          "output_type": "stream",
          "name": "stdout",
          "text": [
            "85.0\n"
          ]
        }
      ]
    },
    {
      "cell_type": "markdown",
      "source": [
        "### **Problem #4**\n",
        "---\n",
        "Print `Hello friends.`"
      ],
      "metadata": {
        "id": "XQ3zpD9G_rb3"
      }
    },
    {
      "cell_type": "code",
      "source": [
        "print(\"Hello friends\")"
      ],
      "metadata": {
        "id": "czESqJz_AKQP",
        "outputId": "2c2e264e-70d7-4c37-84ab-43e9ac7167df",
        "colab": {
          "base_uri": "https://localhost:8080/"
        }
      },
      "execution_count": null,
      "outputs": [
        {
          "output_type": "stream",
          "name": "stdout",
          "text": [
            "Hello friends\n"
          ]
        }
      ]
    },
    {
      "cell_type": "markdown",
      "source": [
        "### **Problem #5**\n",
        "---\n",
        "Print the number `10`."
      ],
      "metadata": {
        "id": "QinoVuPOAdBg"
      }
    },
    {
      "cell_type": "code",
      "source": [
        "print(\"10\")"
      ],
      "metadata": {
        "id": "arINPqrTAh5P",
        "outputId": "53501b40-56e2-4f99-ca26-7b9f7ac75dc6",
        "colab": {
          "base_uri": "https://localhost:8080/"
        }
      },
      "execution_count": null,
      "outputs": [
        {
          "output_type": "stream",
          "name": "stdout",
          "text": [
            "10\n"
          ]
        }
      ]
    },
    {
      "cell_type": "markdown",
      "source": [
        "### **Problem #6**\n",
        "---\n",
        "Create a variable that stores a list of three countries. Print the variable."
      ],
      "metadata": {
        "id": "oMCHyhfet4wi"
      }
    },
    {
      "cell_type": "code",
      "source": [
        "countries = [\"United States\", \"France\", \"Australia\"]\n",
        "print(countries)\n"
      ],
      "metadata": {
        "id": "x-OTbMmiuMU1",
        "outputId": "0f4b62b7-f2b5-4d29-eba2-bbd6f966ae94",
        "colab": {
          "base_uri": "https://localhost:8080/"
        }
      },
      "execution_count": null,
      "outputs": [
        {
          "output_type": "stream",
          "name": "stdout",
          "text": [
            "['United States', 'France', 'Australia']\n"
          ]
        }
      ]
    },
    {
      "cell_type": "markdown",
      "source": [
        "### **Problem #7**\n",
        "---\n",
        "Print the year."
      ],
      "metadata": {
        "id": "brKDsi2BuT75"
      }
    },
    {
      "cell_type": "code",
      "source": [
        "import datetime\n",
        "\n",
        "current_year = datetime.datetime.now().year\n",
        "print(current_year)\n"
      ],
      "metadata": {
        "id": "9liBz_fUus6T",
        "outputId": "0d2100f0-f047-46d9-a19b-e430b8ca1ac4",
        "colab": {
          "base_uri": "https://localhost:8080/"
        }
      },
      "execution_count": null,
      "outputs": [
        {
          "output_type": "stream",
          "name": "stdout",
          "text": [
            "2023\n"
          ]
        }
      ]
    },
    {
      "cell_type": "markdown",
      "source": [
        "### **Problem #8**\n",
        "---\n",
        "What is wrong with these declarations? If there is a problem, correct it. If there is not a problem, use a comment to write \"NONE\" on the same line."
      ],
      "metadata": {
        "id": "FeID_zqavKiq"
      }
    },
    {
      "cell_type": "markdown",
      "source": [
        "```\n",
        "1var = 10\n",
        "2var = 20\n",
        "3var = 30\n",
        "Var4 = 40\n",
        "VAR5 = 50\n",
        "var6 = 60\n",
        "month&year = \"July 2022\"\n",
        "hello = \"hello\"\n",
        "in = \"in\"\n",
        "```"
      ],
      "metadata": {
        "id": "BLgXAY79xwqs"
      }
    },
    {
      "cell_type": "markdown",
      "source": [
        "### **Problem #9**\n",
        "---\n",
        "Create a variable `name` and assign it to your name. Print `name`. Then, reassign `name` to a friend's name. Print again."
      ],
      "metadata": {
        "id": "-bnV4zY2yMs8"
      }
    },
    {
      "cell_type": "code",
      "source": [
        "name = \"Alaa\"\n",
        "print(name)\n",
        "\n",
        "name = \"Ahmed\"\n",
        "print(name)"
      ],
      "metadata": {
        "id": "xLdAevEYyREb",
        "outputId": "b5394396-b1cd-46d5-e4e4-557ca3619e48",
        "colab": {
          "base_uri": "https://localhost:8080/"
        }
      },
      "execution_count": null,
      "outputs": [
        {
          "output_type": "stream",
          "name": "stdout",
          "text": [
            "Alaa\n",
            "Ahmed\n"
          ]
        }
      ]
    },
    {
      "cell_type": "markdown",
      "source": [
        "### **Problem #10**\n",
        "---\n",
        "Label the following data types.\n",
        "```\n",
        "2\n",
        "8.9\n",
        "\"Train\"\n",
        "[\"string\"]\n",
        "5.0\n",
        "```\n",
        "\n",
        "\n"
      ],
      "metadata": {
        "id": "8E_hjAwnzJIJ"
      }
    },
    {
      "cell_type": "code",
      "source": [
        "value1 = 2\n",
        "value2 = 8.9\n",
        "value3 = \"Train\"\n",
        "value4 = [\"string\"]\n",
        "value5 = 5.0\n",
        "\n",
        "print(type(value1))\n",
        "print(type(value2))\n",
        "print(type(value3))\n",
        "print(type(value4))\n",
        "print(type(value5))\n"
      ],
      "metadata": {
        "id": "45p0iEPxawjL",
        "outputId": "0b254b13-061f-4a05-bd70-6092b52ddf0a",
        "colab": {
          "base_uri": "https://localhost:8080/"
        }
      },
      "execution_count": null,
      "outputs": [
        {
          "output_type": "stream",
          "name": "stdout",
          "text": [
            "<class 'int'>\n",
            "<class 'float'>\n",
            "<class 'str'>\n",
            "<class 'list'>\n",
            "<class 'float'>\n"
          ]
        }
      ]
    },
    {
      "cell_type": "markdown",
      "source": [
        "### **Problem #11**\n",
        "---\n",
        "Create a list called `nums` with the numbers 1, 2, and 3 inside."
      ],
      "metadata": {
        "id": "SrPLMMwVz8KX"
      }
    },
    {
      "cell_type": "code",
      "source": [
        "nums = [1, 2, 3]\n",
        "print(nums)"
      ],
      "metadata": {
        "id": "g9KJJhEB1gOE",
        "outputId": "a70e27c3-25ed-4f9a-fe4a-59959e172b19",
        "colab": {
          "base_uri": "https://localhost:8080/"
        }
      },
      "execution_count": null,
      "outputs": [
        {
          "output_type": "stream",
          "name": "stdout",
          "text": [
            "[1, 2, 3]\n"
          ]
        }
      ]
    },
    {
      "cell_type": "markdown",
      "source": [
        "### **Problem #12**\n",
        "---\n",
        "Which of the following is a valid variable name in Python:\n",
        "```\n",
        "a variable\n",
        "A_variable\n",
        "a.variable\n",
        "a_variable\n",
        "```"
      ],
      "metadata": {
        "id": "qnwg2dCe1waV"
      }
    },
    {
      "cell_type": "code",
      "source": [],
      "metadata": {
        "id": "bVMp5TTe1zHK"
      },
      "execution_count": null,
      "outputs": []
    },
    {
      "cell_type": "markdown",
      "source": [
        "### **Problem #13**\n",
        "---\n",
        "Using only variables, print the statement `\"I love coding\"`."
      ],
      "metadata": {
        "id": "GBHg9Rpo3CUS"
      }
    },
    {
      "cell_type": "code",
      "source": [
        "verb = \"love\"\n",
        "subject = \"coding\"\n",
        "\n",
        "print(\"I\" + \" \" +  verb + \" \" + subject)"
      ],
      "metadata": {
        "id": "mScrpvGv4vTH",
        "outputId": "c6a2fc3e-d6a5-40f5-91df-ff698694d043",
        "colab": {
          "base_uri": "https://localhost:8080/"
        }
      },
      "execution_count": null,
      "outputs": [
        {
          "output_type": "stream",
          "name": "stdout",
          "text": [
            "I love coding\n"
          ]
        }
      ]
    },
    {
      "cell_type": "markdown",
      "source": [
        "### **Problem #14**\n",
        "---\n",
        "Create variables `age` and `name`. Using these variables, print a message that says \"Hello, [your name]! You are [your age] years old.\""
      ],
      "metadata": {
        "id": "rn1m4Qxf404c"
      }
    },
    {
      "cell_type": "code",
      "source": [
        "name = \"John\"\n",
        "age = 30\n",
        "\n",
        "print(\"Hello, {}! You are {} years old.\".format(name, age))\n"
      ],
      "metadata": {
        "id": "fIwSmGAX43HV",
        "outputId": "6e50bd47-04db-4d77-a628-1b3a6d890747",
        "colab": {
          "base_uri": "https://localhost:8080/"
        }
      },
      "execution_count": null,
      "outputs": [
        {
          "output_type": "stream",
          "name": "stdout",
          "text": [
            "Hello, John! You are 30 years old.\n"
          ]
        }
      ]
    },
    {
      "cell_type": "markdown",
      "source": [
        "### **Problem #15**\n",
        "---\n",
        "Create variables `zipcode`, `city` and `state`. Using these variables, print a message that says \"[your zipcode] is a zipcode in [your city], [your state].\""
      ],
      "metadata": {
        "id": "vdykJ8qiZWnz"
      }
    },
    {
      "cell_type": "code",
      "source": [
        "zipcode = \"12345\"\n",
        "city = \"Exampletown\"\n",
        "state = \"Examplestate\"\n",
        "\n",
        "print(\"{} is a zipcode in {}, {}.\".format(zipcode, city, state))\n"
      ],
      "metadata": {
        "id": "zFN2pAisZWoA",
        "outputId": "f90fd716-5517-4604-bbcc-61404ea93967",
        "colab": {
          "base_uri": "https://localhost:8080/"
        }
      },
      "execution_count": null,
      "outputs": [
        {
          "output_type": "stream",
          "name": "stdout",
          "text": [
            "12345 is a zipcode in Exampletown, Examplestate.\n"
          ]
        }
      ]
    },
    {
      "cell_type": "markdown",
      "source": [
        "### **Problem #16**\n",
        "---\n",
        "If the `entered_password` is not equal to \"password123\", print \"Incorrect password.\" Otherwise, print \"Login successful.\""
      ],
      "metadata": {
        "id": "4hrlhxbIYk4H"
      }
    },
    {
      "cell_type": "code",
      "source": [
        "entered_password = \"pasword123\"\n",
        "\n",
        "if entered_password != \"password123\":\n",
        "    print(\"Incorrect password.\")\n",
        "else:\n",
        "    print(\"Login successful.\")\n"
      ],
      "metadata": {
        "id": "5PXY8POAYk4U",
        "outputId": "afc7aaff-5aa9-4189-d278-725a13772190",
        "colab": {
          "base_uri": "https://localhost:8080/"
        }
      },
      "execution_count": null,
      "outputs": [
        {
          "output_type": "stream",
          "name": "stdout",
          "text": [
            "Incorrect password.\n"
          ]
        }
      ]
    }
  ]
}