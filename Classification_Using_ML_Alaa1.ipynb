{
  "nbformat": 4,
  "nbformat_minor": 0,
  "metadata": {
    "kernelspec": {
      "display_name": "Python 3",
      "language": "python",
      "name": "python3"
    },
    "language_info": {
      "name": "python",
      "version": "3.6.6",
      "mimetype": "text/x-python",
      "codemirror_mode": {
        "name": "ipython",
        "version": 3
      },
      "pygments_lexer": "ipython3",
      "nbconvert_exporter": "python",
      "file_extension": ".py"
    },
    "colab": {
      "name": "Copy of heart-disease-classifications-machine-learning.ipynb",
      "provenance": [],
      "include_colab_link": true
    }
  },
  "cells": [
    {
      "cell_type": "markdown",
      "metadata": {
        "id": "view-in-github",
        "colab_type": "text"
      },
      "source": [
        "<a href=\"https://colab.research.google.com/github/asheta66/CNN-WorkOut/blob/main/Classification_Using_ML_Alaa1.ipynb\" target=\"_parent\"><img src=\"https://colab.research.google.com/assets/colab-badge.svg\" alt=\"Open In Colab\"/></a>"
      ]
    },
    {
      "cell_type": "markdown",
      "metadata": {
        "_uuid": "5878df22aae1c5888a07fe2c49d0bbe1551a3c55",
        "id": "_DmTvyNeDVwi"
      },
      "source": [
        "\n",
        "\n",
        "```\n",
        "# This is formatted as code\n",
        "```\n",
        "\n",
        "# Classification Using Machine Learning (Alaa1)\n",
        "<br>\n",
        "We have a data which classified if patients have heart disease or not according to features in it. We will try to use this data to create a model which tries predict if a patient has this disease or not. We will use logistic regression (classification) algorithm."
      ]
    },
    {
      "cell_type": "code",
      "metadata": {
        "_uuid": "8f2839f25d086af736a60e9eeb907d3b93b6e0e5",
        "_cell_guid": "b1076dfc-b9ad-4769-8c92-a6c4dae69d19",
        "trusted": true,
        "id": "wW-opvFIDVwj"
      },
      "source": [
        "# This Python 3 environment comes with many helpful analytics libraries installed\n",
        "# It is defined by the kaggle/python docker image: https://github.com/kaggle/docker-python\n",
        "# For example, here's several helpful packages to load in \n",
        "\n",
        "import numpy as np\n",
        "import pandas as pd\n",
        "import matplotlib.pyplot as plt\n",
        "import seaborn as sns\n",
        "import matplotlib.pyplot as plt \n",
        "plt.rc(\"font\", size=14)\n",
        "import seaborn as sns\n",
        "sns.set(style=\"white\")\n",
        "sns.set(style=\"whitegrid\", color_codes=True)\n",
        "#=============================================\n",
        "from sklearn import preprocessing\n",
        "from sklearn.linear_model import LogisticRegression\n",
        "from sklearn.model_selection import train_test_split\n",
        "#============================================="
      ],
      "execution_count": 73,
      "outputs": []
    },
    {
      "cell_type": "markdown",
      "metadata": {
        "_cell_guid": "79c7e3d0-c299-4dcb-8224-4455121ee9b0",
        "collapsed": true,
        "_uuid": "d629ff2d2480ee46fbb7e2d37f6b5fab8052498a",
        "trusted": false,
        "id": "EUX7WjW8DVwk"
      },
      "source": [
        "## Read Data"
      ]
    },
    {
      "cell_type": "code",
      "metadata": {
        "trusted": true,
        "_uuid": "8d0ffd4e0549f6f2eb24c7cc258256f2fb63ec48",
        "id": "yOaloGybDVwl"
      },
      "source": [
        "# We are reading our data\n",
        "url = \"https://raw.githubusercontent.com/asheta66/CNN-WorkOut/main/copd2.csv\"\n",
        "df  =  pd.read_csv(url)"
      ],
      "execution_count": 74,
      "outputs": []
    },
    {
      "cell_type": "code",
      "metadata": {
        "trusted": true,
        "_uuid": "4dee2636361981b0f92a8a585d49f581283d6222",
        "id": "mV1Ym-t4DVwl",
        "colab": {
          "base_uri": "https://localhost:8080/",
          "height": 236
        },
        "outputId": "1c3d1c80-919f-4b8a-c8d0-0583c87e2ca6"
      },
      "source": [
        "# First 5 rows of our data\n",
        "print(df.shape)\n",
        "print(list(df.columns))\n",
        "df.head()"
      ],
      "execution_count": 99,
      "outputs": [
        {
          "output_type": "stream",
          "text": [
            "(1857, 11)\n",
            "['height', 'weight', 'age', 'sex', 'race', 'fv1/fvc', 'fev1/fev6', 'smoker', 'cough', 'dapnea', 'target']\n"
          ],
          "name": "stdout"
        },
        {
          "output_type": "execute_result",
          "data": {
            "text/html": [
              "<div>\n",
              "<style scoped>\n",
              "    .dataframe tbody tr th:only-of-type {\n",
              "        vertical-align: middle;\n",
              "    }\n",
              "\n",
              "    .dataframe tbody tr th {\n",
              "        vertical-align: top;\n",
              "    }\n",
              "\n",
              "    .dataframe thead th {\n",
              "        text-align: right;\n",
              "    }\n",
              "</style>\n",
              "<table border=\"1\" class=\"dataframe\">\n",
              "  <thead>\n",
              "    <tr style=\"text-align: right;\">\n",
              "      <th></th>\n",
              "      <th>height</th>\n",
              "      <th>weight</th>\n",
              "      <th>age</th>\n",
              "      <th>sex</th>\n",
              "      <th>race</th>\n",
              "      <th>fv1/fvc</th>\n",
              "      <th>fev1/fev6</th>\n",
              "      <th>smoker</th>\n",
              "      <th>cough</th>\n",
              "      <th>dapnea</th>\n",
              "      <th>target</th>\n",
              "    </tr>\n",
              "  </thead>\n",
              "  <tbody>\n",
              "    <tr>\n",
              "      <th>0</th>\n",
              "      <td>66.50</td>\n",
              "      <td>165.0</td>\n",
              "      <td>66</td>\n",
              "      <td>0</td>\n",
              "      <td>0</td>\n",
              "      <td>48</td>\n",
              "      <td>102</td>\n",
              "      <td>1</td>\n",
              "      <td>1</td>\n",
              "      <td>1</td>\n",
              "      <td>1</td>\n",
              "    </tr>\n",
              "    <tr>\n",
              "      <th>1</th>\n",
              "      <td>68.75</td>\n",
              "      <td>204.0</td>\n",
              "      <td>66</td>\n",
              "      <td>0</td>\n",
              "      <td>0</td>\n",
              "      <td>52</td>\n",
              "      <td>79</td>\n",
              "      <td>1</td>\n",
              "      <td>0</td>\n",
              "      <td>0</td>\n",
              "      <td>1</td>\n",
              "    </tr>\n",
              "    <tr>\n",
              "      <th>2</th>\n",
              "      <td>68.00</td>\n",
              "      <td>197.0</td>\n",
              "      <td>59</td>\n",
              "      <td>0</td>\n",
              "      <td>1</td>\n",
              "      <td>80</td>\n",
              "      <td>69</td>\n",
              "      <td>0</td>\n",
              "      <td>1</td>\n",
              "      <td>1</td>\n",
              "      <td>1</td>\n",
              "    </tr>\n",
              "    <tr>\n",
              "      <th>3</th>\n",
              "      <td>62.00</td>\n",
              "      <td>141.0</td>\n",
              "      <td>79</td>\n",
              "      <td>1</td>\n",
              "      <td>0</td>\n",
              "      <td>69</td>\n",
              "      <td>99</td>\n",
              "      <td>1</td>\n",
              "      <td>0</td>\n",
              "      <td>1</td>\n",
              "      <td>1</td>\n",
              "    </tr>\n",
              "    <tr>\n",
              "      <th>4</th>\n",
              "      <td>61.50</td>\n",
              "      <td>159.0</td>\n",
              "      <td>80</td>\n",
              "      <td>1</td>\n",
              "      <td>0</td>\n",
              "      <td>70</td>\n",
              "      <td>102</td>\n",
              "      <td>1</td>\n",
              "      <td>1</td>\n",
              "      <td>0</td>\n",
              "      <td>1</td>\n",
              "    </tr>\n",
              "  </tbody>\n",
              "</table>\n",
              "</div>"
            ],
            "text/plain": [
              "   height  weight  age  sex  race  ...  fev1/fev6  smoker  cough  dapnea  target\n",
              "0   66.50   165.0   66    0     0  ...        102       1      1       1       1\n",
              "1   68.75   204.0   66    0     0  ...         79       1      0       0       1\n",
              "2   68.00   197.0   59    0     1  ...         69       0      1       1       1\n",
              "3   62.00   141.0   79    1     0  ...         99       1      0       1       1\n",
              "4   61.50   159.0   80    1     0  ...        102       1      1       0       1\n",
              "\n",
              "[5 rows x 11 columns]"
            ]
          },
          "metadata": {
            "tags": []
          },
          "execution_count": 99
        }
      ]
    },
    {
      "cell_type": "markdown",
      "metadata": {
        "_uuid": "e7df2228490edc65cef3d01659b4ef96fe15e191",
        "id": "BpJ-U1h1DVwl"
      },
      "source": [
        "Data contains; <br>\n",
        "\n",
        "*   height\t<br>\n",
        "*   weight\t<br>\n",
        "*   age - age in years\t<br> \n",
        "*   sex - (1 = male; 2 = female)<br> \t\n",
        "*   ace<br>\t\n",
        "*   fev1/fec<br>\t\n",
        "*   fev1/fev6 <br>\t\n",
        "*   smoker<br>\t\n",
        "*   cough\t<br>\n",
        "*   daonea<br>\n",
        "*  target - have disease or not (Y=yes, N=no)"
      ]
    },
    {
      "cell_type": "markdown",
      "metadata": {
        "_uuid": "5c510b6aea2f9083981bf75dc67c5250b3b891c7",
        "id": "06GuvUdODVwm"
      },
      "source": [
        "## Data Exploration"
      ]
    },
    {
      "cell_type": "code",
      "metadata": {
        "trusted": true,
        "_uuid": "00af1961381609399dd80ca7c6a950277c120357",
        "id": "eD5lqLcZDVwm",
        "colab": {
          "base_uri": "https://localhost:8080/"
        },
        "outputId": "ffcb8ebb-d8a0-4d40-ef89-4d2a475b84b8"
      },
      "source": [
        "df.target.value_counts()"
      ],
      "execution_count": 76,
      "outputs": [
        {
          "output_type": "execute_result",
          "data": {
            "text/plain": [
              "0    1151\n",
              "1     706\n",
              "Name: target, dtype: int64"
            ]
          },
          "metadata": {
            "tags": []
          },
          "execution_count": 76
        }
      ]
    },
    {
      "cell_type": "code",
      "metadata": {
        "trusted": true,
        "_uuid": "f0c639a82d794e41978199f7fa4405a01a7b805e",
        "id": "V-8VimrTDVwm",
        "colab": {
          "base_uri": "https://localhost:8080/",
          "height": 287
        },
        "outputId": "08ca30ea-a85d-45b5-e864-5ddb9fbbf960"
      },
      "source": [
        "sns.countplot(x=\"target\", data=df, palette=\"bwr\")\n",
        "plt.show()"
      ],
      "execution_count": 77,
      "outputs": [
        {
          "output_type": "display_data",
          "data": {
            "image/png": "[encoded data removed]",
            "text/plain": [
              "<Figure size 432x288 with 1 Axes>"
            ]
          },
          "metadata": {
            "tags": []
          }
        }
      ]
    },
    {
      "cell_type": "code",
      "metadata": {
        "trusted": true,
        "_uuid": "dd20ffc31d87de07a6f2941b0500cda8c0b1b8e6",
        "id": "hqOzkC9xDVwn",
        "colab": {
          "base_uri": "https://localhost:8080/"
        },
        "outputId": "1964ce40-acd8-4ee2-9a85-7aaafe671145"
      },
      "source": [
        "countNoDisease = len(df[df.target == 1])\n",
        "countHaveDisease = len(df[df.target == 0])\n",
        "print(\"Percentage of Patients Haven't Heart Disease: {:.2f}%\".format((countNoDisease / (len(df.target))*100)))\n",
        "print(\"Percentage of Patients Have Heart Disease: {:.2f}%\".format((countHaveDisease / (len(df.target))*100)))"
      ],
      "execution_count": 78,
      "outputs": [
        {
          "output_type": "stream",
          "text": [
            "Percentage of Patients Haven't Heart Disease: 38.02%\n",
            "Percentage of Patients Have Heart Disease: 61.98%\n"
          ],
          "name": "stdout"
        }
      ]
    },
    {
      "cell_type": "code",
      "metadata": {
        "trusted": true,
        "_uuid": "aca4074785c40bcf036a59c14c78e3a503904724",
        "id": "1ggZTqy1DVwn",
        "colab": {
          "base_uri": "https://localhost:8080/",
          "height": 285
        },
        "outputId": "e12b3f43-ea5e-4dbd-bf93-3046e15631d8"
      },
      "source": [
        "sns.countplot(x='sex', data=df, palette=\"mako_r\")\n",
        "plt.xlabel(\"Sex (1= male, 2 = female)\")\n",
        "plt.show()"
      ],
      "execution_count": 79,
      "outputs": [
        {
          "output_type": "display_data",
          "data": {
            "image/png": "[encoded data removed]",
            "text/plain": [
              "<Figure size 432x288 with 1 Axes>"
            ]
          },
          "metadata": {
            "tags": []
          }
        }
      ]
    },
    {
      "cell_type": "code",
      "metadata": {
        "trusted": true,
        "_uuid": "8780860cb02768a3bf112a41ab67f1f6bebe9146",
        "id": "FHSg2aSYDVwn",
        "colab": {
          "base_uri": "https://localhost:8080/"
        },
        "outputId": "a283b161-7456-400e-c3cb-18211280719b"
      },
      "source": [
        "countFemale = len(df[df.sex == 1])\n",
        "countMale = len(df[df.sex == 0])\n",
        "print(\"Percentage of Female Patients: {:.2f}%\".format((countFemale / (len(df.sex))*100)))\n",
        "print(\"Percentage of Male Patients: {:.2f}%\".format((countMale / (len(df.sex))*100)))"
      ],
      "execution_count": 80,
      "outputs": [
        {
          "output_type": "stream",
          "text": [
            "Percentage of Female Patients: 54.39%\n",
            "Percentage of Male Patients: 45.61%\n"
          ],
          "name": "stdout"
        }
      ]
    },
    {
      "cell_type": "code",
      "metadata": {
        "trusted": true,
        "_uuid": "435f8691396c6f2b1a901809286eb64112126582",
        "id": "5p1Me1hWDVwn",
        "colab": {
          "base_uri": "https://localhost:8080/",
          "height": 141
        },
        "outputId": "93f69fe0-1ea1-45a5-f542-ba05cbd9d5d9"
      },
      "source": [
        "df.groupby('target').mean()"
      ],
      "execution_count": 81,
      "outputs": [
        {
          "output_type": "execute_result",
          "data": {
            "text/html": [
              "<div>\n",
              "<style scoped>\n",
              "    .dataframe tbody tr th:only-of-type {\n",
              "        vertical-align: middle;\n",
              "    }\n",
              "\n",
              "    .dataframe tbody tr th {\n",
              "        vertical-align: top;\n",
              "    }\n",
              "\n",
              "    .dataframe thead th {\n",
              "        text-align: right;\n",
              "    }\n",
              "</style>\n",
              "<table border=\"1\" class=\"dataframe\">\n",
              "  <thead>\n",
              "    <tr style=\"text-align: right;\">\n",
              "      <th></th>\n",
              "      <th>height</th>\n",
              "      <th>weight</th>\n",
              "      <th>age</th>\n",
              "      <th>sex</th>\n",
              "      <th>race</th>\n",
              "      <th>fv1/fvc</th>\n",
              "      <th>fev1/fev6</th>\n",
              "      <th>smoker</th>\n",
              "      <th>cough</th>\n",
              "      <th>dapnea</th>\n",
              "    </tr>\n",
              "    <tr>\n",
              "      <th>target</th>\n",
              "      <th></th>\n",
              "      <th></th>\n",
              "      <th></th>\n",
              "      <th></th>\n",
              "      <th></th>\n",
              "      <th></th>\n",
              "      <th></th>\n",
              "      <th></th>\n",
              "      <th></th>\n",
              "      <th></th>\n",
              "    </tr>\n",
              "  </thead>\n",
              "  <tbody>\n",
              "    <tr>\n",
              "      <th>0</th>\n",
              "      <td>64.283927</td>\n",
              "      <td>194.215769</td>\n",
              "      <td>65.253692</td>\n",
              "      <td>0.569939</td>\n",
              "      <td>0.508254</td>\n",
              "      <td>78.490009</td>\n",
              "      <td>98.360556</td>\n",
              "      <td>0.494353</td>\n",
              "      <td>0.572546</td>\n",
              "      <td>0.743701</td>\n",
              "    </tr>\n",
              "    <tr>\n",
              "      <th>1</th>\n",
              "      <td>64.278329</td>\n",
              "      <td>184.364023</td>\n",
              "      <td>70.779037</td>\n",
              "      <td>0.501416</td>\n",
              "      <td>0.337110</td>\n",
              "      <td>65.060907</td>\n",
              "      <td>85.046742</td>\n",
              "      <td>0.824363</td>\n",
              "      <td>0.614731</td>\n",
              "      <td>0.841360</td>\n",
              "    </tr>\n",
              "  </tbody>\n",
              "</table>\n",
              "</div>"
            ],
            "text/plain": [
              "           height      weight        age  ...    smoker     cough    dapnea\n",
              "target                                    ...                              \n",
              "0       64.283927  194.215769  65.253692  ...  0.494353  0.572546  0.743701\n",
              "1       64.278329  184.364023  70.779037  ...  0.824363  0.614731  0.841360\n",
              "\n",
              "[2 rows x 10 columns]"
            ]
          },
          "metadata": {
            "tags": []
          },
          "execution_count": 81
        }
      ]
    },
    {
      "cell_type": "code",
      "metadata": {
        "trusted": true,
        "_uuid": "e0eed947b5490e93a43515ad6d2a6af9713f16ce",
        "id": "D1S3FvLqDVwo",
        "colab": {
          "base_uri": "https://localhost:8080/",
          "height": 414
        },
        "outputId": "68951c26-a18f-40f8-d086-c16349309aeb"
      },
      "source": [
        "pd.crosstab(df.age,df.target).plot(kind=\"bar\",figsize=(20,6))\n",
        "plt.title('COPD for Ages')\n",
        "plt.xlabel('Age')\n",
        "plt.ylabel('Frequency')\n",
        "plt.savefig('COPDforAges.png')\n",
        "plt.show()"
      ],
      "execution_count": 82,
      "outputs": [
        {
          "output_type": "display_data",
          "data": {
            "image/png": "[encoded data removed]",
            "text/plain": [
              "<Figure size 1440x432 with 1 Axes>"
            ]
          },
          "metadata": {
            "tags": []
          }
        }
      ]
    },
    {
      "cell_type": "code",
      "metadata": {
        "colab": {
          "base_uri": "https://localhost:8080/",
          "height": 407
        },
        "id": "ThHoatxwNdpw",
        "outputId": "783ad6ad-261e-43f7-aa6e-b7d0a3afcb33"
      },
      "source": [
        "pd.crosstab(df.smoker,df.target).plot(kind=\"bar\",figsize=(20,6))\n",
        "plt.title('COPD for Smoker')\n",
        "plt.xlabel('Smoker (0=Smoker 1=Non Smoker')\n",
        "plt.ylabel('Frequency')\n",
        "plt.savefig('COPDforSmoker.png')\n",
        "plt.show()"
      ],
      "execution_count": 85,
      "outputs": [
        {
          "output_type": "display_data",
          "data": {
            "image/png": "[encoded data removed]",
            "text/plain": [
              "<Figure size 1440x432 with 1 Axes>"
            ]
          },
          "metadata": {
            "tags": []
          }
        }
      ]
    },
    {
      "cell_type": "code",
      "metadata": {
        "trusted": true,
        "_uuid": "1cb0e9e4ec00ca7caa2e77a03dd0289e1c549708",
        "id": "vz_ERoyMDVwo",
        "colab": {
          "base_uri": "https://localhost:8080/",
          "height": 410
        },
        "outputId": "0c7e6cb9-85b7-443c-abb2-0db73c9178ee"
      },
      "source": [
        "pd.crosstab(df.race,df.target).plot(kind=\"bar\",figsize=(15,6),color=['#1CA53B','#AA1111' ])\n",
        "plt.title('COPD for Race')\n",
        "plt.xlabel('Sex (1=CAUCASIAN, 2=HISPANIC, 3=AFRICAN AMERICAN)')\n",
        "plt.xticks(rotation=0)\n",
        "plt.legend([\"Haven't Disease\", \"Have Disease\"])\n",
        "plt.ylabel('Frequency')\n",
        "plt.show()"
      ],
      "execution_count": 86,
      "outputs": [
        {
          "output_type": "display_data",
          "data": {
            "image/png": "[encoded data removed]",
            "text/plain": [
              "<Figure size 1080x432 with 1 Axes>"
            ]
          },
          "metadata": {
            "tags": []
          }
        }
      ]
    },
    {
      "cell_type": "code",
      "metadata": {
        "trusted": true,
        "_uuid": "e5fe0744106dc26475e2e0274081789518ad8a51",
        "id": "i8m8fY_9DVwo",
        "colab": {
          "base_uri": "https://localhost:8080/",
          "height": 285
        },
        "outputId": "eab91122-5f8c-4130-b30b-e674cd6d855e"
      },
      "source": [
        "plt.scatter(x=df.age[df.target==0], y=df.height[(df.target==0)], c=\"red\")\n",
        "plt.scatter(x=df.age[df.target==1], y=df.height[(df.target==1)])\n",
        "plt.legend([\"Disease\", \"Not Disease\"])\n",
        "plt.xlabel(\"Age\")\n",
        "plt.ylabel(\"COPD\")\n",
        "plt.show()"
      ],
      "execution_count": 87,
      "outputs": [
        {
          "output_type": "display_data",
          "data": {
            "image/png": "[encoded data removed]",
            "text/plain": [
              "<Figure size 432x288 with 1 Axes>"
            ]
          },
          "metadata": {
            "tags": []
          }
        }
      ]
    },
    {
      "cell_type": "code",
      "metadata": {
        "colab": {
          "base_uri": "https://localhost:8080/",
          "height": 288
        },
        "id": "433vqAQFQ4qp",
        "outputId": "681baff7-35b8-440d-84ab-4d34da9debf4"
      },
      "source": [
        "plt.scatter(x=df.age[df.target==0], y=df.weight[(df.target==0)], c=\"red\")\n",
        "plt.scatter(x=df.age[df.target==1], y=df.weight[(df.target==1)])\n",
        "plt.legend([\"Disease\", \"Not Disease\"])\n",
        "plt.xlabel(\"Age\")\n",
        "plt.ylabel(\"COPD\")\n",
        "plt.show()"
      ],
      "execution_count": 88,
      "outputs": [
        {
          "output_type": "display_data",
          "data": {
            "image/png": "[encoded data removed]",
            "text/plain": [
              "<Figure size 432x288 with 1 Axes>"
            ]
          },
          "metadata": {
            "tags": []
          }
        }
      ]
    },
    {
      "cell_type": "markdown",
      "metadata": {
        "_uuid": "e2a8abf83186e8ddff507765dcea4e575e677624",
        "id": "T8w376zbDVwp"
      },
      "source": [
        "### Creating Dummy Variables"
      ]
    },
    {
      "cell_type": "markdown",
      "metadata": {
        "_uuid": "5d3461c57453ac62a71185997d716b755d00fa33",
        "id": "Qq21WvWPDVwp"
      },
      "source": [
        "![](http://)Since 'smoker',\t'cough' and 'dYspNea' are categorical variables we'll turn them into dummy variables."
      ]
    },
    {
      "cell_type": "code",
      "metadata": {
        "trusted": true,
        "_uuid": "c2fb6259a757a62926b86aa0eea6f663a8ec094f",
        "id": "_HoO8ybBDVwq"
      },
      "source": [
        "#b = pd.get_dummies(df['cough'], prefix = \"cough\")\n",
        "#c = pd.get_dummies(df['smoker'], prefix = \"dYspNea\")"
      ],
      "execution_count": 89,
      "outputs": []
    },
    {
      "cell_type": "code",
      "metadata": {
        "trusted": true,
        "_uuid": "50380d91358131ae6b852c9666e4da5c2e4dee66",
        "id": "GN2hYQbSDVwq"
      },
      "source": [
        "#frames = [df, b, c]\n",
        "#df = pd.concat(frames, axis = 1)\n",
        "#df.head()"
      ],
      "execution_count": 29,
      "outputs": []
    },
    {
      "cell_type": "code",
      "metadata": {
        "trusted": true,
        "_uuid": "01011d45333bde3d9f95e3db93ae4517c72a741f",
        "id": "k-qnXkqmDVwq"
      },
      "source": [
        "#df = df.drop(columns = ['cough', 'dYspNea'])\n",
        "#df.head()"
      ],
      "execution_count": 30,
      "outputs": []
    },
    {
      "cell_type": "markdown",
      "metadata": {
        "_uuid": "ea92dc67483868424e1bb15527d28be93dfeb208",
        "id": "Zos-UNZbDVwq"
      },
      "source": [
        "## Creating Model for Logistic Regression\n",
        "<br>\n",
        "We can use sklearn library or we can write functions ourselves. Let's them both. Firstly we will write our functions after that we'll use sklearn library to calculate score."
      ]
    },
    {
      "cell_type": "code",
      "metadata": {
        "trusted": true,
        "_uuid": "2e4577118ef837e24c955ea81562d8fb51a22b1c",
        "id": "krd8fKV5DVwq"
      },
      "source": [
        "y = df.target.values\n",
        "x_data = df.drop(['target'], axis = 1)"
      ],
      "execution_count": 90,
      "outputs": []
    },
    {
      "cell_type": "markdown",
      "metadata": {
        "_uuid": "ee237d0ae2c7686cf7fda643f32bb55add7b4787",
        "id": "Vx4wXHArDVwq"
      },
      "source": [
        "### Normalize Data\n",
        "<br>\n",
        "<br>\n",
        "<img src=\"https://beyondbacktesting.files.wordpress.com/2017/07/normalization.png?w=863\" width=\"400px\"/>"
      ]
    },
    {
      "cell_type": "code",
      "metadata": {
        "trusted": true,
        "_uuid": "c60916b235e1962a53f95593b8d020c0acc079ed",
        "id": "4SI3RPArDVwr"
      },
      "source": [
        "# Normalize\n",
        "x = (x_data - np.min(x_data)) / (np.max(x_data) - np.min(x_data)).values"
      ],
      "execution_count": 32,
      "outputs": []
    },
    {
      "cell_type": "markdown",
      "metadata": {
        "_uuid": "ef33f3d73211dca77ef04035492c6772685822bb",
        "id": "nLeFe_MBDVwr"
      },
      "source": [
        "We will split our data. 80% of our data will be train data and 20% of it will be test data."
      ]
    },
    {
      "cell_type": "code",
      "metadata": {
        "trusted": true,
        "_uuid": "3090d1ba1e8776706d23a1175db6d1451908a954",
        "id": "mOk6eq9lDVwr"
      },
      "source": [
        "x_train, x_test, y_train, y_test = train_test_split(x,y,test_size = 0.2,random_state=0)"
      ],
      "execution_count": 33,
      "outputs": []
    },
    {
      "cell_type": "code",
      "metadata": {
        "trusted": true,
        "_uuid": "880e2db253fd1125bfa065ba0ae8840b68687e42",
        "id": "MskW7K3MDVwr"
      },
      "source": [
        "#transpose matrices\n",
        "x_train = x_train.T\n",
        "y_train = y_train.T\n",
        "x_test = x_test.T\n",
        "y_test = y_test.T"
      ],
      "execution_count": 34,
      "outputs": []
    },
    {
      "cell_type": "code",
      "metadata": {
        "colab": {
          "base_uri": "https://localhost:8080/",
          "height": 0
        },
        "id": "9FVePqeOSugY",
        "outputId": "4f0edb71-dc68-47c6-de56-29da77da4ede"
      },
      "source": [
        "x_train.head()"
      ],
      "execution_count": 35,
      "outputs": [
        {
          "output_type": "execute_result",
          "data": {
            "text/html": [
              "<div>\n",
              "<style scoped>\n",
              "    .dataframe tbody tr th:only-of-type {\n",
              "        vertical-align: middle;\n",
              "    }\n",
              "\n",
              "    .dataframe tbody tr th {\n",
              "        vertical-align: top;\n",
              "    }\n",
              "\n",
              "    .dataframe thead th {\n",
              "        text-align: right;\n",
              "    }\n",
              "</style>\n",
              "<table border=\"1\" class=\"dataframe\">\n",
              "  <thead>\n",
              "    <tr style=\"text-align: right;\">\n",
              "      <th></th>\n",
              "      <th>1084</th>\n",
              "      <th>553</th>\n",
              "      <th>1409</th>\n",
              "      <th>1311</th>\n",
              "      <th>1135</th>\n",
              "      <th>1533</th>\n",
              "      <th>768</th>\n",
              "      <th>1197</th>\n",
              "      <th>961</th>\n",
              "      <th>501</th>\n",
              "      <th>1205</th>\n",
              "      <th>810</th>\n",
              "      <th>1097</th>\n",
              "      <th>302</th>\n",
              "      <th>539</th>\n",
              "      <th>904</th>\n",
              "      <th>171</th>\n",
              "      <th>1414</th>\n",
              "      <th>1614</th>\n",
              "      <th>452</th>\n",
              "      <th>270</th>\n",
              "      <th>227</th>\n",
              "      <th>1187</th>\n",
              "      <th>1639</th>\n",
              "      <th>1509</th>\n",
              "      <th>1686</th>\n",
              "      <th>616</th>\n",
              "      <th>1586</th>\n",
              "      <th>1344</th>\n",
              "      <th>979</th>\n",
              "      <th>1367</th>\n",
              "      <th>557</th>\n",
              "      <th>1670</th>\n",
              "      <th>996</th>\n",
              "      <th>1148</th>\n",
              "      <th>378</th>\n",
              "      <th>579</th>\n",
              "      <th>1368</th>\n",
              "      <th>379</th>\n",
              "      <th>192</th>\n",
              "      <th>...</th>\n",
              "      <th>1201</th>\n",
              "      <th>99</th>\n",
              "      <th>850</th>\n",
              "      <th>448</th>\n",
              "      <th>1455</th>\n",
              "      <th>1733</th>\n",
              "      <th>755</th>\n",
              "      <th>976</th>\n",
              "      <th>115</th>\n",
              "      <th>777</th>\n",
              "      <th>72</th>\n",
              "      <th>845</th>\n",
              "      <th>537</th>\n",
              "      <th>1701</th>\n",
              "      <th>849</th>\n",
              "      <th>1624</th>\n",
              "      <th>174</th>\n",
              "      <th>87</th>\n",
              "      <th>551</th>\n",
              "      <th>1510</th>\n",
              "      <th>705</th>\n",
              "      <th>314</th>\n",
              "      <th>1420</th>\n",
              "      <th>600</th>\n",
              "      <th>1496</th>\n",
              "      <th>1094</th>\n",
              "      <th>599</th>\n",
              "      <th>1828</th>\n",
              "      <th>1778</th>\n",
              "      <th>277</th>\n",
              "      <th>1747</th>\n",
              "      <th>1033</th>\n",
              "      <th>1383</th>\n",
              "      <th>1731</th>\n",
              "      <th>763</th>\n",
              "      <th>835</th>\n",
              "      <th>1216</th>\n",
              "      <th>1653</th>\n",
              "      <th>559</th>\n",
              "      <th>684</th>\n",
              "    </tr>\n",
              "  </thead>\n",
              "  <tbody>\n",
              "    <tr>\n",
              "      <th>height</th>\n",
              "      <td>0.754967</td>\n",
              "      <td>0.725166</td>\n",
              "      <td>0.754967</td>\n",
              "      <td>0.788079</td>\n",
              "      <td>0.781457</td>\n",
              "      <td>0.672185</td>\n",
              "      <td>0.701987</td>\n",
              "      <td>0.804636</td>\n",
              "      <td>0.778146</td>\n",
              "      <td>0.801325</td>\n",
              "      <td>0.771523</td>\n",
              "      <td>0.685430</td>\n",
              "      <td>0.731788</td>\n",
              "      <td>0.850993</td>\n",
              "      <td>0.778146</td>\n",
              "      <td>0.827815</td>\n",
              "      <td>0.721854</td>\n",
              "      <td>0.735099</td>\n",
              "      <td>0.708609</td>\n",
              "      <td>0.741722</td>\n",
              "      <td>0.768212</td>\n",
              "      <td>0.708609</td>\n",
              "      <td>0.718543</td>\n",
              "      <td>0.754967</td>\n",
              "      <td>0.784768</td>\n",
              "      <td>0.764901</td>\n",
              "      <td>0.748344</td>\n",
              "      <td>0.711921</td>\n",
              "      <td>0.850993</td>\n",
              "      <td>0.754967</td>\n",
              "      <td>0.814570</td>\n",
              "      <td>0.754967</td>\n",
              "      <td>0.827815</td>\n",
              "      <td>0.761589</td>\n",
              "      <td>0.721854</td>\n",
              "      <td>0.751656</td>\n",
              "      <td>0.695364</td>\n",
              "      <td>0.894040</td>\n",
              "      <td>0.748344</td>\n",
              "      <td>0.807947</td>\n",
              "      <td>...</td>\n",
              "      <td>0.814570</td>\n",
              "      <td>0.721854</td>\n",
              "      <td>0.705298</td>\n",
              "      <td>0.831126</td>\n",
              "      <td>0.738411</td>\n",
              "      <td>0.774834</td>\n",
              "      <td>0.745033</td>\n",
              "      <td>0.831126</td>\n",
              "      <td>0.844371</td>\n",
              "      <td>0.788079</td>\n",
              "      <td>0.894040</td>\n",
              "      <td>0.649007</td>\n",
              "      <td>0.725166</td>\n",
              "      <td>0.735099</td>\n",
              "      <td>0.708609</td>\n",
              "      <td>0.801325</td>\n",
              "      <td>0.731788</td>\n",
              "      <td>0.834437</td>\n",
              "      <td>0.860927</td>\n",
              "      <td>0.741722</td>\n",
              "      <td>0.761589</td>\n",
              "      <td>0.715232</td>\n",
              "      <td>0.768212</td>\n",
              "      <td>0.629139</td>\n",
              "      <td>0.850993</td>\n",
              "      <td>0.784768</td>\n",
              "      <td>0.741722</td>\n",
              "      <td>0.824503</td>\n",
              "      <td>0.761589</td>\n",
              "      <td>0.738411</td>\n",
              "      <td>0.817881</td>\n",
              "      <td>0.807947</td>\n",
              "      <td>0.708609</td>\n",
              "      <td>0.804636</td>\n",
              "      <td>0.768212</td>\n",
              "      <td>0.811258</td>\n",
              "      <td>0.682119</td>\n",
              "      <td>0.725166</td>\n",
              "      <td>0.764901</td>\n",
              "      <td>0.735099</td>\n",
              "    </tr>\n",
              "    <tr>\n",
              "      <th>weight</th>\n",
              "      <td>0.220362</td>\n",
              "      <td>0.460147</td>\n",
              "      <td>0.110516</td>\n",
              "      <td>0.378433</td>\n",
              "      <td>0.370395</td>\n",
              "      <td>0.059612</td>\n",
              "      <td>0.745479</td>\n",
              "      <td>0.407904</td>\n",
              "      <td>0.287341</td>\n",
              "      <td>0.272605</td>\n",
              "      <td>0.410583</td>\n",
              "      <td>0.122572</td>\n",
              "      <td>0.563295</td>\n",
              "      <td>0.268587</td>\n",
              "      <td>0.397187</td>\n",
              "      <td>0.523108</td>\n",
              "      <td>0.415941</td>\n",
              "      <td>0.327528</td>\n",
              "      <td>0.204287</td>\n",
              "      <td>0.105157</td>\n",
              "      <td>0.351641</td>\n",
              "      <td>0.458808</td>\n",
              "      <td>0.351641</td>\n",
              "      <td>1.000000</td>\n",
              "      <td>0.732083</td>\n",
              "      <td>0.507033</td>\n",
              "      <td>0.083724</td>\n",
              "      <td>0.355660</td>\n",
              "      <td>0.415941</td>\n",
              "      <td>0.209645</td>\n",
              "      <td>0.758875</td>\n",
              "      <td>0.265908</td>\n",
              "      <td>0.188212</td>\n",
              "      <td>0.142666</td>\n",
              "      <td>0.694575</td>\n",
              "      <td>0.148024</td>\n",
              "      <td>0.186872</td>\n",
              "      <td>0.490958</td>\n",
              "      <td>0.541862</td>\n",
              "      <td>0.389149</td>\n",
              "      <td>...</td>\n",
              "      <td>0.343603</td>\n",
              "      <td>0.292699</td>\n",
              "      <td>0.219022</td>\n",
              "      <td>0.608841</td>\n",
              "      <td>0.335566</td>\n",
              "      <td>0.244474</td>\n",
              "      <td>0.732083</td>\n",
              "      <td>0.531145</td>\n",
              "      <td>0.890154</td>\n",
              "      <td>0.769591</td>\n",
              "      <td>0.332887</td>\n",
              "      <td>0.131949</td>\n",
              "      <td>0.097120</td>\n",
              "      <td>0.215003</td>\n",
              "      <td>0.164099</td>\n",
              "      <td>0.314133</td>\n",
              "      <td>0.265908</td>\n",
              "      <td>0.340924</td>\n",
              "      <td>0.555258</td>\n",
              "      <td>0.474883</td>\n",
              "      <td>0.427997</td>\n",
              "      <td>0.233758</td>\n",
              "      <td>0.260549</td>\n",
              "      <td>0.239116</td>\n",
              "      <td>0.450770</td>\n",
              "      <td>0.193570</td>\n",
              "      <td>0.223041</td>\n",
              "      <td>0.657066</td>\n",
              "      <td>0.359678</td>\n",
              "      <td>0.401206</td>\n",
              "      <td>0.565975</td>\n",
              "      <td>0.536504</td>\n",
              "      <td>0.279303</td>\n",
              "      <td>0.480241</td>\n",
              "      <td>0.379504</td>\n",
              "      <td>0.375754</td>\n",
              "      <td>0.287341</td>\n",
              "      <td>0.327528</td>\n",
              "      <td>0.306095</td>\n",
              "      <td>0.247153</td>\n",
              "    </tr>\n",
              "    <tr>\n",
              "      <th>age</th>\n",
              "      <td>0.753247</td>\n",
              "      <td>0.714286</td>\n",
              "      <td>0.675325</td>\n",
              "      <td>0.467532</td>\n",
              "      <td>0.649351</td>\n",
              "      <td>0.662338</td>\n",
              "      <td>0.493506</td>\n",
              "      <td>0.636364</td>\n",
              "      <td>0.662338</td>\n",
              "      <td>0.597403</td>\n",
              "      <td>0.727273</td>\n",
              "      <td>0.753247</td>\n",
              "      <td>0.623377</td>\n",
              "      <td>0.584416</td>\n",
              "      <td>0.753247</td>\n",
              "      <td>0.506494</td>\n",
              "      <td>0.649351</td>\n",
              "      <td>0.493506</td>\n",
              "      <td>0.987013</td>\n",
              "      <td>0.480519</td>\n",
              "      <td>0.753247</td>\n",
              "      <td>0.636364</td>\n",
              "      <td>0.636364</td>\n",
              "      <td>0.246753</td>\n",
              "      <td>0.571429</td>\n",
              "      <td>0.532468</td>\n",
              "      <td>0.740260</td>\n",
              "      <td>0.779221</td>\n",
              "      <td>0.584416</td>\n",
              "      <td>0.493506</td>\n",
              "      <td>0.220779</td>\n",
              "      <td>0.610390</td>\n",
              "      <td>0.571429</td>\n",
              "      <td>0.532468</td>\n",
              "      <td>0.636364</td>\n",
              "      <td>0.688312</td>\n",
              "      <td>0.792208</td>\n",
              "      <td>0.649351</td>\n",
              "      <td>0.636364</td>\n",
              "      <td>0.805195</td>\n",
              "      <td>...</td>\n",
              "      <td>0.779221</td>\n",
              "      <td>0.597403</td>\n",
              "      <td>0.779221</td>\n",
              "      <td>0.779221</td>\n",
              "      <td>0.623377</td>\n",
              "      <td>0.558442</td>\n",
              "      <td>0.402597</td>\n",
              "      <td>0.597403</td>\n",
              "      <td>0.324675</td>\n",
              "      <td>0.649351</td>\n",
              "      <td>0.649351</td>\n",
              "      <td>0.441558</td>\n",
              "      <td>0.779221</td>\n",
              "      <td>0.402597</td>\n",
              "      <td>0.727273</td>\n",
              "      <td>0.441558</td>\n",
              "      <td>0.688312</td>\n",
              "      <td>0.506494</td>\n",
              "      <td>0.649351</td>\n",
              "      <td>0.454545</td>\n",
              "      <td>0.688312</td>\n",
              "      <td>0.701299</td>\n",
              "      <td>0.506494</td>\n",
              "      <td>0.792208</td>\n",
              "      <td>0.558442</td>\n",
              "      <td>0.883117</td>\n",
              "      <td>0.493506</td>\n",
              "      <td>0.376623</td>\n",
              "      <td>0.441558</td>\n",
              "      <td>0.688312</td>\n",
              "      <td>0.623377</td>\n",
              "      <td>0.558442</td>\n",
              "      <td>0.818182</td>\n",
              "      <td>0.493506</td>\n",
              "      <td>0.649351</td>\n",
              "      <td>0.779221</td>\n",
              "      <td>0.636364</td>\n",
              "      <td>0.441558</td>\n",
              "      <td>0.545455</td>\n",
              "      <td>0.753247</td>\n",
              "    </tr>\n",
              "    <tr>\n",
              "      <th>sex</th>\n",
              "      <td>0.000000</td>\n",
              "      <td>1.000000</td>\n",
              "      <td>0.000000</td>\n",
              "      <td>0.000000</td>\n",
              "      <td>0.000000</td>\n",
              "      <td>1.000000</td>\n",
              "      <td>1.000000</td>\n",
              "      <td>0.000000</td>\n",
              "      <td>0.000000</td>\n",
              "      <td>0.000000</td>\n",
              "      <td>1.000000</td>\n",
              "      <td>1.000000</td>\n",
              "      <td>1.000000</td>\n",
              "      <td>0.000000</td>\n",
              "      <td>0.000000</td>\n",
              "      <td>0.000000</td>\n",
              "      <td>1.000000</td>\n",
              "      <td>1.000000</td>\n",
              "      <td>1.000000</td>\n",
              "      <td>1.000000</td>\n",
              "      <td>0.000000</td>\n",
              "      <td>1.000000</td>\n",
              "      <td>0.000000</td>\n",
              "      <td>1.000000</td>\n",
              "      <td>1.000000</td>\n",
              "      <td>1.000000</td>\n",
              "      <td>1.000000</td>\n",
              "      <td>1.000000</td>\n",
              "      <td>0.000000</td>\n",
              "      <td>1.000000</td>\n",
              "      <td>1.000000</td>\n",
              "      <td>1.000000</td>\n",
              "      <td>0.000000</td>\n",
              "      <td>1.000000</td>\n",
              "      <td>1.000000</td>\n",
              "      <td>1.000000</td>\n",
              "      <td>1.000000</td>\n",
              "      <td>0.000000</td>\n",
              "      <td>1.000000</td>\n",
              "      <td>1.000000</td>\n",
              "      <td>...</td>\n",
              "      <td>0.000000</td>\n",
              "      <td>1.000000</td>\n",
              "      <td>1.000000</td>\n",
              "      <td>0.000000</td>\n",
              "      <td>0.000000</td>\n",
              "      <td>0.000000</td>\n",
              "      <td>1.000000</td>\n",
              "      <td>0.000000</td>\n",
              "      <td>0.000000</td>\n",
              "      <td>1.000000</td>\n",
              "      <td>0.000000</td>\n",
              "      <td>1.000000</td>\n",
              "      <td>1.000000</td>\n",
              "      <td>1.000000</td>\n",
              "      <td>1.000000</td>\n",
              "      <td>1.000000</td>\n",
              "      <td>1.000000</td>\n",
              "      <td>0.000000</td>\n",
              "      <td>0.000000</td>\n",
              "      <td>1.000000</td>\n",
              "      <td>1.000000</td>\n",
              "      <td>1.000000</td>\n",
              "      <td>0.000000</td>\n",
              "      <td>1.000000</td>\n",
              "      <td>0.000000</td>\n",
              "      <td>0.000000</td>\n",
              "      <td>1.000000</td>\n",
              "      <td>0.000000</td>\n",
              "      <td>1.000000</td>\n",
              "      <td>1.000000</td>\n",
              "      <td>0.000000</td>\n",
              "      <td>0.000000</td>\n",
              "      <td>1.000000</td>\n",
              "      <td>0.000000</td>\n",
              "      <td>1.000000</td>\n",
              "      <td>0.000000</td>\n",
              "      <td>1.000000</td>\n",
              "      <td>1.000000</td>\n",
              "      <td>0.000000</td>\n",
              "      <td>1.000000</td>\n",
              "    </tr>\n",
              "    <tr>\n",
              "      <th>race</th>\n",
              "      <td>0.500000</td>\n",
              "      <td>0.500000</td>\n",
              "      <td>0.500000</td>\n",
              "      <td>0.500000</td>\n",
              "      <td>0.000000</td>\n",
              "      <td>0.000000</td>\n",
              "      <td>0.000000</td>\n",
              "      <td>0.000000</td>\n",
              "      <td>0.500000</td>\n",
              "      <td>0.000000</td>\n",
              "      <td>0.000000</td>\n",
              "      <td>0.000000</td>\n",
              "      <td>0.000000</td>\n",
              "      <td>0.000000</td>\n",
              "      <td>0.000000</td>\n",
              "      <td>0.500000</td>\n",
              "      <td>0.000000</td>\n",
              "      <td>0.500000</td>\n",
              "      <td>0.000000</td>\n",
              "      <td>0.000000</td>\n",
              "      <td>0.000000</td>\n",
              "      <td>0.500000</td>\n",
              "      <td>0.000000</td>\n",
              "      <td>0.500000</td>\n",
              "      <td>0.500000</td>\n",
              "      <td>0.000000</td>\n",
              "      <td>0.000000</td>\n",
              "      <td>0.000000</td>\n",
              "      <td>0.000000</td>\n",
              "      <td>0.000000</td>\n",
              "      <td>0.000000</td>\n",
              "      <td>0.500000</td>\n",
              "      <td>0.500000</td>\n",
              "      <td>0.000000</td>\n",
              "      <td>0.000000</td>\n",
              "      <td>0.000000</td>\n",
              "      <td>0.000000</td>\n",
              "      <td>0.000000</td>\n",
              "      <td>0.500000</td>\n",
              "      <td>0.000000</td>\n",
              "      <td>...</td>\n",
              "      <td>0.000000</td>\n",
              "      <td>0.000000</td>\n",
              "      <td>0.000000</td>\n",
              "      <td>0.000000</td>\n",
              "      <td>0.000000</td>\n",
              "      <td>0.000000</td>\n",
              "      <td>0.000000</td>\n",
              "      <td>0.500000</td>\n",
              "      <td>0.000000</td>\n",
              "      <td>0.000000</td>\n",
              "      <td>0.000000</td>\n",
              "      <td>0.500000</td>\n",
              "      <td>0.000000</td>\n",
              "      <td>0.500000</td>\n",
              "      <td>0.000000</td>\n",
              "      <td>0.000000</td>\n",
              "      <td>0.000000</td>\n",
              "      <td>0.500000</td>\n",
              "      <td>0.000000</td>\n",
              "      <td>0.500000</td>\n",
              "      <td>0.000000</td>\n",
              "      <td>0.500000</td>\n",
              "      <td>0.500000</td>\n",
              "      <td>0.500000</td>\n",
              "      <td>0.500000</td>\n",
              "      <td>0.000000</td>\n",
              "      <td>0.000000</td>\n",
              "      <td>0.000000</td>\n",
              "      <td>0.000000</td>\n",
              "      <td>0.000000</td>\n",
              "      <td>1.000000</td>\n",
              "      <td>0.000000</td>\n",
              "      <td>0.500000</td>\n",
              "      <td>0.500000</td>\n",
              "      <td>0.000000</td>\n",
              "      <td>0.000000</td>\n",
              "      <td>0.500000</td>\n",
              "      <td>0.500000</td>\n",
              "      <td>0.500000</td>\n",
              "      <td>0.500000</td>\n",
              "    </tr>\n",
              "  </tbody>\n",
              "</table>\n",
              "<p>5 rows × 1485 columns</p>\n",
              "</div>"
            ],
            "text/plain": [
              "            1084      553       1409  ...      1653      559       684 \n",
              "height  0.754967  0.725166  0.754967  ...  0.725166  0.764901  0.735099\n",
              "weight  0.220362  0.460147  0.110516  ...  0.327528  0.306095  0.247153\n",
              "age     0.753247  0.714286  0.675325  ...  0.441558  0.545455  0.753247\n",
              "sex     0.000000  1.000000  0.000000  ...  1.000000  0.000000  1.000000\n",
              "race    0.500000  0.500000  0.500000  ...  0.500000  0.500000  0.500000\n",
              "\n",
              "[5 rows x 1485 columns]"
            ]
          },
          "metadata": {
            "tags": []
          },
          "execution_count": 35
        }
      ]
    },
    {
      "cell_type": "markdown",
      "metadata": {
        "_uuid": "4933da952d5df4899eac737063ec7dc1aff23b2e",
        "id": "nLxfPmKoDVwr"
      },
      "source": [
        "Let's say weight = 0.01 and bias = 0.0"
      ]
    },
    {
      "cell_type": "code",
      "metadata": {
        "trusted": true,
        "_uuid": "e98deb17b979b67f57be48517cdcf631cd5363bc",
        "id": "MXrpkRmsDVwr"
      },
      "source": [
        "#initialize\n",
        "def initialize(dimension):    \n",
        "    weight = np.full((dimension,1),0.001)\n",
        "    bias = 0.0\n",
        "    return weight,bias"
      ],
      "execution_count": 36,
      "outputs": []
    },
    {
      "cell_type": "markdown",
      "metadata": {
        "_uuid": "d707c6af5f7d32c9d699494cfbeddc04a687d4f3",
        "id": "35LXuiXEDVwr"
      },
      "source": [
        "### Sigmoid Function\n",
        "<br>\n",
        "<img src=\"https://qph.fs.quoracdn.net/main-qimg-05edc1873d0103e36064862a45566dba\" width=\"500px\"/>"
      ]
    },
    {
      "cell_type": "code",
      "metadata": {
        "trusted": true,
        "_uuid": "116fc66d415563ca82b5400b7852cce9dad004ba",
        "id": "m2Chx-sQDVws"
      },
      "source": [
        "def sigmoid(z):\n",
        "  \n",
        "    y_head = 1/(1+ np.exp(-z))\n",
        "    return y_head"
      ],
      "execution_count": 37,
      "outputs": []
    },
    {
      "cell_type": "markdown",
      "metadata": {
        "_uuid": "3363dced8043a7db0ec0dc0464e14ff669c5b1d6",
        "id": "e6TeB-oRDVws"
      },
      "source": [
        "### Forward and Backward Propagation\n",
        "<br>\n",
        "<img src=\"https://image.slidesharecdn.com/gradientdescentbackpropandautomaticdifferentiation-160829164205/95/gradient-descent-back-propagation-and-auto-differentiation-advanced-spark-and-tensorflow-meetup-08042016-62-638.jpg?cb=1472489358\" width=\"500px\"/>"
      ]
    },
    {
      "cell_type": "markdown",
      "metadata": {
        "_uuid": "656c61dffe4729c195d84d117b2b8aa63c1cf9aa",
        "id": "MREvajDpDVws"
      },
      "source": [
        "### Cost Function\n",
        "<br>\n",
        "<img src=\"https://i.stack.imgur.com/XbU4S.png\" width=\"500px\"/>"
      ]
    },
    {
      "cell_type": "markdown",
      "metadata": {
        "_uuid": "948cf49e3a372a223ffcb809933e6aa0c1ad9515",
        "id": "5fVaYqTnDVws"
      },
      "source": [
        "### Gradient Descent\n",
        "<br>\n",
        "<img src=\"https://i.stack.imgur.com/pYVzl.png\" width=\"500px\"/>"
      ]
    },
    {
      "cell_type": "markdown",
      "metadata": {
        "_uuid": "34307d9833893a492402f94a467267175a24c8d8",
        "id": "ZaoInw0wDVws"
      },
      "source": [
        "By the way in formulas; <br>\n",
        "* h0(x^i)= y_head\n",
        "* y^i = y_train\n",
        "* x^i = x_train"
      ]
    },
    {
      "cell_type": "code",
      "metadata": {
        "trusted": true,
        "_uuid": "5998fbc58a696070458297830e30d4e4b036396d",
        "id": "UoR2ZEqzDVws"
      },
      "source": [
        "def forwardBackward(weight,bias,x_train,y_train):\n",
        "    # Forward\n",
        "    \n",
        "    y_head = sigmoid(np.dot(weight.T,x_train) + bias)\n",
        "    loss = -(y_train*np.log(y_head) + (1-y_train)*np.log(1-y_head))\n",
        "    cost = np.sum(loss) / x_train.shape[1]\n",
        "    \n",
        "    # Backward\n",
        "    derivative_weight = np.dot(x_train,((y_head-y_train).T))/x_train.shape[1]\n",
        "    derivative_bias = np.sum(y_head-y_train)/x_train.shape[1]\n",
        "    gradients = {\"Derivative Weight\" : derivative_weight, \"Derivative Bias\" : derivative_bias}\n",
        "    \n",
        "    return cost,gradients"
      ],
      "execution_count": 91,
      "outputs": []
    },
    {
      "cell_type": "code",
      "metadata": {
        "trusted": true,
        "_uuid": "0241c5bec516229c2832728e27782c273ca35b57",
        "id": "kqySW3DKDVwt"
      },
      "source": [
        "def update(weight,bias,x_train,y_train,learningRate,iteration) :\n",
        "    costList = []\n",
        "    index = []\n",
        "    \n",
        "    #for each iteration, update weight and bias values\n",
        "    for i in range(iteration):\n",
        "        cost,gradients = forwardBackward(weight,bias,x_train,y_train)\n",
        "        weight = weight - learningRate * gradients[\"Derivative Weight\"]\n",
        "        bias = bias - learningRate * gradients[\"Derivative Bias\"]\n",
        "        \n",
        "        costList.append(cost)\n",
        "        index.append(i)\n",
        "\n",
        "    parameters = {\"weight\": weight,\"bias\": bias}\n",
        "    \n",
        "    print(\"iteration:\",iteration)\n",
        "    print(\"cost:\",cost)\n",
        "\n",
        "    plt.plot(index,costList)\n",
        "    plt.xlabel(\"Number of Iteration\")\n",
        "    plt.ylabel(\"Cost\")\n",
        "    plt.show()\n",
        "\n",
        "    return parameters, gradients"
      ],
      "execution_count": 92,
      "outputs": []
    },
    {
      "cell_type": "code",
      "metadata": {
        "trusted": true,
        "_uuid": "a97c3ff651d88b280eb87ec076040f0becaf1f3e",
        "id": "AL-qs61rDVwt"
      },
      "source": [
        "def predict(weight,bias,x_test):\n",
        "    z = np.dot(weight.T,x_test) + bias\n",
        "    y_head = sigmoid(z)\n",
        "\n",
        "    y_prediction = np.zeros((1,x_test.shape[1]))\n",
        "    \n",
        "    for i in range(y_head.shape[1]):\n",
        "        if y_head[0,i] <= 0.5:\n",
        "            y_prediction[0,i] = 0\n",
        "        else:\n",
        "            y_prediction[0,i] = 1\n",
        "    return y_prediction"
      ],
      "execution_count": 40,
      "outputs": []
    },
    {
      "cell_type": "code",
      "metadata": {
        "id": "1WYmdrBc-R2f"
      },
      "source": [
        "def logistic_regression(x_train,y_train,x_test,y_test,learningRate,iteration):\n",
        "    dimension   = x_train.shape[0]\n",
        "    weight,bias = initialize(dimension)\n",
        "    \n",
        "    parameters, gradients = update(weight,bias,x_train,y_train,learningRate,iteration)\n",
        "\n",
        "    y_prediction1 = predict(parameters[\"weight\"],parameters[\"bias\"],x_train)\n",
        "    print(\"LR Accuracy in Training Case: {:.2f}%\".format((100 - np.mean(np.abs(y_prediction1 - y_train))*100)))\n",
        "\n",
        "    y_prediction2 = predict(parameters[\"weight\"],parameters[\"bias\"],x_test)\n",
        "    print(\"LR Accuracy in Testing Case: {:.2f}%\".format((100 - np.mean(np.abs(y_prediction2 - y_test))*100)))\n",
        "\n",
        "\n",
        "# print(y_prediction1)\n",
        "# print(\"\")\n",
        "# print(y_train)\n",
        "\n",
        "# np.mean(np.abs(y_prediction1 - y_train))"
      ],
      "execution_count": 173,
      "outputs": []
    },
    {
      "cell_type": "code",
      "metadata": {
        "trusted": true,
        "_uuid": "d866efadafcc3b49a90016c00da6c4d981cd8837",
        "id": "qgf_bUliDVwt",
        "colab": {
          "base_uri": "https://localhost:8080/",
          "height": 358
        },
        "outputId": "6f1be683-3630-4a42-8fa2-ee391e82836f"
      },
      "source": [
        "logistic_regression(x_train,y_train,x_test,y_test,1,100)"
      ],
      "execution_count": 174,
      "outputs": [
        {
          "output_type": "stream",
          "text": [
            "iteration: 100\n",
            "cost: 0.5572562017852973\n"
          ],
          "name": "stdout"
        },
        {
          "output_type": "display_data",
          "data": {
            "image/png": "[encoded data removed]",
            "text/plain": [
              "<Figure size 432x288 with 1 Axes>"
            ]
          },
          "metadata": {
            "tags": []
          }
        },
        {
          "output_type": "stream",
          "text": [
            "LR Accuracy in Training Case: 73.40%\n",
            "LR Accuracy in Testing Case: 70.43%\n"
          ],
          "name": "stdout"
        }
      ]
    },
    {
      "cell_type": "code",
      "metadata": {
        "id": "xeSeWkWDM2I-",
        "outputId": "5ba7c16f-54dd-4a1b-b81a-a4b123cd109b",
        "colab": {
          "base_uri": "https://localhost:8080/",
          "height": 301
        }
      },
      "source": [
        "logit_roc_auc          = roc_auc_score(y_test, y_prediction2)\n",
        "fpr, tpr, thresholds = roc_curve(y_test, y_prediction2)\n",
        "\n",
        "plt.figure()\n",
        "plt.plot(fpr, tpr, label='Logistic Regression (area = %0.2f)' % logit_roc_auc)\n",
        "plt.plot([0, 1], [0, 1],'r--')\n",
        "plt.xlim([0.0, 1.0])\n",
        "plt.ylim([0.0, 1.05])\n",
        "plt.xlabel('False Positive Rate')\n",
        "plt.ylabel('True Positive Rate')\n",
        "plt.title('Receiver operating characteristic')\n",
        "plt.legend(loc=\"lower right\")\n",
        "plt.savefig('Log_ROC')\n",
        "plt.show()"
      ],
      "execution_count": 175,
      "outputs": [
        {
          "output_type": "display_data",
          "data": {
            "image/png": "[encoded data removed]",
            "text/plain": [
              "<Figure size 432x288 with 1 Axes>"
            ]
          },
          "metadata": {
            "tags": []
          }
        }
      ]
    },
    {
      "cell_type": "markdown",
      "metadata": {
        "id": "6z79CIZ8NGYT"
      },
      "source": [
        "<h2 class=\"red-text\" color=red;>A new code for logistic regression based numpy</h2>"
      ]
    },
    {
      "cell_type": "code",
      "metadata": {
        "id": "3mqccDg0w9D2"
      },
      "source": [
        "from sklearn.linear_model import LogisticRegression\n",
        "from sklearn.metrics import classification_report, confusion_matrix\n",
        "from sklearn import metrics\n",
        "import numpy as np\n",
        "\n",
        "# Step 3: Create a model and train it\n",
        "model = LogisticRegression(solver='liblinear', C=10.0, random_state=0)\n",
        "model.fit(x_train.T, y_train)\n",
        "\n",
        "# Step 4: Evaluate the model\n",
        "y_prediction1 = model.predict(x_train.T)\n",
        "y_prediction2 = model.predict(x_test.T)\n"
      ],
      "execution_count": 163,
      "outputs": []
    },
    {
      "cell_type": "code",
      "metadata": {
        "colab": {
          "base_uri": "https://localhost:8080/",
          "height": 336
        },
        "id": "tAJXpvNtJuZe",
        "outputId": "09cf73aa-3618-4be6-ec53-9008910f1243"
      },
      "source": [
        "from sklearn.metrics import roc_auc_score\n",
        "from sklearn.metrics import roc_curve\n",
        "\n",
        "logit_roc_auc          = roc_auc_score(y_test, y_prediction2)\n",
        "fpr, tpr, thresholds = roc_curve(y_test, y_prediction2)\n",
        "\n",
        "print(fpr)\n",
        "print(tpr)\n",
        "\n",
        "plt.figure()\n",
        "plt.plot(fpr, tpr, label='Logistic Regression (area = %0.2f)' % logit_roc_auc)\n",
        "plt.plot([0, 1], [0, 1],'r--')\n",
        "plt.xlim([0.0, 1.0])\n",
        "plt.ylim([0.0, 1.05])\n",
        "plt.xlabel('False Positive Rate')\n",
        "plt.ylabel('True Positive Rate')\n",
        "plt.title('Receiver operating characteristic')\n",
        "plt.legend(loc=\"lower right\")\n",
        "plt.savefig('Log_ROC')\n",
        "plt.show()"
      ],
      "execution_count": 176,
      "outputs": [
        {
          "output_type": "stream",
          "text": [
            "[0.         0.11946903 1.        ]\n",
            "[0.         0.47945205 1.        ]\n"
          ],
          "name": "stdout"
        },
        {
          "output_type": "display_data",
          "data": {
            "image/png": "[encoded data removed]",
            "text/plain": [
              "<Figure size 432x288 with 1 Axes>"
            ]
          },
          "metadata": {
            "tags": []
          }
        }
      ]
    },
    {
      "cell_type": "markdown",
      "metadata": {
        "_uuid": "75562006d1e3767f2a62c07301cce8766a3cf917",
        "id": "sfi3zXHtDVwt"
      },
      "source": [
        "## <font color=\"blue\">Manuel Test Accuracy is <font color=\"red\">**70.43%**</font></font><br>\n",
        "Let's find out sklearn's score."
      ]
    },
    {
      "cell_type": "markdown",
      "metadata": {
        "_uuid": "7ffb9f8fde45b53fb9bb6fbe25dc7339b1b15649",
        "id": "DA78kg60DVwt"
      },
      "source": [
        "### Sklearn Logistic Regression"
      ]
    },
    {
      "cell_type": "code",
      "metadata": {
        "trusted": true,
        "_uuid": "5592396ddebe9346767a2a34dd20abf300e5c730",
        "id": "qjfhgcfrDVwu",
        "colab": {
          "base_uri": "https://localhost:8080/"
        },
        "outputId": "60bd7721-511e-4714-9c71-a07bdb990453"
      },
      "source": [
        "accuracies1 = {}\n",
        "accuracies2 = {}\n",
        "\n",
        "lr = LogisticRegression()\n",
        "lr.fit(x_train.T,y_train.T)\n",
        "\n",
        "acc1 = lr.score(x_train.T,y_train.T)*100\n",
        "acc2 = lr.score(x_test.T,y_test.T)*100\n",
        "\n",
        "accuracies1['Logistic Regression'] = acc1\n",
        "accuracies2['Logistic Regression'] = acc2\n",
        "\n",
        "print(\"LR Accuracy in Training Case {:.2f}%\".format(acc1))\n",
        "print(\"LR Accuracy in Testing Case {:.2f}%\".format(acc2))"
      ],
      "execution_count": 43,
      "outputs": [
        {
          "output_type": "stream",
          "text": [
            "LR Accuracy in Training Case 74.55%\n",
            "LR Accuracy in Testing Case 71.77%\n"
          ],
          "name": "stdout"
        }
      ]
    },
    {
      "cell_type": "markdown",
      "metadata": {
        "_uuid": "e483010f6bf26cc8801061b5122e632fcac5337e",
        "id": "45d27Sv4DVwu"
      },
      "source": [
        "1. ## <font color = \"purple\">Our model works with <font color=\"red\">**71.77%**</font> accuracy.</font>"
      ]
    },
    {
      "cell_type": "markdown",
      "metadata": {
        "_uuid": "b0a524cdd6eb069d02aab429a1cf2024ab54cf18",
        "id": "q9gyb0jzDVwu"
      },
      "source": [
        "## K-Nearest Neighbour (KNN) Classification\n",
        "<br>\n",
        "Let's see what will be score if we use KNN algorithm."
      ]
    },
    {
      "cell_type": "markdown",
      "metadata": {
        "_uuid": "2a9f77931e249f18b5247349932fbf650d9052fe",
        "id": "QZ9gELD-DVwu"
      },
      "source": [
        "**KNN Algorithm**\n",
        "<br>\n",
        "<img src=\"http://res.cloudinary.com/dyd911kmh/image/upload/f_auto,q_auto:best/v1531424125/KNN_final_a1mrv9.png\"/>"
      ]
    },
    {
      "cell_type": "code",
      "metadata": {
        "trusted": true,
        "_uuid": "b5d2956d9f265b47645ec2a6cd2eb7d50af5783a",
        "id": "8tDyFiauDVwu",
        "colab": {
          "base_uri": "https://localhost:8080/"
        },
        "outputId": "781d8bce-b0ef-413d-e635-ed20bdbec48e"
      },
      "source": [
        "# KNN Model\n",
        "from sklearn.neighbors import KNeighborsClassifier\n",
        "knn = KNeighborsClassifier(n_neighbors = 2)  # n_neighbors means k\n",
        "knn.fit(x_train.T, y_train.T)\n",
        "\n",
        "prediction1 = knn.predict(x_train.T)\n",
        "prediction2 = knn.predict(x_test.T)\n",
        "\n",
        "print(\"{}KNN Accuracy in Training Case: {:.2f}%\".format(2, knn.score(x_train.T, y_train.T)*100))\n",
        "print(\"{}KNN Accuracy in Testing Case: {:.2f}%\".format(2, knn.score(x_test.T, y_test.T)*100))"
      ],
      "execution_count": 44,
      "outputs": [
        {
          "output_type": "stream",
          "text": [
            "2KNN Accuracy in Training Case: 81.48%\n",
            "2KNN Accuracy in Testing Case: 65.59%\n"
          ],
          "name": "stdout"
        }
      ]
    },
    {
      "cell_type": "markdown",
      "metadata": {
        "id": "OYxwSTL2YK-V"
      },
      "source": [
        "\n",
        "1. ## <font color = \"purple\">Our model works with <font color=\"red\">**65.59%**</font> accuracy.</font>\n"
      ]
    },
    {
      "cell_type": "code",
      "metadata": {
        "trusted": true,
        "_uuid": "8db6f0c13aa1462624cf0da04a03c9ee4db8a991",
        "id": "3jfFzSPmDVwv",
        "colab": {
          "base_uri": "https://localhost:8080/",
          "height": 574
        },
        "outputId": "44260a00-4c8c-429b-dc17-7386451c36b3"
      },
      "source": [
        "# try ro find best k value\n",
        "scoreList1 = []\n",
        "scoreList2 = []\n",
        "\n",
        "for i in range(1,20):\n",
        "    knn2 = KNeighborsClassifier(n_neighbors = i)  # n_neighbors means k\n",
        "    knn2.fit(x_train.T, y_train.T)\n",
        "    scoreList1.append(knn2.score(x_train.T, y_train.T))\n",
        "    scoreList2.append(knn2.score(x_test.T, y_test.T))\n",
        "    \n",
        "plt.plot(range(1,20), scoreList1)\n",
        "plt.xticks(np.arange(1,20,1))\n",
        "plt.xlabel(\"K value\")\n",
        "plt.ylabel(\"Score\")\n",
        "plt.show()\n",
        "\n",
        "plt.plot(range(1,20), scoreList2)\n",
        "plt.xticks(np.arange(1,20,1))\n",
        "plt.xlabel(\"K value\")\n",
        "plt.ylabel(\"Score\")\n",
        "plt.show()\n",
        "\n",
        "acc1 = max(scoreList1)*100\n",
        "accuracies1['KNN'] = acc1\n",
        "print(\"Maximum KNN Score is {:.2f}%\".format(acc1))\n",
        "\n",
        "acc2 = max(scoreList2)*100\n",
        "accuracies2['KNN'] = acc2\n",
        "print(\"Maximum KNN Score is {:.2f}%\".format(acc2))\n"
      ],
      "execution_count": 45,
      "outputs": [
        {
          "output_type": "display_data",
          "data": {
            "image/png": "[encoded data removed]",
            "text/plain": [
              "<Figure size 432x288 with 1 Axes>"
            ]
          },
          "metadata": {
            "tags": [],
            "needs_background": "light"
          }
        },
        {
          "output_type": "display_data",
          "data": {
            "image/png": "[encoded data removed]",
            "text/plain": [
              "<Figure size 432x288 with 1 Axes>"
            ]
          },
          "metadata": {
            "tags": [],
            "needs_background": "light"
          }
        },
        {
          "output_type": "stream",
          "text": [
            "Maximum KNN Score is 100.00%\n",
            "Maximum KNN Score is 69.35%\n"
          ],
          "name": "stdout"
        }
      ]
    },
    {
      "cell_type": "markdown",
      "metadata": {
        "_uuid": "02ec17348cc5c31a9f15ed8c132b8e3cf6e915c4",
        "id": "nby8JtElDVwv"
      },
      "source": [
        "As you can see above if we define k as 3-7-8 we will reach maximum score. <br>\n",
        "## <font color=\"green\">KNN Model's Accuracy is <font color=\"red\">88.52%</font></font>"
      ]
    },
    {
      "cell_type": "markdown",
      "metadata": {
        "_uuid": "ca03737d17129db8ac352aa7e2eb5ea71826f63b",
        "id": "8v7EbmlgDVwv"
      },
      "source": [
        "## Support Vector Machine (SVM) Algorithm \n",
        "Now we will use SVM algorithm. "
      ]
    },
    {
      "cell_type": "markdown",
      "metadata": {
        "_uuid": "a0eec2569ee5065a6f6fd7a25ed7f38c371b0afa",
        "id": "EfBAX0twDVwv"
      },
      "source": [
        "**Support Vector Machine Algorithm**\n",
        "<br>\n",
        "<img src=\"https://cdn-images-1.medium.com/max/1600/1*TudH6YvvH7-h5ZyF2dJV2w.jpeg\" width=\"500px\"/><br>\n",
        "<img src=\"https://aitrends.com/wp-content/uploads/2018/01/1-19SVM-2.jpg\" width=\"500px\"/>\n"
      ]
    },
    {
      "cell_type": "code",
      "metadata": {
        "trusted": true,
        "_uuid": "f51e85b552168f5ce56a43dd8ccb6452ee661317",
        "id": "oOsUKNoLDVwv"
      },
      "source": [
        "from sklearn.svm import SVC"
      ],
      "execution_count": 46,
      "outputs": []
    },
    {
      "cell_type": "code",
      "metadata": {
        "trusted": true,
        "_uuid": "28b9d504870997c3213b4c26e75cd4e3d92d6275",
        "id": "6hOuT7oDDVwv",
        "colab": {
          "base_uri": "https://localhost:8080/"
        },
        "outputId": "52788de3-2b44-49eb-8fb9-8c458152c9a2"
      },
      "source": [
        "svm = SVC(random_state = 1)\n",
        "svm.fit(x_train.T, y_train.T)\n",
        "\n",
        "acc1 = svm.score(x_train.T,y_train.T)*100\n",
        "acc2 = svm.score(x_test.T,y_test.T)*100\n",
        "\n",
        "accuracies1['SVM'] = acc1\n",
        "accuracies2['SVM'] = acc2\n",
        "\n",
        "print(\"SVM Accuracy in Training Case: {:.2f}%\".format(acc1))\n",
        "print(\"SVM Accuracy in Training Case: {:.2f}%\".format(acc2))\n"
      ],
      "execution_count": 47,
      "outputs": [
        {
          "output_type": "stream",
          "text": [
            "SVM Accuracy in Training Case: 73.87%\n",
            "SVM Accuracy in Training Case: 70.16%\n"
          ],
          "name": "stdout"
        }
      ]
    },
    {
      "cell_type": "markdown",
      "metadata": {
        "_uuid": "d4107ae5690372c7c5ebdea21a46ea7e04adeefa",
        "id": "2HdiHzZpDVww"
      },
      "source": [
        "## <font color=\"orange\">Test Accuracy of SVM Algorithm is <font color=\"red\"> 70.16%</font></font>"
      ]
    },
    {
      "cell_type": "markdown",
      "metadata": {
        "_uuid": "058a659cd261c900ff5ce0c6894420cbc0d00232",
        "id": "TZ4O-jVfDVww"
      },
      "source": [
        "## Naive Bayes Algorithm"
      ]
    },
    {
      "cell_type": "markdown",
      "metadata": {
        "_uuid": "cb36324c6650e7371de9e77e53d6a531dd94a93a",
        "id": "bJnKupDsDVww"
      },
      "source": [
        "**Naive Bayes Algorithm**\n",
        "<br>\n",
        "<img src=\"https://s3.ap-south-1.amazonaws.com/techleer/204.png\" width=\"500px\"/>"
      ]
    },
    {
      "cell_type": "code",
      "metadata": {
        "trusted": true,
        "_uuid": "0544f45710912dab11c597b9a743bdc712f1e826",
        "id": "NT0Y-zf0DVwx",
        "colab": {
          "base_uri": "https://localhost:8080/"
        },
        "outputId": "e567c6d2-0f48-4bd6-e508-923e527a0b45"
      },
      "source": [
        "from sklearn.naive_bayes import GaussianNB\n",
        "nb = GaussianNB()\n",
        "nb.fit(x_train.T, y_train.T)\n",
        "\n",
        "acc = nb.score(x_train.T,y_train.T)*100\n",
        "acc = nb.score(x_test.T,y_test.T)*100\n",
        "\n",
        "accuracies1['Naive Bayes'] = acc1\n",
        "accuracies2['Naive Bayes'] = acc2\n",
        "\n",
        "print(\"Naive Bayes Accuracy in Training Case: {:.2f}%\".format(acc1))\n",
        "print(\"Naive Bayes Accuracy in Training Case: {:.2f}%\".format(acc2))"
      ],
      "execution_count": 48,
      "outputs": [
        {
          "output_type": "stream",
          "text": [
            "Naive Bayes Accuracy in Training Case: 73.87%\n",
            "Naive Bayes Accuracy in Training Case: 70.16%\n"
          ],
          "name": "stdout"
        }
      ]
    },
    {
      "cell_type": "markdown",
      "metadata": {
        "_uuid": "678daa3a73af2129b879f759a22eb6ea7e70370e",
        "id": "5KkObH4eDVwx"
      },
      "source": [
        "## <font color=\"magenta\">Accuracy of Naive Bayes: <font color=\"red\">70.16%</font></font>"
      ]
    },
    {
      "cell_type": "markdown",
      "metadata": {
        "_uuid": "998124b79b0c01da04cf9992112eafb60bdb857a",
        "id": "pcXrHUkxDVwx"
      },
      "source": [
        "## Decision Tree Algorithm"
      ]
    },
    {
      "cell_type": "markdown",
      "metadata": {
        "_uuid": "cd08ae4ab93fa7de207a80412f4a8cdfb8cfd932",
        "id": "w3WidHyqDVwy"
      },
      "source": [
        "**Decision Tree Algorithm**\n",
        "<br>\n",
        "![image.png](attachment:image.png)"
      ]
    },
    {
      "cell_type": "code",
      "metadata": {
        "trusted": true,
        "_uuid": "a3f57a094e75c7072857cb8adb40afa3fead5a26",
        "id": "OYgwlca4DVwy",
        "colab": {
          "base_uri": "https://localhost:8080/"
        },
        "outputId": "7bc51f0b-cea7-44e7-83fe-69a1911448fa"
      },
      "source": [
        "from sklearn.tree import DecisionTreeClassifier\n",
        "dtc = DecisionTreeClassifier()\n",
        "dtc.fit(x_train.T, y_train.T)\n",
        "\n",
        "acc = dtc.score(x_train.T, y_train.T)*100\n",
        "acc = dtc.score(x_test.T, y_test.T)*100\n",
        "\n",
        "accuracies1['Decision Tree'] = acc1\n",
        "accuracies2['Decision Tree'] = acc2\n",
        "\n",
        "print(\"Decision Tree Accuracy in Training Case {:.2f}%\".format(acc1))\n",
        "print(\"Decision Tree Accuracy in Testing Case  {:.2f}%\".format(acc2))"
      ],
      "execution_count": 49,
      "outputs": [
        {
          "output_type": "stream",
          "text": [
            "Decision Tree Accuracy in Training Case 73.87%\n",
            "Decision Tree Accuracy in Testing Case  70.16%\n"
          ],
          "name": "stdout"
        }
      ]
    },
    {
      "cell_type": "markdown",
      "metadata": {
        "_uuid": "b6914af2063b8991db2db75edb1e5eebee108b1c",
        "id": "a3fryGF2DVwy"
      },
      "source": [
        "## <font color=\"#CFC60E\">Test Accuracy of Decision Tree Algorithm: <font color=\"red\">70.168%</font></font>"
      ]
    },
    {
      "cell_type": "markdown",
      "metadata": {
        "_uuid": "8b409e74067d3b7acfb1841fb35be018fbb92183",
        "id": "K2XVYWlYDVwy"
      },
      "source": [
        "## Random Forest Classification"
      ]
    },
    {
      "cell_type": "code",
      "metadata": {
        "trusted": true,
        "_uuid": "c81ae8e5658bea3a910901e6bc35a319bba701a9",
        "id": "-yNgrNVtDVwy",
        "colab": {
          "base_uri": "https://localhost:8080/"
        },
        "outputId": "07ecc67e-3b2b-419a-a513-355d1eb6cb21"
      },
      "source": [
        "# Random Forest Classification\n",
        "from sklearn.ensemble import RandomForestClassifier\n",
        "rf = RandomForestClassifier(n_estimators = 1000, random_state = 1)\n",
        "rf.fit(x_train.T, y_train.T)\n",
        "\n",
        "acc = rf.score(x_train.T,y_train.T)*100\n",
        "acc = rf.score(x_test.T,y_test.T)*100\n",
        "\n",
        "accuracies1['Random Forest'] = acc1\n",
        "accuracies2['Random Forest'] = acc2\n",
        "\n",
        "print(\"Random Forest Accuracy in Training Case : {:.2f}%\".format(acc1))\n",
        "print(\"Random Forest Accuracy in Testing Case : {:.2f}%\".format(acc2))"
      ],
      "execution_count": 50,
      "outputs": [
        {
          "output_type": "stream",
          "text": [
            "Random Forest Accuracy in Training Case : 73.87%\n",
            "Random Forest Accuracy in Testing Case : 70.16%\n"
          ],
          "name": "stdout"
        }
      ]
    },
    {
      "cell_type": "markdown",
      "metadata": {
        "_uuid": "a0ce99be479572718f67cf4cc178299fdd9ff6a1",
        "id": "h6-XBs3eDVwz"
      },
      "source": [
        "## <font color=\"#0FBBAE\">Test Accuracy of Random Forest: <font color=\"red\">70.16%</font></font>"
      ]
    },
    {
      "cell_type": "markdown",
      "metadata": {
        "_uuid": "3ba9f36a63105b2557e4314be41dc9620fab27f6",
        "id": "UaldTAHWDVwz"
      },
      "source": [
        "## Comparing Models"
      ]
    },
    {
      "cell_type": "code",
      "metadata": {
        "id": "pHtXWLifECTW",
        "colab": {
          "base_uri": "https://localhost:8080/"
        },
        "outputId": "b83aa611-d76e-44c1-cbc7-030a4daaecad"
      },
      "source": [
        "print(accuracies1)\n",
        "print(accuracies2)"
      ],
      "execution_count": 51,
      "outputs": [
        {
          "output_type": "stream",
          "text": [
            "{'Logistic Regression': 74.54545454545455, 'KNN': 100.0, 'SVM': 73.87205387205387, 'Naive Bayes': 73.87205387205387, 'Decision Tree': 73.87205387205387, 'Random Forest': 73.87205387205387}\n",
            "{'Logistic Regression': 71.7741935483871, 'KNN': 69.35483870967742, 'SVM': 70.16129032258065, 'Naive Bayes': 70.16129032258065, 'Decision Tree': 70.16129032258065, 'Random Forest': 70.16129032258065}\n"
          ],
          "name": "stdout"
        }
      ]
    },
    {
      "cell_type": "code",
      "metadata": {
        "trusted": true,
        "_uuid": "9e594d64f9a20255ca8687179d858e3dce855136",
        "id": "NpIS_iafDVwz",
        "colab": {
          "base_uri": "https://localhost:8080/",
          "height": 668
        },
        "outputId": "5eb7f754-a00e-48db-f4d1-542cd0a77061"
      },
      "source": [
        "colors1 = [\"purple\", \"green\", \"orange\", \"magenta\",\"#CFC60E\",\"#0FBBAE\"]\n",
        "\n",
        "sns.set_style(\"whitegrid\")\n",
        "plt.figure(figsize=(16,5))\n",
        "plt.yticks(np.arange(0,100,10))\n",
        "plt.ylabel(\"Accuracy in Training Case%\")\n",
        "plt.xlabel(\"Proposed Algorithms\")\n",
        "sns.barplot(x=list(accuracies1.keys()), y=list(accuracies1.values()), palette=colors1)\n",
        "\n",
        "colors2 = [\"green\", \"orange\", \"magenta\",\"#CFC60E\",\"#0FBBAE\",\"purple\"]\n",
        "\n",
        "sns.set_style(\"whitegrid\")\n",
        "plt.figure(figsize=(16,5))\n",
        "plt.yticks(np.arange(0,100,10))\n",
        "plt.ylabel(\"Accuracy in Testing Case %\")\n",
        "plt.xlabel(\"Proposed Algorithms\")\n",
        "sns.barplot(x=list(accuracies2.keys()), y=list(accuracies2.values()), palette=colors2)\n"
      ],
      "execution_count": 52,
      "outputs": [
        {
          "output_type": "execute_result",
          "data": {
            "text/plain": [
              "<matplotlib.axes._subplots.AxesSubplot at 0x7fb7992a2bd0>"
            ]
          },
          "metadata": {
            "tags": []
          },
          "execution_count": 52
        },
        {
          "output_type": "display_data",
          "data": {
            "image/png": "[encoded data removed]",
            "text/plain": [
              "<Figure size 1152x360 with 1 Axes>"
            ]
          },
          "metadata": {
            "tags": []
          }
        },
        {
          "output_type": "display_data",
          "data": {
            "image/png": "[encoded data removed]",
            "text/plain": [
              "<Figure size 1152x360 with 1 Axes>"
            ]
          },
          "metadata": {
            "tags": []
          }
        }
      ]
    },
    {
      "cell_type": "markdown",
      "metadata": {
        "_uuid": "3300e662f1fffbcc9c9aea95d6c11e559e84e412",
        "id": "_hEKajtjDVwz"
      },
      "source": [
        "Our models work fine but best of them are KNN and Random Forest with 88.52% of accuracy. Let's look their confusion matrixes."
      ]
    },
    {
      "cell_type": "markdown",
      "metadata": {
        "_uuid": "0f8e3cd00eb3f1c573468e4a8708d7a6ca8df67b",
        "id": "FbyecA1WDVw0"
      },
      "source": [
        "## Confusion Matrix"
      ]
    },
    {
      "cell_type": "code",
      "metadata": {
        "trusted": true,
        "_uuid": "3a280577a5739b773e3ce0ca50d3cda671ba9a32",
        "id": "aKDXGM3fDVw0"
      },
      "source": [
        "# Predicted values\n",
        "y_head_lr = lr.predict(x_test.T)\n",
        "knn3 = KNeighborsClassifier(n_neighbors = 3)\n",
        "knn3.fit(x_train.T, y_train.T)\n",
        "y_head_knn = knn3.predict(x_test.T)\n",
        "y_head_svm = svm.predict(x_test.T)\n",
        "y_head_nb = nb.predict(x_test.T)\n",
        "y_head_dtc = dtc.predict(x_test.T)\n",
        "y_head_rf = rf.predict(x_test.T)"
      ],
      "execution_count": 53,
      "outputs": []
    },
    {
      "cell_type": "code",
      "metadata": {
        "trusted": true,
        "_uuid": "89e2140778e93d3eecfc41d5b995cb9131633313",
        "id": "Y0DLPGQGDVw0"
      },
      "source": [
        "from sklearn.metrics import confusion_matrix\n",
        "\n",
        "cm_lr = confusion_matrix(y_test,y_head_lr)\n",
        "cm_knn = confusion_matrix(y_test,y_head_knn)\n",
        "cm_svm = confusion_matrix(y_test,y_head_svm)\n",
        "cm_nb = confusion_matrix(y_test,y_head_nb)\n",
        "cm_dtc = confusion_matrix(y_test,y_head_dtc)\n",
        "cm_rf = confusion_matrix(y_test,y_head_rf)\n"
      ],
      "execution_count": 54,
      "outputs": []
    },
    {
      "cell_type": "code",
      "metadata": {
        "trusted": true,
        "_uuid": "b91a2a68b5cc12ea58f255731cf76d49fd2ed5ec",
        "id": "CdUX8aK3DVw1",
        "colab": {
          "base_uri": "https://localhost:8080/",
          "height": 734
        },
        "outputId": "096f94f3-c4c7-4b19-f23c-214750552c9c"
      },
      "source": [
        "plt.figure(figsize=(24,12))\n",
        "\n",
        "plt.suptitle(\"Confusion Matrixes\",fontsize=24)\n",
        "plt.subplots_adjust(wspace = 0.4, hspace= 0.4)\n",
        "\n",
        "plt.subplot(2,3,1)\n",
        "plt.title(\"Logistic Regression Confusion Matrix\")\n",
        "sns.heatmap(cm_lr,annot=True,cmap=\"Blues\",fmt=\"d\",cbar=False, annot_kws={\"size\": 24})\n",
        "\n",
        "plt.subplot(2,3,2)\n",
        "plt.title(\"K Nearest Neighbors Confusion Matrix\")\n",
        "sns.heatmap(cm_knn,annot=True,cmap=\"Blues\",fmt=\"d\",cbar=False, annot_kws={\"size\": 24})\n",
        "\n",
        "plt.subplot(2,3,3)\n",
        "plt.title(\"Support Vector Machine Confusion Matrix\")\n",
        "sns.heatmap(cm_svm,annot=True,cmap=\"Blues\",fmt=\"d\",cbar=False, annot_kws={\"size\": 24})\n",
        "\n",
        "plt.subplot(2,3,4)\n",
        "plt.title(\"Naive Bayes Confusion Matrix\")\n",
        "sns.heatmap(cm_nb,annot=True,cmap=\"Blues\",fmt=\"d\",cbar=False, annot_kws={\"size\": 24})\n",
        "\n",
        "plt.subplot(2,3,5)\n",
        "plt.title(\"Decision Tree Classifier Confusion Matrix\")\n",
        "sns.heatmap(cm_dtc,annot=True,cmap=\"Blues\",fmt=\"d\",cbar=False, annot_kws={\"size\": 24})\n",
        "\n",
        "plt.subplot(2,3,6)\n",
        "plt.title(\"Random Forest Confusion Matrix\")\n",
        "sns.heatmap(cm_rf,annot=True,cmap=\"Blues\",fmt=\"d\",cbar=False, annot_kws={\"size\": 24})\n",
        "\n",
        "plt.show()"
      ],
      "execution_count": 55,
      "outputs": [
        {
          "output_type": "display_data",
          "data": {
            "image/png": "[encoded data removed]",
            "text/plain": [
              "<Figure size 1728x864 with 6 Axes>"
            ]
          },
          "metadata": {
            "tags": []
          }
        }
      ]
    },
    {
      "cell_type": "markdown",
      "metadata": {
        "_uuid": "e6ac9b36fd4b17bd96a5879f8c269f90171d5982",
        "id": "6JQ4JzIeDVw1"
      },
      "source": [
        "**I am new with data science. Please comment me your feedbacks to help me improve myself. Thanks for your time.**"
      ]
    }
  ]
}