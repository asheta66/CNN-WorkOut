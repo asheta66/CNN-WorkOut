{
  "nbformat": 4,
  "nbformat_minor": 0,
  "metadata": {
    "kernelspec": {
      "display_name": "Python 3",
      "language": "python",
      "name": "python3"
    },
    "language_info": {
      "name": "python",
      "version": "3.6.6",
      "mimetype": "text/x-python",
      "codemirror_mode": {
        "name": "ipython",
        "version": 3
      },
      "pygments_lexer": "ipython3",
      "nbconvert_exporter": "python",
      "file_extension": ".py"
    },
    "colab": {
      "name": "heart-disease-classifications-machine-learning.ipynb",
      "provenance": []
    }
  },
  "cells": [
    {
      "cell_type": "markdown",
      "metadata": {
        "_uuid": "5878df22aae1c5888a07fe2c49d0bbe1551a3c55",
        "id": "_DmTvyNeDVwi"
      },
      "source": [
        "# INTRODUCTION\n",
        "<br>\n",
        "We have a data which classified if patients have heart disease or not according to features in it. We will try to use this data to create a model which tries predict if a patient has this disease or not. We will use logistic regression (classification) algorithm."
      ]
    },
    {
      "cell_type": "code",
      "metadata": {
        "_uuid": "8f2839f25d086af736a60e9eeb907d3b93b6e0e5",
        "_cell_guid": "b1076dfc-b9ad-4769-8c92-a6c4dae69d19",
        "trusted": true,
        "id": "wW-opvFIDVwj"
      },
      "source": [
        "# This Python 3 environment comes with many helpful analytics libraries installed\n",
        "# It is defined by the kaggle/python docker image: https://github.com/kaggle/docker-python\n",
        "# For example, here's several helpful packages to load in \n",
        "\n",
        "import numpy as np\n",
        "import pandas as pd\n",
        "import matplotlib.pyplot as plt\n",
        "import seaborn as sns\n",
        "from sklearn.linear_model import LogisticRegression\n",
        "from sklearn.model_selection import train_test_split\n",
        "\n",
        "# Input data files are available in the \"../input/\" directory.\n",
        "# For example, running this (by clicking run or pressing Shift+Enter) will list the files in the input directory\n",
        "\n",
        "import os\n",
        "# Dataset is now stored in a Pandas Dataframe\n",
        "#print(os.listdir(\"https://github.com/asheta66/CNN-WorkOut/blob/0085735f6794dbef57badc24dc60d16a20c31f72/Test1.csv\"))\n",
        "\n",
        "# Any results you write to the current directory are saved as output."
      ],
      "execution_count": 4,
      "outputs": []
    },
    {
      "cell_type": "markdown",
      "metadata": {
        "_cell_guid": "79c7e3d0-c299-4dcb-8224-4455121ee9b0",
        "collapsed": true,
        "_uuid": "d629ff2d2480ee46fbb7e2d37f6b5fab8052498a",
        "trusted": false,
        "id": "EUX7WjW8DVwk"
      },
      "source": [
        "## Read Data"
      ]
    },
    {
      "cell_type": "code",
      "metadata": {
        "trusted": true,
        "_uuid": "8d0ffd4e0549f6f2eb24c7cc258256f2fb63ec48",
        "id": "yOaloGybDVwl"
      },
      "source": [
        "# We are reading our data\n",
        "url = \"https://raw.githubusercontent.com/asheta66/CNN-WorkOut/main/Test1.csv\"\n",
        "df  = df = pd.read_csv(url)\n",
        "\n",
        "# df = pd.read_csv(\"../input/heart.csv\")"
      ],
      "execution_count": 8,
      "outputs": []
    },
    {
      "cell_type": "code",
      "metadata": {
        "trusted": true,
        "_uuid": "4dee2636361981b0f92a8a585d49f581283d6222",
        "id": "mV1Ym-t4DVwl"
      },
      "source": [
        "# First 5 rows of our data\n",
        "df.head()"
      ],
      "execution_count": null,
      "outputs": []
    },
    {
      "cell_type": "markdown",
      "metadata": {
        "_uuid": "e7df2228490edc65cef3d01659b4ef96fe15e191",
        "id": "BpJ-U1h1DVwl"
      },
      "source": [
        "Data contains; <br>\n",
        "\n",
        "* age - age in years <br>\n",
        "* sex - (1 = male; 0 = female) <br>\n",
        "* cp - chest pain type <br>\n",
        "* trestbps - resting blood pressure (in mm Hg on admission to the hospital) <br>\n",
        "* chol - serum cholestoral in mg/dl <br>\n",
        "* fbs - (fasting blood sugar > 120 mg/dl) (1 = true; 0 = false) <br>\n",
        "* restecg - resting electrocardiographic results <br>\n",
        "* thalach - maximum heart rate achieved <br>\n",
        "* exang - exercise induced angina (1 = yes; 0 = no) <br>\n",
        "* oldpeak - ST depression induced by exercise relative to rest <br>\n",
        "* slope - the slope of the peak exercise ST segment <br>\n",
        "* ca - number of major vessels (0-3) colored by flourosopy <br>\n",
        "* thal - 3 = normal; 6 = fixed defect; 7 = reversable defect <br>\n",
        "* target - have disease or not (1=yes, 0=no)"
      ]
    },
    {
      "cell_type": "markdown",
      "metadata": {
        "_uuid": "5c510b6aea2f9083981bf75dc67c5250b3b891c7",
        "id": "06GuvUdODVwm"
      },
      "source": [
        "## Data Exploration"
      ]
    },
    {
      "cell_type": "code",
      "metadata": {
        "trusted": true,
        "_uuid": "00af1961381609399dd80ca7c6a950277c120357",
        "id": "eD5lqLcZDVwm"
      },
      "source": [
        "df.target.value_counts()"
      ],
      "execution_count": null,
      "outputs": []
    },
    {
      "cell_type": "code",
      "metadata": {
        "trusted": true,
        "_uuid": "f0c639a82d794e41978199f7fa4405a01a7b805e",
        "id": "V-8VimrTDVwm"
      },
      "source": [
        "sns.countplot(x=\"target\", data=df, palette=\"bwr\")\n",
        "plt.show()"
      ],
      "execution_count": null,
      "outputs": []
    },
    {
      "cell_type": "code",
      "metadata": {
        "trusted": true,
        "_uuid": "dd20ffc31d87de07a6f2941b0500cda8c0b1b8e6",
        "id": "hqOzkC9xDVwn"
      },
      "source": [
        "countNoDisease = len(df[df.target == 0])\n",
        "countHaveDisease = len(df[df.target == 1])\n",
        "print(\"Percentage of Patients Haven't Heart Disease: {:.2f}%\".format((countNoDisease / (len(df.target))*100)))\n",
        "print(\"Percentage of Patients Have Heart Disease: {:.2f}%\".format((countHaveDisease / (len(df.target))*100)))"
      ],
      "execution_count": null,
      "outputs": []
    },
    {
      "cell_type": "code",
      "metadata": {
        "trusted": true,
        "_uuid": "aca4074785c40bcf036a59c14c78e3a503904724",
        "id": "1ggZTqy1DVwn"
      },
      "source": [
        "sns.countplot(x='sex', data=df, palette=\"mako_r\")\n",
        "plt.xlabel(\"Sex (0 = female, 1= male)\")\n",
        "plt.show()"
      ],
      "execution_count": null,
      "outputs": []
    },
    {
      "cell_type": "code",
      "metadata": {
        "trusted": true,
        "_uuid": "8780860cb02768a3bf112a41ab67f1f6bebe9146",
        "id": "FHSg2aSYDVwn"
      },
      "source": [
        "countFemale = len(df[df.sex == 0])\n",
        "countMale = len(df[df.sex == 1])\n",
        "print(\"Percentage of Female Patients: {:.2f}%\".format((countFemale / (len(df.sex))*100)))\n",
        "print(\"Percentage of Male Patients: {:.2f}%\".format((countMale / (len(df.sex))*100)))"
      ],
      "execution_count": null,
      "outputs": []
    },
    {
      "cell_type": "code",
      "metadata": {
        "trusted": true,
        "_uuid": "435f8691396c6f2b1a901809286eb64112126582",
        "id": "5p1Me1hWDVwn"
      },
      "source": [
        "df.groupby('target').mean()"
      ],
      "execution_count": null,
      "outputs": []
    },
    {
      "cell_type": "code",
      "metadata": {
        "trusted": true,
        "_uuid": "e0eed947b5490e93a43515ad6d2a6af9713f16ce",
        "id": "D1S3FvLqDVwo"
      },
      "source": [
        "pd.crosstab(df.age,df.target).plot(kind=\"bar\",figsize=(20,6))\n",
        "plt.title('Heart Disease Frequency for Ages')\n",
        "plt.xlabel('Age')\n",
        "plt.ylabel('Frequency')\n",
        "plt.savefig('heartDiseaseAndAges.png')\n",
        "plt.show()"
      ],
      "execution_count": null,
      "outputs": []
    },
    {
      "cell_type": "code",
      "metadata": {
        "trusted": true,
        "_uuid": "1cb0e9e4ec00ca7caa2e77a03dd0289e1c549708",
        "id": "vz_ERoyMDVwo"
      },
      "source": [
        "pd.crosstab(df.sex,df.target).plot(kind=\"bar\",figsize=(15,6),color=['#1CA53B','#AA1111' ])\n",
        "plt.title('Heart Disease Frequency for Sex')\n",
        "plt.xlabel('Sex (0 = Female, 1 = Male)')\n",
        "plt.xticks(rotation=0)\n",
        "plt.legend([\"Haven't Disease\", \"Have Disease\"])\n",
        "plt.ylabel('Frequency')\n",
        "plt.show()"
      ],
      "execution_count": null,
      "outputs": []
    },
    {
      "cell_type": "code",
      "metadata": {
        "trusted": true,
        "_uuid": "e5fe0744106dc26475e2e0274081789518ad8a51",
        "id": "i8m8fY_9DVwo"
      },
      "source": [
        "plt.scatter(x=df.age[df.target==1], y=df.thalach[(df.target==1)], c=\"red\")\n",
        "plt.scatter(x=df.age[df.target==0], y=df.thalach[(df.target==0)])\n",
        "plt.legend([\"Disease\", \"Not Disease\"])\n",
        "plt.xlabel(\"Age\")\n",
        "plt.ylabel(\"Maximum Heart Rate\")\n",
        "plt.show()"
      ],
      "execution_count": null,
      "outputs": []
    },
    {
      "cell_type": "code",
      "metadata": {
        "trusted": true,
        "_uuid": "730062aa471d6774f0b761ad2cb6a7043d339615",
        "id": "DA_Yl0J7DVwo"
      },
      "source": [
        "pd.crosstab(df.slope,df.target).plot(kind=\"bar\",figsize=(15,6),color=['#DAF7A6','#FF5733' ])\n",
        "plt.title('Heart Disease Frequency for Slope')\n",
        "plt.xlabel('The Slope of The Peak Exercise ST Segment ')\n",
        "plt.xticks(rotation = 0)\n",
        "plt.ylabel('Frequency')\n",
        "plt.show()"
      ],
      "execution_count": null,
      "outputs": []
    },
    {
      "cell_type": "code",
      "metadata": {
        "trusted": true,
        "_uuid": "3209c3a2fe67592b6ff6851327e98ac7606e14eb",
        "id": "UT74JhDtDVwp"
      },
      "source": [
        "pd.crosstab(df.fbs,df.target).plot(kind=\"bar\",figsize=(15,6),color=['#FFC300','#581845' ])\n",
        "plt.title('Heart Disease Frequency According To FBS')\n",
        "plt.xlabel('FBS - (Fasting Blood Sugar > 120 mg/dl) (1 = true; 0 = false)')\n",
        "plt.xticks(rotation = 0)\n",
        "plt.legend([\"Haven't Disease\", \"Have Disease\"])\n",
        "plt.ylabel('Frequency of Disease or Not')\n",
        "plt.show()"
      ],
      "execution_count": null,
      "outputs": []
    },
    {
      "cell_type": "code",
      "metadata": {
        "trusted": true,
        "_uuid": "10be6f01d184480eca7437799c214b4847fd3543",
        "id": "Osx2gDEpDVwp"
      },
      "source": [
        "pd.crosstab(df.cp,df.target).plot(kind=\"bar\",figsize=(15,6),color=['#11A5AA','#AA1190' ])\n",
        "plt.title('Heart Disease Frequency According To Chest Pain Type')\n",
        "plt.xlabel('Chest Pain Type')\n",
        "plt.xticks(rotation = 0)\n",
        "plt.ylabel('Frequency of Disease or Not')\n",
        "plt.show()"
      ],
      "execution_count": null,
      "outputs": []
    },
    {
      "cell_type": "markdown",
      "metadata": {
        "_uuid": "e2a8abf83186e8ddff507765dcea4e575e677624",
        "id": "T8w376zbDVwp"
      },
      "source": [
        "### Creating Dummy Variables"
      ]
    },
    {
      "cell_type": "markdown",
      "metadata": {
        "_uuid": "5d3461c57453ac62a71185997d716b755d00fa33",
        "id": "Qq21WvWPDVwp"
      },
      "source": [
        "![](http://)Since 'cp', 'thal' and 'slope' are categorical variables we'll turn them into dummy variables."
      ]
    },
    {
      "cell_type": "code",
      "metadata": {
        "trusted": true,
        "_uuid": "c2fb6259a757a62926b86aa0eea6f663a8ec094f",
        "id": "_HoO8ybBDVwq"
      },
      "source": [
        "a = pd.get_dummies(df['cp'], prefix = \"cp\")\n",
        "b = pd.get_dummies(df['thal'], prefix = \"thal\")\n",
        "c = pd.get_dummies(df['slope'], prefix = \"slope\")"
      ],
      "execution_count": null,
      "outputs": []
    },
    {
      "cell_type": "code",
      "metadata": {
        "trusted": true,
        "_uuid": "50380d91358131ae6b852c9666e4da5c2e4dee66",
        "id": "GN2hYQbSDVwq"
      },
      "source": [
        "frames = [df, a, b, c]\n",
        "df = pd.concat(frames, axis = 1)\n",
        "df.head()"
      ],
      "execution_count": null,
      "outputs": []
    },
    {
      "cell_type": "code",
      "metadata": {
        "trusted": true,
        "_uuid": "01011d45333bde3d9f95e3db93ae4517c72a741f",
        "id": "k-qnXkqmDVwq"
      },
      "source": [
        "df = df.drop(columns = ['cp', 'thal', 'slope'])\n",
        "df.head()"
      ],
      "execution_count": null,
      "outputs": []
    },
    {
      "cell_type": "markdown",
      "metadata": {
        "_uuid": "ea92dc67483868424e1bb15527d28be93dfeb208",
        "id": "Zos-UNZbDVwq"
      },
      "source": [
        "## Creating Model for Logistic Regression\n",
        "<br>\n",
        "We can use sklearn library or we can write functions ourselves. Let's them both. Firstly we will write our functions after that we'll use sklearn library to calculate score."
      ]
    },
    {
      "cell_type": "code",
      "metadata": {
        "trusted": true,
        "_uuid": "2e4577118ef837e24c955ea81562d8fb51a22b1c",
        "id": "krd8fKV5DVwq"
      },
      "source": [
        "y = df.target.values\n",
        "x_data = df.drop(['target'], axis = 1)"
      ],
      "execution_count": null,
      "outputs": []
    },
    {
      "cell_type": "markdown",
      "metadata": {
        "_uuid": "ee237d0ae2c7686cf7fda643f32bb55add7b4787",
        "id": "Vx4wXHArDVwq"
      },
      "source": [
        "### Normalize Data\n",
        "<br>\n",
        "<br>\n",
        "<img src=\"https://beyondbacktesting.files.wordpress.com/2017/07/normalization.png?w=863\" width=\"400px\"/>"
      ]
    },
    {
      "cell_type": "code",
      "metadata": {
        "trusted": true,
        "_uuid": "c60916b235e1962a53f95593b8d020c0acc079ed",
        "id": "4SI3RPArDVwr"
      },
      "source": [
        "# Normalize\n",
        "x = (x_data - np.min(x_data)) / (np.max(x_data) - np.min(x_data)).values"
      ],
      "execution_count": null,
      "outputs": []
    },
    {
      "cell_type": "markdown",
      "metadata": {
        "_uuid": "ef33f3d73211dca77ef04035492c6772685822bb",
        "id": "nLeFe_MBDVwr"
      },
      "source": [
        "We will split our data. 80% of our data will be train data and 20% of it will be test data."
      ]
    },
    {
      "cell_type": "code",
      "metadata": {
        "trusted": true,
        "_uuid": "3090d1ba1e8776706d23a1175db6d1451908a954",
        "id": "mOk6eq9lDVwr"
      },
      "source": [
        "x_train, x_test, y_train, y_test = train_test_split(x,y,test_size = 0.2,random_state=0)"
      ],
      "execution_count": null,
      "outputs": []
    },
    {
      "cell_type": "code",
      "metadata": {
        "trusted": true,
        "_uuid": "880e2db253fd1125bfa065ba0ae8840b68687e42",
        "id": "MskW7K3MDVwr"
      },
      "source": [
        "#transpose matrices\n",
        "x_train = x_train.T\n",
        "y_train = y_train.T\n",
        "x_test = x_test.T\n",
        "y_test = y_test.T"
      ],
      "execution_count": null,
      "outputs": []
    },
    {
      "cell_type": "markdown",
      "metadata": {
        "_uuid": "4933da952d5df4899eac737063ec7dc1aff23b2e",
        "id": "nLxfPmKoDVwr"
      },
      "source": [
        "Let's say weight = 0.01 and bias = 0.0"
      ]
    },
    {
      "cell_type": "code",
      "metadata": {
        "trusted": true,
        "_uuid": "e98deb17b979b67f57be48517cdcf631cd5363bc",
        "id": "MXrpkRmsDVwr"
      },
      "source": [
        "#initialize\n",
        "def initialize(dimension):\n",
        "    \n",
        "    weight = np.full((dimension,1),0.01)\n",
        "    bias = 0.0\n",
        "    return weight,bias"
      ],
      "execution_count": null,
      "outputs": []
    },
    {
      "cell_type": "markdown",
      "metadata": {
        "_uuid": "d707c6af5f7d32c9d699494cfbeddc04a687d4f3",
        "id": "35LXuiXEDVwr"
      },
      "source": [
        "### Sigmoid Function\n",
        "<br>\n",
        "<img src=\"https://qph.fs.quoracdn.net/main-qimg-05edc1873d0103e36064862a45566dba\" width=\"500px\"/>"
      ]
    },
    {
      "cell_type": "code",
      "metadata": {
        "trusted": true,
        "_uuid": "116fc66d415563ca82b5400b7852cce9dad004ba",
        "id": "m2Chx-sQDVws"
      },
      "source": [
        "def sigmoid(z):\n",
        "    \n",
        "    y_head = 1/(1+ np.exp(-z))\n",
        "    return y_head"
      ],
      "execution_count": null,
      "outputs": []
    },
    {
      "cell_type": "markdown",
      "metadata": {
        "_uuid": "3363dced8043a7db0ec0dc0464e14ff669c5b1d6",
        "id": "e6TeB-oRDVws"
      },
      "source": [
        "### Forward and Backward Propagation\n",
        "<br>\n",
        "<img src=\"https://image.slidesharecdn.com/gradientdescentbackpropandautomaticdifferentiation-160829164205/95/gradient-descent-back-propagation-and-auto-differentiation-advanced-spark-and-tensorflow-meetup-08042016-62-638.jpg?cb=1472489358\" width=\"500px\"/>"
      ]
    },
    {
      "cell_type": "markdown",
      "metadata": {
        "_uuid": "656c61dffe4729c195d84d117b2b8aa63c1cf9aa",
        "id": "MREvajDpDVws"
      },
      "source": [
        "### Cost Function\n",
        "<br>\n",
        "<img src=\"https://i.stack.imgur.com/XbU4S.png\" width=\"500px\"/>"
      ]
    },
    {
      "cell_type": "markdown",
      "metadata": {
        "_uuid": "948cf49e3a372a223ffcb809933e6aa0c1ad9515",
        "id": "5fVaYqTnDVws"
      },
      "source": [
        "### Gradient Descent\n",
        "<br>\n",
        "<img src=\"https://i.stack.imgur.com/pYVzl.png\" width=\"500px\"/>"
      ]
    },
    {
      "cell_type": "markdown",
      "metadata": {
        "_uuid": "34307d9833893a492402f94a467267175a24c8d8",
        "id": "ZaoInw0wDVws"
      },
      "source": [
        "By the way in formulas; <br>\n",
        "* h0(x^i)= y_head\n",
        "* y^i = y_train\n",
        "* x^i = x_train"
      ]
    },
    {
      "cell_type": "code",
      "metadata": {
        "trusted": true,
        "_uuid": "5998fbc58a696070458297830e30d4e4b036396d",
        "id": "UoR2ZEqzDVws"
      },
      "source": [
        "def forwardBackward(weight,bias,x_train,y_train):\n",
        "    # Forward\n",
        "    \n",
        "    y_head = sigmoid(np.dot(weight.T,x_train) + bias)\n",
        "    loss = -(y_train*np.log(y_head) + (1-y_train)*np.log(1-y_head))\n",
        "    cost = np.sum(loss) / x_train.shape[1]\n",
        "    \n",
        "    # Backward\n",
        "    derivative_weight = np.dot(x_train,((y_head-y_train).T))/x_train.shape[1]\n",
        "    derivative_bias = np.sum(y_head-y_train)/x_train.shape[1]\n",
        "    gradients = {\"Derivative Weight\" : derivative_weight, \"Derivative Bias\" : derivative_bias}\n",
        "    \n",
        "    return cost,gradients"
      ],
      "execution_count": null,
      "outputs": []
    },
    {
      "cell_type": "code",
      "metadata": {
        "trusted": true,
        "_uuid": "0241c5bec516229c2832728e27782c273ca35b57",
        "id": "kqySW3DKDVwt"
      },
      "source": [
        "def update(weight,bias,x_train,y_train,learningRate,iteration) :\n",
        "    costList = []\n",
        "    index = []\n",
        "    \n",
        "    #for each iteration, update weight and bias values\n",
        "    for i in range(iteration):\n",
        "        cost,gradients = forwardBackward(weight,bias,x_train,y_train)\n",
        "        weight = weight - learningRate * gradients[\"Derivative Weight\"]\n",
        "        bias = bias - learningRate * gradients[\"Derivative Bias\"]\n",
        "        \n",
        "        costList.append(cost)\n",
        "        index.append(i)\n",
        "\n",
        "    parameters = {\"weight\": weight,\"bias\": bias}\n",
        "    \n",
        "    print(\"iteration:\",iteration)\n",
        "    print(\"cost:\",cost)\n",
        "\n",
        "    plt.plot(index,costList)\n",
        "    plt.xlabel(\"Number of Iteration\")\n",
        "    plt.ylabel(\"Cost\")\n",
        "    plt.show()\n",
        "\n",
        "    return parameters, gradients"
      ],
      "execution_count": null,
      "outputs": []
    },
    {
      "cell_type": "code",
      "metadata": {
        "trusted": true,
        "_uuid": "a97c3ff651d88b280eb87ec076040f0becaf1f3e",
        "id": "AL-qs61rDVwt"
      },
      "source": [
        "def predict(weight,bias,x_test):\n",
        "    z = np.dot(weight.T,x_test) + bias\n",
        "    y_head = sigmoid(z)\n",
        "\n",
        "    y_prediction = np.zeros((1,x_test.shape[1]))\n",
        "    \n",
        "    for i in range(y_head.shape[1]):\n",
        "        if y_head[0,i] <= 0.5:\n",
        "            y_prediction[0,i] = 0\n",
        "        else:\n",
        "            y_prediction[0,i] = 1\n",
        "    return y_prediction"
      ],
      "execution_count": null,
      "outputs": []
    },
    {
      "cell_type": "code",
      "metadata": {
        "trusted": true,
        "_uuid": "1b3ae665060ba757d8e0f5f29458fadf4be144ff",
        "id": "8pwjzXbmDVwt"
      },
      "source": [
        "def logistic_regression(x_train,y_train,x_test,y_test,learningRate,iteration):\n",
        "    dimension = x_train.shape[0]\n",
        "    weight,bias = initialize(dimension)\n",
        "    \n",
        "    parameters, gradients = update(weight,bias,x_train,y_train,learningRate,iteration)\n",
        "\n",
        "    y_prediction = predict(parameters[\"weight\"],parameters[\"bias\"],x_test)\n",
        "    \n",
        "    print(\"Manuel Test Accuracy: {:.2f}%\".format((100 - np.mean(np.abs(y_prediction - y_test))*100)))"
      ],
      "execution_count": null,
      "outputs": []
    },
    {
      "cell_type": "code",
      "metadata": {
        "trusted": true,
        "_uuid": "d866efadafcc3b49a90016c00da6c4d981cd8837",
        "id": "qgf_bUliDVwt"
      },
      "source": [
        "logistic_regression(x_train,y_train,x_test,y_test,1,100)"
      ],
      "execution_count": null,
      "outputs": []
    },
    {
      "cell_type": "markdown",
      "metadata": {
        "_uuid": "75562006d1e3767f2a62c07301cce8766a3cf917",
        "id": "sfi3zXHtDVwt"
      },
      "source": [
        "## <font color=\"blue\">Manuel Test Accuracy is <font color=\"red\">**86.89%**</font></font><br>\n",
        "Let's find out sklearn's score."
      ]
    },
    {
      "cell_type": "markdown",
      "metadata": {
        "_uuid": "7ffb9f8fde45b53fb9bb6fbe25dc7339b1b15649",
        "id": "DA78kg60DVwt"
      },
      "source": [
        "### Sklearn Logistic Regression"
      ]
    },
    {
      "cell_type": "code",
      "metadata": {
        "trusted": true,
        "_uuid": "5592396ddebe9346767a2a34dd20abf300e5c730",
        "id": "qjfhgcfrDVwu"
      },
      "source": [
        "accuracies = {}\n",
        "\n",
        "lr = LogisticRegression()\n",
        "lr.fit(x_train.T,y_train.T)\n",
        "acc = lr.score(x_test.T,y_test.T)*100\n",
        "\n",
        "accuracies['Logistic Regression'] = acc\n",
        "print(\"Test Accuracy {:.2f}%\".format(acc))"
      ],
      "execution_count": null,
      "outputs": []
    },
    {
      "cell_type": "markdown",
      "metadata": {
        "_uuid": "e483010f6bf26cc8801061b5122e632fcac5337e",
        "id": "45d27Sv4DVwu"
      },
      "source": [
        "1. ## <font color = \"purple\">Our model works with <font color=\"red\">**86.89%**</font> accuracy.</font>"
      ]
    },
    {
      "cell_type": "markdown",
      "metadata": {
        "_uuid": "b0a524cdd6eb069d02aab429a1cf2024ab54cf18",
        "id": "q9gyb0jzDVwu"
      },
      "source": [
        "## K-Nearest Neighbour (KNN) Classification\n",
        "<br>\n",
        "Let's see what will be score if we use KNN algorithm."
      ]
    },
    {
      "cell_type": "markdown",
      "metadata": {
        "_uuid": "2a9f77931e249f18b5247349932fbf650d9052fe",
        "id": "QZ9gELD-DVwu"
      },
      "source": [
        "**KNN Algorithm**\n",
        "<br>\n",
        "<img src=\"http://res.cloudinary.com/dyd911kmh/image/upload/f_auto,q_auto:best/v1531424125/KNN_final_a1mrv9.png\"/>"
      ]
    },
    {
      "cell_type": "code",
      "metadata": {
        "trusted": true,
        "_uuid": "b5d2956d9f265b47645ec2a6cd2eb7d50af5783a",
        "id": "8tDyFiauDVwu"
      },
      "source": [
        "# KNN Model\n",
        "from sklearn.neighbors import KNeighborsClassifier\n",
        "knn = KNeighborsClassifier(n_neighbors = 2)  # n_neighbors means k\n",
        "knn.fit(x_train.T, y_train.T)\n",
        "prediction = knn.predict(x_test.T)\n",
        "\n",
        "print(\"{} NN Score: {:.2f}%\".format(2, knn.score(x_test.T, y_test.T)*100))"
      ],
      "execution_count": null,
      "outputs": []
    },
    {
      "cell_type": "code",
      "metadata": {
        "trusted": true,
        "_uuid": "8db6f0c13aa1462624cf0da04a03c9ee4db8a991",
        "id": "3jfFzSPmDVwv"
      },
      "source": [
        "# try ro find best k value\n",
        "scoreList = []\n",
        "for i in range(1,20):\n",
        "    knn2 = KNeighborsClassifier(n_neighbors = i)  # n_neighbors means k\n",
        "    knn2.fit(x_train.T, y_train.T)\n",
        "    scoreList.append(knn2.score(x_test.T, y_test.T))\n",
        "    \n",
        "plt.plot(range(1,20), scoreList)\n",
        "plt.xticks(np.arange(1,20,1))\n",
        "plt.xlabel(\"K value\")\n",
        "plt.ylabel(\"Score\")\n",
        "plt.show()\n",
        "\n",
        "acc = max(scoreList)*100\n",
        "accuracies['KNN'] = acc\n",
        "print(\"Maximum KNN Score is {:.2f}%\".format(acc))"
      ],
      "execution_count": null,
      "outputs": []
    },
    {
      "cell_type": "markdown",
      "metadata": {
        "_uuid": "02ec17348cc5c31a9f15ed8c132b8e3cf6e915c4",
        "id": "nby8JtElDVwv"
      },
      "source": [
        "As you can see above if we define k as 3-7-8 we will reach maximum score. <br>\n",
        "## <font color=\"green\">KNN Model's Accuracy is <font color=\"red\">88.52%</font></font>"
      ]
    },
    {
      "cell_type": "markdown",
      "metadata": {
        "_uuid": "ca03737d17129db8ac352aa7e2eb5ea71826f63b",
        "id": "8v7EbmlgDVwv"
      },
      "source": [
        "## Support Vector Machine (SVM) Algorithm \n",
        "Now we will use SVM algorithm. "
      ]
    },
    {
      "cell_type": "markdown",
      "metadata": {
        "_uuid": "a0eec2569ee5065a6f6fd7a25ed7f38c371b0afa",
        "id": "EfBAX0twDVwv"
      },
      "source": [
        "**Support Vector Machine Algorithm**\n",
        "<br>\n",
        "<img src=\"https://cdn-images-1.medium.com/max/1600/1*TudH6YvvH7-h5ZyF2dJV2w.jpeg\" width=\"500px\"/><br>\n",
        "<img src=\"https://aitrends.com/wp-content/uploads/2018/01/1-19SVM-2.jpg\" width=\"500px\"/>\n"
      ]
    },
    {
      "cell_type": "code",
      "metadata": {
        "trusted": true,
        "_uuid": "f51e85b552168f5ce56a43dd8ccb6452ee661317",
        "id": "oOsUKNoLDVwv"
      },
      "source": [
        "from sklearn.svm import SVC"
      ],
      "execution_count": null,
      "outputs": []
    },
    {
      "cell_type": "code",
      "metadata": {
        "trusted": true,
        "_uuid": "28b9d504870997c3213b4c26e75cd4e3d92d6275",
        "id": "6hOuT7oDDVwv"
      },
      "source": [
        "svm = SVC(random_state = 1)\n",
        "svm.fit(x_train.T, y_train.T)\n",
        "\n",
        "acc = svm.score(x_test.T,y_test.T)*100\n",
        "accuracies['SVM'] = acc\n",
        "print(\"Test Accuracy of SVM Algorithm: {:.2f}%\".format(acc))"
      ],
      "execution_count": null,
      "outputs": []
    },
    {
      "cell_type": "markdown",
      "metadata": {
        "_uuid": "d4107ae5690372c7c5ebdea21a46ea7e04adeefa",
        "id": "2HdiHzZpDVww"
      },
      "source": [
        "## <font color=\"orange\">Test Accuracy of SVM Algorithm is <font color=\"red\"> 86.89%</font></font>"
      ]
    },
    {
      "cell_type": "markdown",
      "metadata": {
        "_uuid": "058a659cd261c900ff5ce0c6894420cbc0d00232",
        "id": "TZ4O-jVfDVww"
      },
      "source": [
        "## Naive Bayes Algorithm"
      ]
    },
    {
      "cell_type": "markdown",
      "metadata": {
        "_uuid": "cb36324c6650e7371de9e77e53d6a531dd94a93a",
        "id": "bJnKupDsDVww"
      },
      "source": [
        "**Naive Bayes Algorithm**\n",
        "<br>\n",
        "<img src=\"https://s3.ap-south-1.amazonaws.com/techleer/204.png\" width=\"500px\"/>"
      ]
    },
    {
      "cell_type": "code",
      "metadata": {
        "trusted": true,
        "_uuid": "0544f45710912dab11c597b9a743bdc712f1e826",
        "id": "NT0Y-zf0DVwx"
      },
      "source": [
        "from sklearn.naive_bayes import GaussianNB\n",
        "nb = GaussianNB()\n",
        "nb.fit(x_train.T, y_train.T)\n",
        "\n",
        "acc = nb.score(x_test.T,y_test.T)*100\n",
        "accuracies['Naive Bayes'] = acc\n",
        "print(\"Accuracy of Naive Bayes: {:.2f}%\".format(acc))"
      ],
      "execution_count": null,
      "outputs": []
    },
    {
      "cell_type": "markdown",
      "metadata": {
        "_uuid": "678daa3a73af2129b879f759a22eb6ea7e70370e",
        "id": "5KkObH4eDVwx"
      },
      "source": [
        "## <font color=\"magenta\">Accuracy of Naive Bayes: <font color=\"red\">86.89%</font></font>"
      ]
    },
    {
      "cell_type": "markdown",
      "metadata": {
        "_uuid": "998124b79b0c01da04cf9992112eafb60bdb857a",
        "id": "pcXrHUkxDVwx"
      },
      "source": [
        "## Decision Tree Algorithm"
      ]
    },
    {
      "cell_type": "markdown",
      "metadata": {
        "_uuid": "cd08ae4ab93fa7de207a80412f4a8cdfb8cfd932",
        "id": "w3WidHyqDVwy"
      },
      "source": [
        "**Decision Tree Algorithm**\n",
        "<br>\n",
        "![image.png](attachment:image.png)"
      ]
    },
    {
      "cell_type": "code",
      "metadata": {
        "trusted": true,
        "_uuid": "a3f57a094e75c7072857cb8adb40afa3fead5a26",
        "id": "OYgwlca4DVwy"
      },
      "source": [
        "from sklearn.tree import DecisionTreeClassifier\n",
        "dtc = DecisionTreeClassifier()\n",
        "dtc.fit(x_train.T, y_train.T)\n",
        "\n",
        "acc = dtc.score(x_test.T, y_test.T)*100\n",
        "accuracies['Decision Tree'] = acc\n",
        "print(\"Decision Tree Test Accuracy {:.2f}%\".format(acc))"
      ],
      "execution_count": null,
      "outputs": []
    },
    {
      "cell_type": "markdown",
      "metadata": {
        "_uuid": "b6914af2063b8991db2db75edb1e5eebee108b1c",
        "id": "a3fryGF2DVwy"
      },
      "source": [
        "## <font color=\"#CFC60E\">Test Accuracy of Decision Tree Algorithm: <font color=\"red\">78.69%</font></font>"
      ]
    },
    {
      "cell_type": "markdown",
      "metadata": {
        "_uuid": "8b409e74067d3b7acfb1841fb35be018fbb92183",
        "id": "K2XVYWlYDVwy"
      },
      "source": [
        "## Random Forest Classification"
      ]
    },
    {
      "cell_type": "code",
      "metadata": {
        "trusted": true,
        "_uuid": "c81ae8e5658bea3a910901e6bc35a319bba701a9",
        "id": "-yNgrNVtDVwy"
      },
      "source": [
        "# Random Forest Classification\n",
        "from sklearn.ensemble import RandomForestClassifier\n",
        "rf = RandomForestClassifier(n_estimators = 1000, random_state = 1)\n",
        "rf.fit(x_train.T, y_train.T)\n",
        "\n",
        "acc = rf.score(x_test.T,y_test.T)*100\n",
        "accuracies['Random Forest'] = acc\n",
        "print(\"Random Forest Algorithm Accuracy Score : {:.2f}%\".format(acc))"
      ],
      "execution_count": null,
      "outputs": []
    },
    {
      "cell_type": "markdown",
      "metadata": {
        "_uuid": "a0ce99be479572718f67cf4cc178299fdd9ff6a1",
        "id": "h6-XBs3eDVwz"
      },
      "source": [
        "## <font color=\"#0FBBAE\">Test Accuracy of Random Forest: <font color=\"red\">88.52%</font></font>"
      ]
    },
    {
      "cell_type": "markdown",
      "metadata": {
        "_uuid": "3ba9f36a63105b2557e4314be41dc9620fab27f6",
        "id": "UaldTAHWDVwz"
      },
      "source": [
        "## Comparing Models"
      ]
    },
    {
      "cell_type": "code",
      "metadata": {
        "trusted": true,
        "_uuid": "9e594d64f9a20255ca8687179d858e3dce855136",
        "id": "NpIS_iafDVwz"
      },
      "source": [
        "colors = [\"purple\", \"green\", \"orange\", \"magenta\",\"#CFC60E\",\"#0FBBAE\"]\n",
        "\n",
        "sns.set_style(\"whitegrid\")\n",
        "plt.figure(figsize=(16,5))\n",
        "plt.yticks(np.arange(0,100,10))\n",
        "plt.ylabel(\"Accuracy %\")\n",
        "plt.xlabel(\"Algorithms\")\n",
        "sns.barplot(x=list(accuracies.keys()), y=list(accuracies.values()), palette=colors)\n",
        "plt.show()"
      ],
      "execution_count": null,
      "outputs": []
    },
    {
      "cell_type": "markdown",
      "metadata": {
        "_uuid": "3300e662f1fffbcc9c9aea95d6c11e559e84e412",
        "id": "_hEKajtjDVwz"
      },
      "source": [
        "Our models work fine but best of them are KNN and Random Forest with 88.52% of accuracy. Let's look their confusion matrixes."
      ]
    },
    {
      "cell_type": "markdown",
      "metadata": {
        "_uuid": "0f8e3cd00eb3f1c573468e4a8708d7a6ca8df67b",
        "id": "FbyecA1WDVw0"
      },
      "source": [
        "## Confusion Matrix"
      ]
    },
    {
      "cell_type": "code",
      "metadata": {
        "trusted": true,
        "_uuid": "3a280577a5739b773e3ce0ca50d3cda671ba9a32",
        "id": "aKDXGM3fDVw0"
      },
      "source": [
        "# Predicted values\n",
        "y_head_lr = lr.predict(x_test.T)\n",
        "knn3 = KNeighborsClassifier(n_neighbors = 3)\n",
        "knn3.fit(x_train.T, y_train.T)\n",
        "y_head_knn = knn3.predict(x_test.T)\n",
        "y_head_svm = svm.predict(x_test.T)\n",
        "y_head_nb = nb.predict(x_test.T)\n",
        "y_head_dtc = dtc.predict(x_test.T)\n",
        "y_head_rf = rf.predict(x_test.T)"
      ],
      "execution_count": null,
      "outputs": []
    },
    {
      "cell_type": "code",
      "metadata": {
        "trusted": true,
        "_uuid": "89e2140778e93d3eecfc41d5b995cb9131633313",
        "id": "Y0DLPGQGDVw0"
      },
      "source": [
        "from sklearn.metrics import confusion_matrix\n",
        "\n",
        "cm_lr = confusion_matrix(y_test,y_head_lr)\n",
        "cm_knn = confusion_matrix(y_test,y_head_knn)\n",
        "cm_svm = confusion_matrix(y_test,y_head_svm)\n",
        "cm_nb = confusion_matrix(y_test,y_head_nb)\n",
        "cm_dtc = confusion_matrix(y_test,y_head_dtc)\n",
        "cm_rf = confusion_matrix(y_test,y_head_rf)\n"
      ],
      "execution_count": null,
      "outputs": []
    },
    {
      "cell_type": "code",
      "metadata": {
        "trusted": true,
        "_uuid": "b91a2a68b5cc12ea58f255731cf76d49fd2ed5ec",
        "id": "CdUX8aK3DVw1"
      },
      "source": [
        "plt.figure(figsize=(24,12))\n",
        "\n",
        "plt.suptitle(\"Confusion Matrixes\",fontsize=24)\n",
        "plt.subplots_adjust(wspace = 0.4, hspace= 0.4)\n",
        "\n",
        "plt.subplot(2,3,1)\n",
        "plt.title(\"Logistic Regression Confusion Matrix\")\n",
        "sns.heatmap(cm_lr,annot=True,cmap=\"Blues\",fmt=\"d\",cbar=False, annot_kws={\"size\": 24})\n",
        "\n",
        "plt.subplot(2,3,2)\n",
        "plt.title(\"K Nearest Neighbors Confusion Matrix\")\n",
        "sns.heatmap(cm_knn,annot=True,cmap=\"Blues\",fmt=\"d\",cbar=False, annot_kws={\"size\": 24})\n",
        "\n",
        "plt.subplot(2,3,3)\n",
        "plt.title(\"Support Vector Machine Confusion Matrix\")\n",
        "sns.heatmap(cm_svm,annot=True,cmap=\"Blues\",fmt=\"d\",cbar=False, annot_kws={\"size\": 24})\n",
        "\n",
        "plt.subplot(2,3,4)\n",
        "plt.title(\"Naive Bayes Confusion Matrix\")\n",
        "sns.heatmap(cm_nb,annot=True,cmap=\"Blues\",fmt=\"d\",cbar=False, annot_kws={\"size\": 24})\n",
        "\n",
        "plt.subplot(2,3,5)\n",
        "plt.title(\"Decision Tree Classifier Confusion Matrix\")\n",
        "sns.heatmap(cm_dtc,annot=True,cmap=\"Blues\",fmt=\"d\",cbar=False, annot_kws={\"size\": 24})\n",
        "\n",
        "plt.subplot(2,3,6)\n",
        "plt.title(\"Random Forest Confusion Matrix\")\n",
        "sns.heatmap(cm_rf,annot=True,cmap=\"Blues\",fmt=\"d\",cbar=False, annot_kws={\"size\": 24})\n",
        "\n",
        "plt.show()"
      ],
      "execution_count": null,
      "outputs": []
    },
    {
      "cell_type": "markdown",
      "metadata": {
        "_uuid": "e6ac9b36fd4b17bd96a5879f8c269f90171d5982",
        "id": "6JQ4JzIeDVw1"
      },
      "source": [
        "**I am new with data science. Please comment me your feedbacks to help me improve myself. Thanks for your time.**"
      ]
    }
  ]
}