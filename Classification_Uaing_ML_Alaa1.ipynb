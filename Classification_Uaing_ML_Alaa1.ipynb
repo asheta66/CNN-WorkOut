{
  "nbformat": 4,
  "nbformat_minor": 0,
  "metadata": {
    "kernelspec": {
      "display_name": "Python 3",
      "language": "python",
      "name": "python3"
    },
    "language_info": {
      "name": "python",
      "version": "3.6.6",
      "mimetype": "text/x-python",
      "codemirror_mode": {
        "name": "ipython",
        "version": 3
      },
      "pygments_lexer": "ipython3",
      "nbconvert_exporter": "python",
      "file_extension": ".py"
    },
    "colab": {
      "name": "Copy of heart-disease-classifications-machine-learning.ipynb",
      "provenance": [],
      "include_colab_link": true
    }
  },
  "cells": [
    {
      "cell_type": "markdown",
      "metadata": {
        "id": "view-in-github",
        "colab_type": "text"
      },
      "source": [
        "<a href=\"https://colab.research.google.com/github/asheta66/CNN-WorkOut/blob/main/Classification_Uaing_ML_Alaa1.ipynb\" target=\"_parent\"><img src=\"https://colab.research.google.com/assets/colab-badge.svg\" alt=\"Open In Colab\"/></a>"
      ]
    },
    {
      "cell_type": "markdown",
      "metadata": {
        "_uuid": "5878df22aae1c5888a07fe2c49d0bbe1551a3c55",
        "id": "_DmTvyNeDVwi"
      },
      "source": [
        "\n",
        "\n",
        "```\n",
        "# This is formatted as code\n",
        "```\n",
        "\n",
        "# Classification Using Machine Learning (Alaa1)\n",
        "<br>\n",
        "We have a data which classified if patients have heart disease or not according to features in it. We will try to use this data to create a model which tries predict if a patient has this disease or not. We will use logistic regression (classification) algorithm."
      ]
    },
    {
      "cell_type": "code",
      "metadata": {
        "_uuid": "8f2839f25d086af736a60e9eeb907d3b93b6e0e5",
        "_cell_guid": "b1076dfc-b9ad-4769-8c92-a6c4dae69d19",
        "trusted": true,
        "id": "wW-opvFIDVwj"
      },
      "source": [
        "# This Python 3 environment comes with many helpful analytics libraries installed\n",
        "# It is defined by the kaggle/python docker image: https://github.com/kaggle/docker-python\n",
        "# For example, here's several helpful packages to load in \n",
        "\n",
        "import numpy as np\n",
        "import pandas as pd\n",
        "import matplotlib.pyplot as plt\n",
        "import seaborn as sns\n",
        "from sklearn.linear_model import LogisticRegression\n",
        "from sklearn.model_selection import train_test_split\n",
        "\n",
        "# Input data files are available in the \"../input/\" directory.\n",
        "# For example, running this (by clicking run or pressing Shift+Enter) will list the files in the input directory\n",
        "\n",
        "import os\n",
        "# Dataset is now stored in a Pandas Dataframe\n",
        "#print(os.listdir(\"https://github.com/asheta66/CNN-WorkOut/blob/0085735f6794dbef57badc24dc60d16a20c31f72/Test1.csv\"))\n",
        "\n",
        "# Any results you write to the current directory are saved as output."
      ],
      "execution_count": 208,
      "outputs": []
    },
    {
      "cell_type": "markdown",
      "metadata": {
        "_cell_guid": "79c7e3d0-c299-4dcb-8224-4455121ee9b0",
        "collapsed": true,
        "_uuid": "d629ff2d2480ee46fbb7e2d37f6b5fab8052498a",
        "trusted": false,
        "id": "EUX7WjW8DVwk"
      },
      "source": [
        "## Read Data"
      ]
    },
    {
      "cell_type": "code",
      "metadata": {
        "trusted": true,
        "_uuid": "8d0ffd4e0549f6f2eb24c7cc258256f2fb63ec48",
        "id": "yOaloGybDVwl"
      },
      "source": [
        "# We are reading our data\n",
        "url = \"https://raw.githubusercontent.com/asheta66/CNN-WorkOut/main/copd2.csv\"\n",
        "df  =  pd.read_csv(url)"
      ],
      "execution_count": 209,
      "outputs": []
    },
    {
      "cell_type": "code",
      "metadata": {
        "trusted": true,
        "_uuid": "4dee2636361981b0f92a8a585d49f581283d6222",
        "id": "mV1Ym-t4DVwl",
        "colab": {
          "base_uri": "https://localhost:8080/",
          "height": 204
        },
        "outputId": "35f15fcf-9a8c-4b4a-f8ba-7784033a33c1"
      },
      "source": [
        "# First 5 rows of our data\n",
        "df.head()"
      ],
      "execution_count": 210,
      "outputs": [
        {
          "output_type": "execute_result",
          "data": {
            "text/html": [
              "<div>\n",
              "<style scoped>\n",
              "    .dataframe tbody tr th:only-of-type {\n",
              "        vertical-align: middle;\n",
              "    }\n",
              "\n",
              "    .dataframe tbody tr th {\n",
              "        vertical-align: top;\n",
              "    }\n",
              "\n",
              "    .dataframe thead th {\n",
              "        text-align: right;\n",
              "    }\n",
              "</style>\n",
              "<table border=\"1\" class=\"dataframe\">\n",
              "  <thead>\n",
              "    <tr style=\"text-align: right;\">\n",
              "      <th></th>\n",
              "      <th>height</th>\n",
              "      <th>weight</th>\n",
              "      <th>age</th>\n",
              "      <th>sex</th>\n",
              "      <th>race</th>\n",
              "      <th>fv1/fvc</th>\n",
              "      <th>fev1/fev6</th>\n",
              "      <th>smoker</th>\n",
              "      <th>cough</th>\n",
              "      <th>dapnea</th>\n",
              "      <th>target</th>\n",
              "    </tr>\n",
              "  </thead>\n",
              "  <tbody>\n",
              "    <tr>\n",
              "      <th>0</th>\n",
              "      <td>66.50</td>\n",
              "      <td>165.0</td>\n",
              "      <td>66</td>\n",
              "      <td>0</td>\n",
              "      <td>0</td>\n",
              "      <td>48</td>\n",
              "      <td>102</td>\n",
              "      <td>1</td>\n",
              "      <td>1</td>\n",
              "      <td>1</td>\n",
              "      <td>1</td>\n",
              "    </tr>\n",
              "    <tr>\n",
              "      <th>1</th>\n",
              "      <td>68.75</td>\n",
              "      <td>204.0</td>\n",
              "      <td>66</td>\n",
              "      <td>0</td>\n",
              "      <td>0</td>\n",
              "      <td>52</td>\n",
              "      <td>79</td>\n",
              "      <td>1</td>\n",
              "      <td>0</td>\n",
              "      <td>0</td>\n",
              "      <td>1</td>\n",
              "    </tr>\n",
              "    <tr>\n",
              "      <th>2</th>\n",
              "      <td>68.00</td>\n",
              "      <td>197.0</td>\n",
              "      <td>59</td>\n",
              "      <td>0</td>\n",
              "      <td>1</td>\n",
              "      <td>80</td>\n",
              "      <td>69</td>\n",
              "      <td>0</td>\n",
              "      <td>1</td>\n",
              "      <td>1</td>\n",
              "      <td>1</td>\n",
              "    </tr>\n",
              "    <tr>\n",
              "      <th>3</th>\n",
              "      <td>62.00</td>\n",
              "      <td>141.0</td>\n",
              "      <td>79</td>\n",
              "      <td>1</td>\n",
              "      <td>0</td>\n",
              "      <td>69</td>\n",
              "      <td>99</td>\n",
              "      <td>1</td>\n",
              "      <td>0</td>\n",
              "      <td>1</td>\n",
              "      <td>1</td>\n",
              "    </tr>\n",
              "    <tr>\n",
              "      <th>4</th>\n",
              "      <td>61.50</td>\n",
              "      <td>159.0</td>\n",
              "      <td>80</td>\n",
              "      <td>1</td>\n",
              "      <td>0</td>\n",
              "      <td>70</td>\n",
              "      <td>102</td>\n",
              "      <td>1</td>\n",
              "      <td>1</td>\n",
              "      <td>0</td>\n",
              "      <td>1</td>\n",
              "    </tr>\n",
              "  </tbody>\n",
              "</table>\n",
              "</div>"
            ],
            "text/plain": [
              "   height  weight  age  sex  race  ...  fev1/fev6  smoker  cough  dapnea  target\n",
              "0   66.50   165.0   66    0     0  ...        102       1      1       1       1\n",
              "1   68.75   204.0   66    0     0  ...         79       1      0       0       1\n",
              "2   68.00   197.0   59    0     1  ...         69       0      1       1       1\n",
              "3   62.00   141.0   79    1     0  ...         99       1      0       1       1\n",
              "4   61.50   159.0   80    1     0  ...        102       1      1       0       1\n",
              "\n",
              "[5 rows x 11 columns]"
            ]
          },
          "metadata": {
            "tags": []
          },
          "execution_count": 210
        }
      ]
    },
    {
      "cell_type": "markdown",
      "metadata": {
        "_uuid": "e7df2228490edc65cef3d01659b4ef96fe15e191",
        "id": "BpJ-U1h1DVwl"
      },
      "source": [
        "Data contains; <br>\n",
        "\n",
        "*   height\t<br>\n",
        "*   weight\t<br>\n",
        "*   age - age in years\t<br> \n",
        "*   sex - (1 = male; 2 = female)<br> \t\n",
        "*   ace<br>\t\n",
        "*   x1<br>\t\n",
        "*   x2 <br>\t\n",
        "*   fev1_pre<br>\t\n",
        "*   fev1_post\t<br>\n",
        "*   fev1_fvc_pre<br>\n",
        "*  target - have disease or not (Y=yes, N=no)"
      ]
    },
    {
      "cell_type": "markdown",
      "metadata": {
        "_uuid": "5c510b6aea2f9083981bf75dc67c5250b3b891c7",
        "id": "06GuvUdODVwm"
      },
      "source": [
        "## Data Exploration"
      ]
    },
    {
      "cell_type": "code",
      "metadata": {
        "trusted": true,
        "_uuid": "00af1961381609399dd80ca7c6a950277c120357",
        "id": "eD5lqLcZDVwm",
        "colab": {
          "base_uri": "https://localhost:8080/"
        },
        "outputId": "139a9bdd-682a-495a-e2cf-c522d2691434"
      },
      "source": [
        "df.target.value_counts()"
      ],
      "execution_count": 211,
      "outputs": [
        {
          "output_type": "execute_result",
          "data": {
            "text/plain": [
              "0    1151\n",
              "1     706\n",
              "Name: target, dtype: int64"
            ]
          },
          "metadata": {
            "tags": []
          },
          "execution_count": 211
        }
      ]
    },
    {
      "cell_type": "code",
      "metadata": {
        "trusted": true,
        "_uuid": "f0c639a82d794e41978199f7fa4405a01a7b805e",
        "id": "V-8VimrTDVwm",
        "colab": {
          "base_uri": "https://localhost:8080/",
          "height": 282
        },
        "outputId": "b1026f5c-afab-4c3e-b4cf-0310f0631e6c"
      },
      "source": [
        "sns.countplot(x=\"target\", data=df, palette=\"bwr\")\n",
        "plt.show()"
      ],
      "execution_count": 212,
      "outputs": [
        {
          "output_type": "display_data",
          "data": {
            "image/png": "[encoded data removed]",
            "text/plain": [
              "<Figure size 432x288 with 1 Axes>"
            ]
          },
          "metadata": {
            "tags": [],
            "needs_background": "light"
          }
        }
      ]
    },
    {
      "cell_type": "code",
      "metadata": {
        "trusted": true,
        "_uuid": "dd20ffc31d87de07a6f2941b0500cda8c0b1b8e6",
        "id": "hqOzkC9xDVwn",
        "colab": {
          "base_uri": "https://localhost:8080/"
        },
        "outputId": "53187327-3a98-4d69-8c16-695f3c31bbe7"
      },
      "source": [
        "countNoDisease = len(df[df.target == 1])\n",
        "countHaveDisease = len(df[df.target == 0])\n",
        "print(\"Percentage of Patients Haven't Heart Disease: {:.2f}%\".format((countNoDisease / (len(df.target))*100)))\n",
        "print(\"Percentage of Patients Have Heart Disease: {:.2f}%\".format((countHaveDisease / (len(df.target))*100)))"
      ],
      "execution_count": 213,
      "outputs": [
        {
          "output_type": "stream",
          "text": [
            "Percentage of Patients Haven't Heart Disease: 38.02%\n",
            "Percentage of Patients Have Heart Disease: 61.98%\n"
          ],
          "name": "stdout"
        }
      ]
    },
    {
      "cell_type": "code",
      "metadata": {
        "trusted": true,
        "_uuid": "aca4074785c40bcf036a59c14c78e3a503904724",
        "id": "1ggZTqy1DVwn",
        "colab": {
          "base_uri": "https://localhost:8080/",
          "height": 279
        },
        "outputId": "3d8162d9-5227-4f97-bd36-afba9f0e455e"
      },
      "source": [
        "sns.countplot(x='sex', data=df, palette=\"mako_r\")\n",
        "plt.xlabel(\"Sex (1= male, 2 = female)\")\n",
        "plt.show()"
      ],
      "execution_count": 214,
      "outputs": [
        {
          "output_type": "display_data",
          "data": {
            "image/png": "[encoded data removed]",
            "text/plain": [
              "<Figure size 432x288 with 1 Axes>"
            ]
          },
          "metadata": {
            "tags": [],
            "needs_background": "light"
          }
        }
      ]
    },
    {
      "cell_type": "code",
      "metadata": {
        "trusted": true,
        "_uuid": "8780860cb02768a3bf112a41ab67f1f6bebe9146",
        "id": "FHSg2aSYDVwn",
        "colab": {
          "base_uri": "https://localhost:8080/"
        },
        "outputId": "7802811d-ad95-4467-c69a-eaa0c0f7cd09"
      },
      "source": [
        "countFemale = len(df[df.sex == 1])\n",
        "countMale = len(df[df.sex == 0])\n",
        "print(\"Percentage of Female Patients: {:.2f}%\".format((countFemale / (len(df.sex))*100)))\n",
        "print(\"Percentage of Male Patients: {:.2f}%\".format((countMale / (len(df.sex))*100)))"
      ],
      "execution_count": 216,
      "outputs": [
        {
          "output_type": "stream",
          "text": [
            "Percentage of Female Patients: 54.39%\n",
            "Percentage of Male Patients: 45.61%\n"
          ],
          "name": "stdout"
        }
      ]
    },
    {
      "cell_type": "code",
      "metadata": {
        "trusted": true,
        "_uuid": "435f8691396c6f2b1a901809286eb64112126582",
        "id": "5p1Me1hWDVwn",
        "colab": {
          "base_uri": "https://localhost:8080/",
          "height": 142
        },
        "outputId": "28e0f252-b779-48a5-d7a6-58af7c0586a9"
      },
      "source": [
        "df.groupby('target').mean()"
      ],
      "execution_count": 217,
      "outputs": [
        {
          "output_type": "execute_result",
          "data": {
            "text/html": [
              "<div>\n",
              "<style scoped>\n",
              "    .dataframe tbody tr th:only-of-type {\n",
              "        vertical-align: middle;\n",
              "    }\n",
              "\n",
              "    .dataframe tbody tr th {\n",
              "        vertical-align: top;\n",
              "    }\n",
              "\n",
              "    .dataframe thead th {\n",
              "        text-align: right;\n",
              "    }\n",
              "</style>\n",
              "<table border=\"1\" class=\"dataframe\">\n",
              "  <thead>\n",
              "    <tr style=\"text-align: right;\">\n",
              "      <th></th>\n",
              "      <th>height</th>\n",
              "      <th>weight</th>\n",
              "      <th>age</th>\n",
              "      <th>sex</th>\n",
              "      <th>race</th>\n",
              "      <th>fv1/fvc</th>\n",
              "      <th>fev1/fev6</th>\n",
              "      <th>smoker</th>\n",
              "      <th>cough</th>\n",
              "      <th>dapnea</th>\n",
              "    </tr>\n",
              "    <tr>\n",
              "      <th>target</th>\n",
              "      <th></th>\n",
              "      <th></th>\n",
              "      <th></th>\n",
              "      <th></th>\n",
              "      <th></th>\n",
              "      <th></th>\n",
              "      <th></th>\n",
              "      <th></th>\n",
              "      <th></th>\n",
              "      <th></th>\n",
              "    </tr>\n",
              "  </thead>\n",
              "  <tbody>\n",
              "    <tr>\n",
              "      <th>0</th>\n",
              "      <td>64.283927</td>\n",
              "      <td>194.215769</td>\n",
              "      <td>65.253692</td>\n",
              "      <td>0.569939</td>\n",
              "      <td>0.508254</td>\n",
              "      <td>78.490009</td>\n",
              "      <td>98.360556</td>\n",
              "      <td>0.494353</td>\n",
              "      <td>0.572546</td>\n",
              "      <td>0.743701</td>\n",
              "    </tr>\n",
              "    <tr>\n",
              "      <th>1</th>\n",
              "      <td>64.278329</td>\n",
              "      <td>184.364023</td>\n",
              "      <td>70.779037</td>\n",
              "      <td>0.501416</td>\n",
              "      <td>0.337110</td>\n",
              "      <td>65.060907</td>\n",
              "      <td>85.046742</td>\n",
              "      <td>0.824363</td>\n",
              "      <td>0.614731</td>\n",
              "      <td>0.841360</td>\n",
              "    </tr>\n",
              "  </tbody>\n",
              "</table>\n",
              "</div>"
            ],
            "text/plain": [
              "           height      weight        age  ...    smoker     cough    dapnea\n",
              "target                                    ...                              \n",
              "0       64.283927  194.215769  65.253692  ...  0.494353  0.572546  0.743701\n",
              "1       64.278329  184.364023  70.779037  ...  0.824363  0.614731  0.841360\n",
              "\n",
              "[2 rows x 10 columns]"
            ]
          },
          "metadata": {
            "tags": []
          },
          "execution_count": 217
        }
      ]
    },
    {
      "cell_type": "code",
      "metadata": {
        "trusted": true,
        "_uuid": "e0eed947b5490e93a43515ad6d2a6af9713f16ce",
        "id": "D1S3FvLqDVwo",
        "colab": {
          "base_uri": "https://localhost:8080/",
          "height": 407
        },
        "outputId": "e4b7f3aa-d810-4a07-9123-b27c414d7ca5"
      },
      "source": [
        "pd.crosstab(df.age,df.target).plot(kind=\"bar\",figsize=(20,6))\n",
        "plt.title('COPD for Ages')\n",
        "plt.xlabel('Age')\n",
        "plt.ylabel('Frequency')\n",
        "plt.savefig('COPDforAges.png')\n",
        "plt.show()"
      ],
      "execution_count": 218,
      "outputs": [
        {
          "output_type": "display_data",
          "data": {
            "image/png": "[encoded data removed]",
            "text/plain": [
              "<Figure size 1440x432 with 1 Axes>"
            ]
          },
          "metadata": {
            "tags": [],
            "needs_background": "light"
          }
        }
      ]
    },
    {
      "cell_type": "code",
      "metadata": {
        "colab": {
          "base_uri": "https://localhost:8080/",
          "height": 400
        },
        "id": "ThHoatxwNdpw",
        "outputId": "a36590dd-7541-43bb-8e54-6efc9deb3c76"
      },
      "source": [
        "pd.crosstab(df.smoker,df.target).plot(kind=\"bar\",figsize=(20,6))\n",
        "plt.title('COPD for Smoker')\n",
        "plt.xlabel('Smoker (0=Non Smoker 1=Smoker')\n",
        "plt.ylabel('Frequency')\n",
        "plt.savefig('COPDforSmoker.png')\n",
        "plt.show()"
      ],
      "execution_count": 220,
      "outputs": [
        {
          "output_type": "display_data",
          "data": {
            "image/png": "[encoded data removed]",
            "text/plain": [
              "<Figure size 1440x432 with 1 Axes>"
            ]
          },
          "metadata": {
            "tags": [],
            "needs_background": "light"
          }
        }
      ]
    },
    {
      "cell_type": "code",
      "metadata": {
        "trusted": true,
        "_uuid": "1cb0e9e4ec00ca7caa2e77a03dd0289e1c549708",
        "id": "vz_ERoyMDVwo",
        "colab": {
          "base_uri": "https://localhost:8080/",
          "height": 404
        },
        "outputId": "34b7070d-bc81-4f4c-9755-23f33f010f65"
      },
      "source": [
        "pd.crosstab(df.race,df.target).plot(kind=\"bar\",figsize=(15,6),color=['#1CA53B','#AA1111' ])\n",
        "plt.title('COPD for Race')\n",
        "plt.xlabel('Sex (1=CAUCASIAN, 2=HISPANIC, 3=AFRICAN AMERICAN)')\n",
        "plt.xticks(rotation=0)\n",
        "plt.legend([\"Haven't Disease\", \"Have Disease\"])\n",
        "plt.ylabel('Frequency')\n",
        "plt.show()"
      ],
      "execution_count": 221,
      "outputs": [
        {
          "output_type": "display_data",
          "data": {
            "image/png": "[encoded data removed]",
            "text/plain": [
              "<Figure size 1080x432 with 1 Axes>"
            ]
          },
          "metadata": {
            "tags": [],
            "needs_background": "light"
          }
        }
      ]
    },
    {
      "cell_type": "code",
      "metadata": {
        "trusted": true,
        "_uuid": "e5fe0744106dc26475e2e0274081789518ad8a51",
        "id": "i8m8fY_9DVwo",
        "colab": {
          "base_uri": "https://localhost:8080/",
          "height": 279
        },
        "outputId": "2c173702-ab7d-4660-f700-899a6e66d1bd"
      },
      "source": [
        "plt.scatter(x=df.age[df.target==0], y=df.height[(df.target==0)], c=\"red\")\n",
        "plt.scatter(x=df.age[df.target==1], y=df.height[(df.target==1)])\n",
        "plt.legend([\"Disease\", \"Not Disease\"])\n",
        "plt.xlabel(\"Age\")\n",
        "plt.ylabel(\"COPD\")\n",
        "plt.show()"
      ],
      "execution_count": 224,
      "outputs": [
        {
          "output_type": "display_data",
          "data": {
            "image/png": "[encoded data removed]",
            "text/plain": [
              "<Figure size 432x288 with 1 Axes>"
            ]
          },
          "metadata": {
            "tags": [],
            "needs_background": "light"
          }
        }
      ]
    },
    {
      "cell_type": "code",
      "metadata": {
        "colab": {
          "base_uri": "https://localhost:8080/",
          "height": 283
        },
        "id": "433vqAQFQ4qp",
        "outputId": "3e5c672a-cefd-4f65-f3bf-01f6175c2494"
      },
      "source": [
        "plt.scatter(x=df.age[df.target==0], y=df.weight[(df.target==0)], c=\"red\")\n",
        "plt.scatter(x=df.age[df.target==1], y=df.weight[(df.target==1)])\n",
        "plt.legend([\"Disease\", \"Not Disease\"])\n",
        "plt.xlabel(\"Age\")\n",
        "plt.ylabel(\"COPD\")\n",
        "plt.show()"
      ],
      "execution_count": 225,
      "outputs": [
        {
          "output_type": "display_data",
          "data": {
            "image/png": "[encoded data removed]",
            "text/plain": [
              "<Figure size 432x288 with 1 Axes>"
            ]
          },
          "metadata": {
            "tags": [],
            "needs_background": "light"
          }
        }
      ]
    },
    {
      "cell_type": "markdown",
      "metadata": {
        "_uuid": "e2a8abf83186e8ddff507765dcea4e575e677624",
        "id": "T8w376zbDVwp"
      },
      "source": [
        "### Creating Dummy Variables"
      ]
    },
    {
      "cell_type": "markdown",
      "metadata": {
        "_uuid": "5d3461c57453ac62a71185997d716b755d00fa33",
        "id": "Qq21WvWPDVwp"
      },
      "source": [
        "![](http://)Since 'smoker',\t'cough' and 'dYspNea' are categorical variables we'll turn them into dummy variables."
      ]
    },
    {
      "cell_type": "code",
      "metadata": {
        "trusted": true,
        "_uuid": "c2fb6259a757a62926b86aa0eea6f663a8ec094f",
        "id": "_HoO8ybBDVwq"
      },
      "source": [
        "#b = pd.get_dummies(df['cough'], prefix = \"cough\")\n",
        "#c = pd.get_dummies(df['smoker'], prefix = \"dYspNea\")"
      ],
      "execution_count": 227,
      "outputs": []
    },
    {
      "cell_type": "code",
      "metadata": {
        "trusted": true,
        "_uuid": "50380d91358131ae6b852c9666e4da5c2e4dee66",
        "id": "GN2hYQbSDVwq"
      },
      "source": [
        "#frames = [df, b, c]\n",
        "#df = pd.concat(frames, axis = 1)\n",
        "#df.head()"
      ],
      "execution_count": 228,
      "outputs": []
    },
    {
      "cell_type": "code",
      "metadata": {
        "trusted": true,
        "_uuid": "01011d45333bde3d9f95e3db93ae4517c72a741f",
        "id": "k-qnXkqmDVwq"
      },
      "source": [
        "#df = df.drop(columns = ['cough', 'dYspNea'])\n",
        "#df.head()"
      ],
      "execution_count": 229,
      "outputs": []
    },
    {
      "cell_type": "markdown",
      "metadata": {
        "_uuid": "ea92dc67483868424e1bb15527d28be93dfeb208",
        "id": "Zos-UNZbDVwq"
      },
      "source": [
        "## Creating Model for Logistic Regression\n",
        "<br>\n",
        "We can use sklearn library or we can write functions ourselves. Let's them both. Firstly we will write our functions after that we'll use sklearn library to calculate score."
      ]
    },
    {
      "cell_type": "code",
      "metadata": {
        "trusted": true,
        "_uuid": "2e4577118ef837e24c955ea81562d8fb51a22b1c",
        "id": "krd8fKV5DVwq"
      },
      "source": [
        "y = df.target.values\n",
        "x_data = df.drop(['target'], axis = 1)"
      ],
      "execution_count": 230,
      "outputs": []
    },
    {
      "cell_type": "markdown",
      "metadata": {
        "_uuid": "ee237d0ae2c7686cf7fda643f32bb55add7b4787",
        "id": "Vx4wXHArDVwq"
      },
      "source": [
        "### Normalize Data\n",
        "<br>\n",
        "<br>\n",
        "<img src=\"https://beyondbacktesting.files.wordpress.com/2017/07/normalization.png?w=863\" width=\"400px\"/>"
      ]
    },
    {
      "cell_type": "code",
      "metadata": {
        "trusted": true,
        "_uuid": "c60916b235e1962a53f95593b8d020c0acc079ed",
        "id": "4SI3RPArDVwr"
      },
      "source": [
        "# Normalize\n",
        "x = (x_data - np.min(x_data)) / (np.max(x_data) - np.min(x_data)).values"
      ],
      "execution_count": 231,
      "outputs": []
    },
    {
      "cell_type": "markdown",
      "metadata": {
        "_uuid": "ef33f3d73211dca77ef04035492c6772685822bb",
        "id": "nLeFe_MBDVwr"
      },
      "source": [
        "We will split our data. 80% of our data will be train data and 20% of it will be test data."
      ]
    },
    {
      "cell_type": "code",
      "metadata": {
        "trusted": true,
        "_uuid": "3090d1ba1e8776706d23a1175db6d1451908a954",
        "id": "mOk6eq9lDVwr"
      },
      "source": [
        "x_train, x_test, y_train, y_test = train_test_split(x,y,test_size = 0.2,random_state=0)"
      ],
      "execution_count": 232,
      "outputs": []
    },
    {
      "cell_type": "code",
      "metadata": {
        "trusted": true,
        "_uuid": "880e2db253fd1125bfa065ba0ae8840b68687e42",
        "id": "MskW7K3MDVwr"
      },
      "source": [
        "#transpose matrices\n",
        "x_train = x_train.T\n",
        "y_train = y_train.T\n",
        "x_test = x_test.T\n",
        "y_test = y_test.T"
      ],
      "execution_count": 233,
      "outputs": []
    },
    {
      "cell_type": "code",
      "metadata": {
        "colab": {
          "base_uri": "https://localhost:8080/",
          "height": 253
        },
        "id": "9FVePqeOSugY",
        "outputId": "e0411e0f-da60-4658-fd7a-9c3c6066395c"
      },
      "source": [
        "x_train.head()"
      ],
      "execution_count": 234,
      "outputs": [
        {
          "output_type": "execute_result",
          "data": {
            "text/html": [
              "<div>\n",
              "<style scoped>\n",
              "    .dataframe tbody tr th:only-of-type {\n",
              "        vertical-align: middle;\n",
              "    }\n",
              "\n",
              "    .dataframe tbody tr th {\n",
              "        vertical-align: top;\n",
              "    }\n",
              "\n",
              "    .dataframe thead th {\n",
              "        text-align: right;\n",
              "    }\n",
              "</style>\n",
              "<table border=\"1\" class=\"dataframe\">\n",
              "  <thead>\n",
              "    <tr style=\"text-align: right;\">\n",
              "      <th></th>\n",
              "      <th>1084</th>\n",
              "      <th>553</th>\n",
              "      <th>1409</th>\n",
              "      <th>1311</th>\n",
              "      <th>1135</th>\n",
              "      <th>1533</th>\n",
              "      <th>768</th>\n",
              "      <th>1197</th>\n",
              "      <th>961</th>\n",
              "      <th>501</th>\n",
              "      <th>1205</th>\n",
              "      <th>810</th>\n",
              "      <th>1097</th>\n",
              "      <th>302</th>\n",
              "      <th>539</th>\n",
              "      <th>904</th>\n",
              "      <th>171</th>\n",
              "      <th>1414</th>\n",
              "      <th>1614</th>\n",
              "      <th>452</th>\n",
              "      <th>270</th>\n",
              "      <th>227</th>\n",
              "      <th>1187</th>\n",
              "      <th>1639</th>\n",
              "      <th>1509</th>\n",
              "      <th>1686</th>\n",
              "      <th>616</th>\n",
              "      <th>1586</th>\n",
              "      <th>1344</th>\n",
              "      <th>979</th>\n",
              "      <th>1367</th>\n",
              "      <th>557</th>\n",
              "      <th>1670</th>\n",
              "      <th>996</th>\n",
              "      <th>1148</th>\n",
              "      <th>378</th>\n",
              "      <th>579</th>\n",
              "      <th>1368</th>\n",
              "      <th>379</th>\n",
              "      <th>192</th>\n",
              "      <th>...</th>\n",
              "      <th>1201</th>\n",
              "      <th>99</th>\n",
              "      <th>850</th>\n",
              "      <th>448</th>\n",
              "      <th>1455</th>\n",
              "      <th>1733</th>\n",
              "      <th>755</th>\n",
              "      <th>976</th>\n",
              "      <th>115</th>\n",
              "      <th>777</th>\n",
              "      <th>72</th>\n",
              "      <th>845</th>\n",
              "      <th>537</th>\n",
              "      <th>1701</th>\n",
              "      <th>849</th>\n",
              "      <th>1624</th>\n",
              "      <th>174</th>\n",
              "      <th>87</th>\n",
              "      <th>551</th>\n",
              "      <th>1510</th>\n",
              "      <th>705</th>\n",
              "      <th>314</th>\n",
              "      <th>1420</th>\n",
              "      <th>600</th>\n",
              "      <th>1496</th>\n",
              "      <th>1094</th>\n",
              "      <th>599</th>\n",
              "      <th>1828</th>\n",
              "      <th>1778</th>\n",
              "      <th>277</th>\n",
              "      <th>1747</th>\n",
              "      <th>1033</th>\n",
              "      <th>1383</th>\n",
              "      <th>1731</th>\n",
              "      <th>763</th>\n",
              "      <th>835</th>\n",
              "      <th>1216</th>\n",
              "      <th>1653</th>\n",
              "      <th>559</th>\n",
              "      <th>684</th>\n",
              "    </tr>\n",
              "  </thead>\n",
              "  <tbody>\n",
              "    <tr>\n",
              "      <th>height</th>\n",
              "      <td>0.754967</td>\n",
              "      <td>0.725166</td>\n",
              "      <td>0.754967</td>\n",
              "      <td>0.788079</td>\n",
              "      <td>0.781457</td>\n",
              "      <td>0.672185</td>\n",
              "      <td>0.701987</td>\n",
              "      <td>0.804636</td>\n",
              "      <td>0.778146</td>\n",
              "      <td>0.801325</td>\n",
              "      <td>0.771523</td>\n",
              "      <td>0.685430</td>\n",
              "      <td>0.731788</td>\n",
              "      <td>0.850993</td>\n",
              "      <td>0.778146</td>\n",
              "      <td>0.827815</td>\n",
              "      <td>0.721854</td>\n",
              "      <td>0.735099</td>\n",
              "      <td>0.708609</td>\n",
              "      <td>0.741722</td>\n",
              "      <td>0.768212</td>\n",
              "      <td>0.708609</td>\n",
              "      <td>0.718543</td>\n",
              "      <td>0.754967</td>\n",
              "      <td>0.784768</td>\n",
              "      <td>0.764901</td>\n",
              "      <td>0.748344</td>\n",
              "      <td>0.711921</td>\n",
              "      <td>0.850993</td>\n",
              "      <td>0.754967</td>\n",
              "      <td>0.814570</td>\n",
              "      <td>0.754967</td>\n",
              "      <td>0.827815</td>\n",
              "      <td>0.761589</td>\n",
              "      <td>0.721854</td>\n",
              "      <td>0.751656</td>\n",
              "      <td>0.695364</td>\n",
              "      <td>0.894040</td>\n",
              "      <td>0.748344</td>\n",
              "      <td>0.807947</td>\n",
              "      <td>...</td>\n",
              "      <td>0.814570</td>\n",
              "      <td>0.721854</td>\n",
              "      <td>0.705298</td>\n",
              "      <td>0.831126</td>\n",
              "      <td>0.738411</td>\n",
              "      <td>0.774834</td>\n",
              "      <td>0.745033</td>\n",
              "      <td>0.831126</td>\n",
              "      <td>0.844371</td>\n",
              "      <td>0.788079</td>\n",
              "      <td>0.894040</td>\n",
              "      <td>0.649007</td>\n",
              "      <td>0.725166</td>\n",
              "      <td>0.735099</td>\n",
              "      <td>0.708609</td>\n",
              "      <td>0.801325</td>\n",
              "      <td>0.731788</td>\n",
              "      <td>0.834437</td>\n",
              "      <td>0.860927</td>\n",
              "      <td>0.741722</td>\n",
              "      <td>0.761589</td>\n",
              "      <td>0.715232</td>\n",
              "      <td>0.768212</td>\n",
              "      <td>0.629139</td>\n",
              "      <td>0.850993</td>\n",
              "      <td>0.784768</td>\n",
              "      <td>0.741722</td>\n",
              "      <td>0.824503</td>\n",
              "      <td>0.761589</td>\n",
              "      <td>0.738411</td>\n",
              "      <td>0.817881</td>\n",
              "      <td>0.807947</td>\n",
              "      <td>0.708609</td>\n",
              "      <td>0.804636</td>\n",
              "      <td>0.768212</td>\n",
              "      <td>0.811258</td>\n",
              "      <td>0.682119</td>\n",
              "      <td>0.725166</td>\n",
              "      <td>0.764901</td>\n",
              "      <td>0.735099</td>\n",
              "    </tr>\n",
              "    <tr>\n",
              "      <th>weight</th>\n",
              "      <td>0.220362</td>\n",
              "      <td>0.460147</td>\n",
              "      <td>0.110516</td>\n",
              "      <td>0.378433</td>\n",
              "      <td>0.370395</td>\n",
              "      <td>0.059612</td>\n",
              "      <td>0.745479</td>\n",
              "      <td>0.407904</td>\n",
              "      <td>0.287341</td>\n",
              "      <td>0.272605</td>\n",
              "      <td>0.410583</td>\n",
              "      <td>0.122572</td>\n",
              "      <td>0.563295</td>\n",
              "      <td>0.268587</td>\n",
              "      <td>0.397187</td>\n",
              "      <td>0.523108</td>\n",
              "      <td>0.415941</td>\n",
              "      <td>0.327528</td>\n",
              "      <td>0.204287</td>\n",
              "      <td>0.105157</td>\n",
              "      <td>0.351641</td>\n",
              "      <td>0.458808</td>\n",
              "      <td>0.351641</td>\n",
              "      <td>1.000000</td>\n",
              "      <td>0.732083</td>\n",
              "      <td>0.507033</td>\n",
              "      <td>0.083724</td>\n",
              "      <td>0.355660</td>\n",
              "      <td>0.415941</td>\n",
              "      <td>0.209645</td>\n",
              "      <td>0.758875</td>\n",
              "      <td>0.265908</td>\n",
              "      <td>0.188212</td>\n",
              "      <td>0.142666</td>\n",
              "      <td>0.694575</td>\n",
              "      <td>0.148024</td>\n",
              "      <td>0.186872</td>\n",
              "      <td>0.490958</td>\n",
              "      <td>0.541862</td>\n",
              "      <td>0.389149</td>\n",
              "      <td>...</td>\n",
              "      <td>0.343603</td>\n",
              "      <td>0.292699</td>\n",
              "      <td>0.219022</td>\n",
              "      <td>0.608841</td>\n",
              "      <td>0.335566</td>\n",
              "      <td>0.244474</td>\n",
              "      <td>0.732083</td>\n",
              "      <td>0.531145</td>\n",
              "      <td>0.890154</td>\n",
              "      <td>0.769591</td>\n",
              "      <td>0.332887</td>\n",
              "      <td>0.131949</td>\n",
              "      <td>0.097120</td>\n",
              "      <td>0.215003</td>\n",
              "      <td>0.164099</td>\n",
              "      <td>0.314133</td>\n",
              "      <td>0.265908</td>\n",
              "      <td>0.340924</td>\n",
              "      <td>0.555258</td>\n",
              "      <td>0.474883</td>\n",
              "      <td>0.427997</td>\n",
              "      <td>0.233758</td>\n",
              "      <td>0.260549</td>\n",
              "      <td>0.239116</td>\n",
              "      <td>0.450770</td>\n",
              "      <td>0.193570</td>\n",
              "      <td>0.223041</td>\n",
              "      <td>0.657066</td>\n",
              "      <td>0.359678</td>\n",
              "      <td>0.401206</td>\n",
              "      <td>0.565975</td>\n",
              "      <td>0.536504</td>\n",
              "      <td>0.279303</td>\n",
              "      <td>0.480241</td>\n",
              "      <td>0.379504</td>\n",
              "      <td>0.375754</td>\n",
              "      <td>0.287341</td>\n",
              "      <td>0.327528</td>\n",
              "      <td>0.306095</td>\n",
              "      <td>0.247153</td>\n",
              "    </tr>\n",
              "    <tr>\n",
              "      <th>age</th>\n",
              "      <td>0.753247</td>\n",
              "      <td>0.714286</td>\n",
              "      <td>0.675325</td>\n",
              "      <td>0.467532</td>\n",
              "      <td>0.649351</td>\n",
              "      <td>0.662338</td>\n",
              "      <td>0.493506</td>\n",
              "      <td>0.636364</td>\n",
              "      <td>0.662338</td>\n",
              "      <td>0.597403</td>\n",
              "      <td>0.727273</td>\n",
              "      <td>0.753247</td>\n",
              "      <td>0.623377</td>\n",
              "      <td>0.584416</td>\n",
              "      <td>0.753247</td>\n",
              "      <td>0.506494</td>\n",
              "      <td>0.649351</td>\n",
              "      <td>0.493506</td>\n",
              "      <td>0.987013</td>\n",
              "      <td>0.480519</td>\n",
              "      <td>0.753247</td>\n",
              "      <td>0.636364</td>\n",
              "      <td>0.636364</td>\n",
              "      <td>0.246753</td>\n",
              "      <td>0.571429</td>\n",
              "      <td>0.532468</td>\n",
              "      <td>0.740260</td>\n",
              "      <td>0.779221</td>\n",
              "      <td>0.584416</td>\n",
              "      <td>0.493506</td>\n",
              "      <td>0.220779</td>\n",
              "      <td>0.610390</td>\n",
              "      <td>0.571429</td>\n",
              "      <td>0.532468</td>\n",
              "      <td>0.636364</td>\n",
              "      <td>0.688312</td>\n",
              "      <td>0.792208</td>\n",
              "      <td>0.649351</td>\n",
              "      <td>0.636364</td>\n",
              "      <td>0.805195</td>\n",
              "      <td>...</td>\n",
              "      <td>0.779221</td>\n",
              "      <td>0.597403</td>\n",
              "      <td>0.779221</td>\n",
              "      <td>0.779221</td>\n",
              "      <td>0.623377</td>\n",
              "      <td>0.558442</td>\n",
              "      <td>0.402597</td>\n",
              "      <td>0.597403</td>\n",
              "      <td>0.324675</td>\n",
              "      <td>0.649351</td>\n",
              "      <td>0.649351</td>\n",
              "      <td>0.441558</td>\n",
              "      <td>0.779221</td>\n",
              "      <td>0.402597</td>\n",
              "      <td>0.727273</td>\n",
              "      <td>0.441558</td>\n",
              "      <td>0.688312</td>\n",
              "      <td>0.506494</td>\n",
              "      <td>0.649351</td>\n",
              "      <td>0.454545</td>\n",
              "      <td>0.688312</td>\n",
              "      <td>0.701299</td>\n",
              "      <td>0.506494</td>\n",
              "      <td>0.792208</td>\n",
              "      <td>0.558442</td>\n",
              "      <td>0.883117</td>\n",
              "      <td>0.493506</td>\n",
              "      <td>0.376623</td>\n",
              "      <td>0.441558</td>\n",
              "      <td>0.688312</td>\n",
              "      <td>0.623377</td>\n",
              "      <td>0.558442</td>\n",
              "      <td>0.818182</td>\n",
              "      <td>0.493506</td>\n",
              "      <td>0.649351</td>\n",
              "      <td>0.779221</td>\n",
              "      <td>0.636364</td>\n",
              "      <td>0.441558</td>\n",
              "      <td>0.545455</td>\n",
              "      <td>0.753247</td>\n",
              "    </tr>\n",
              "    <tr>\n",
              "      <th>sex</th>\n",
              "      <td>0.000000</td>\n",
              "      <td>1.000000</td>\n",
              "      <td>0.000000</td>\n",
              "      <td>0.000000</td>\n",
              "      <td>0.000000</td>\n",
              "      <td>1.000000</td>\n",
              "      <td>1.000000</td>\n",
              "      <td>0.000000</td>\n",
              "      <td>0.000000</td>\n",
              "      <td>0.000000</td>\n",
              "      <td>1.000000</td>\n",
              "      <td>1.000000</td>\n",
              "      <td>1.000000</td>\n",
              "      <td>0.000000</td>\n",
              "      <td>0.000000</td>\n",
              "      <td>0.000000</td>\n",
              "      <td>1.000000</td>\n",
              "      <td>1.000000</td>\n",
              "      <td>1.000000</td>\n",
              "      <td>1.000000</td>\n",
              "      <td>0.000000</td>\n",
              "      <td>1.000000</td>\n",
              "      <td>0.000000</td>\n",
              "      <td>1.000000</td>\n",
              "      <td>1.000000</td>\n",
              "      <td>1.000000</td>\n",
              "      <td>1.000000</td>\n",
              "      <td>1.000000</td>\n",
              "      <td>0.000000</td>\n",
              "      <td>1.000000</td>\n",
              "      <td>1.000000</td>\n",
              "      <td>1.000000</td>\n",
              "      <td>0.000000</td>\n",
              "      <td>1.000000</td>\n",
              "      <td>1.000000</td>\n",
              "      <td>1.000000</td>\n",
              "      <td>1.000000</td>\n",
              "      <td>0.000000</td>\n",
              "      <td>1.000000</td>\n",
              "      <td>1.000000</td>\n",
              "      <td>...</td>\n",
              "      <td>0.000000</td>\n",
              "      <td>1.000000</td>\n",
              "      <td>1.000000</td>\n",
              "      <td>0.000000</td>\n",
              "      <td>0.000000</td>\n",
              "      <td>0.000000</td>\n",
              "      <td>1.000000</td>\n",
              "      <td>0.000000</td>\n",
              "      <td>0.000000</td>\n",
              "      <td>1.000000</td>\n",
              "      <td>0.000000</td>\n",
              "      <td>1.000000</td>\n",
              "      <td>1.000000</td>\n",
              "      <td>1.000000</td>\n",
              "      <td>1.000000</td>\n",
              "      <td>1.000000</td>\n",
              "      <td>1.000000</td>\n",
              "      <td>0.000000</td>\n",
              "      <td>0.000000</td>\n",
              "      <td>1.000000</td>\n",
              "      <td>1.000000</td>\n",
              "      <td>1.000000</td>\n",
              "      <td>0.000000</td>\n",
              "      <td>1.000000</td>\n",
              "      <td>0.000000</td>\n",
              "      <td>0.000000</td>\n",
              "      <td>1.000000</td>\n",
              "      <td>0.000000</td>\n",
              "      <td>1.000000</td>\n",
              "      <td>1.000000</td>\n",
              "      <td>0.000000</td>\n",
              "      <td>0.000000</td>\n",
              "      <td>1.000000</td>\n",
              "      <td>0.000000</td>\n",
              "      <td>1.000000</td>\n",
              "      <td>0.000000</td>\n",
              "      <td>1.000000</td>\n",
              "      <td>1.000000</td>\n",
              "      <td>0.000000</td>\n",
              "      <td>1.000000</td>\n",
              "    </tr>\n",
              "    <tr>\n",
              "      <th>race</th>\n",
              "      <td>0.500000</td>\n",
              "      <td>0.500000</td>\n",
              "      <td>0.500000</td>\n",
              "      <td>0.500000</td>\n",
              "      <td>0.000000</td>\n",
              "      <td>0.000000</td>\n",
              "      <td>0.000000</td>\n",
              "      <td>0.000000</td>\n",
              "      <td>0.500000</td>\n",
              "      <td>0.000000</td>\n",
              "      <td>0.000000</td>\n",
              "      <td>0.000000</td>\n",
              "      <td>0.000000</td>\n",
              "      <td>0.000000</td>\n",
              "      <td>0.000000</td>\n",
              "      <td>0.500000</td>\n",
              "      <td>0.000000</td>\n",
              "      <td>0.500000</td>\n",
              "      <td>0.000000</td>\n",
              "      <td>0.000000</td>\n",
              "      <td>0.000000</td>\n",
              "      <td>0.500000</td>\n",
              "      <td>0.000000</td>\n",
              "      <td>0.500000</td>\n",
              "      <td>0.500000</td>\n",
              "      <td>0.000000</td>\n",
              "      <td>0.000000</td>\n",
              "      <td>0.000000</td>\n",
              "      <td>0.000000</td>\n",
              "      <td>0.000000</td>\n",
              "      <td>0.000000</td>\n",
              "      <td>0.500000</td>\n",
              "      <td>0.500000</td>\n",
              "      <td>0.000000</td>\n",
              "      <td>0.000000</td>\n",
              "      <td>0.000000</td>\n",
              "      <td>0.000000</td>\n",
              "      <td>0.000000</td>\n",
              "      <td>0.500000</td>\n",
              "      <td>0.000000</td>\n",
              "      <td>...</td>\n",
              "      <td>0.000000</td>\n",
              "      <td>0.000000</td>\n",
              "      <td>0.000000</td>\n",
              "      <td>0.000000</td>\n",
              "      <td>0.000000</td>\n",
              "      <td>0.000000</td>\n",
              "      <td>0.000000</td>\n",
              "      <td>0.500000</td>\n",
              "      <td>0.000000</td>\n",
              "      <td>0.000000</td>\n",
              "      <td>0.000000</td>\n",
              "      <td>0.500000</td>\n",
              "      <td>0.000000</td>\n",
              "      <td>0.500000</td>\n",
              "      <td>0.000000</td>\n",
              "      <td>0.000000</td>\n",
              "      <td>0.000000</td>\n",
              "      <td>0.500000</td>\n",
              "      <td>0.000000</td>\n",
              "      <td>0.500000</td>\n",
              "      <td>0.000000</td>\n",
              "      <td>0.500000</td>\n",
              "      <td>0.500000</td>\n",
              "      <td>0.500000</td>\n",
              "      <td>0.500000</td>\n",
              "      <td>0.000000</td>\n",
              "      <td>0.000000</td>\n",
              "      <td>0.000000</td>\n",
              "      <td>0.000000</td>\n",
              "      <td>0.000000</td>\n",
              "      <td>1.000000</td>\n",
              "      <td>0.000000</td>\n",
              "      <td>0.500000</td>\n",
              "      <td>0.500000</td>\n",
              "      <td>0.000000</td>\n",
              "      <td>0.000000</td>\n",
              "      <td>0.500000</td>\n",
              "      <td>0.500000</td>\n",
              "      <td>0.500000</td>\n",
              "      <td>0.500000</td>\n",
              "    </tr>\n",
              "  </tbody>\n",
              "</table>\n",
              "<p>5 rows × 1485 columns</p>\n",
              "</div>"
            ],
            "text/plain": [
              "            1084      553       1409  ...      1653      559       684 \n",
              "height  0.754967  0.725166  0.754967  ...  0.725166  0.764901  0.735099\n",
              "weight  0.220362  0.460147  0.110516  ...  0.327528  0.306095  0.247153\n",
              "age     0.753247  0.714286  0.675325  ...  0.441558  0.545455  0.753247\n",
              "sex     0.000000  1.000000  0.000000  ...  1.000000  0.000000  1.000000\n",
              "race    0.500000  0.500000  0.500000  ...  0.500000  0.500000  0.500000\n",
              "\n",
              "[5 rows x 1485 columns]"
            ]
          },
          "metadata": {
            "tags": []
          },
          "execution_count": 234
        }
      ]
    },
    {
      "cell_type": "markdown",
      "metadata": {
        "_uuid": "4933da952d5df4899eac737063ec7dc1aff23b2e",
        "id": "nLxfPmKoDVwr"
      },
      "source": [
        "Let's say weight = 0.01 and bias = 0.0"
      ]
    },
    {
      "cell_type": "code",
      "metadata": {
        "trusted": true,
        "_uuid": "e98deb17b979b67f57be48517cdcf631cd5363bc",
        "id": "MXrpkRmsDVwr"
      },
      "source": [
        "#initialize\n",
        "def initialize(dimension):    \n",
        "    weight = np.full((dimension,1),0.01)\n",
        "    bias = 0.0\n",
        "    return weight,bias"
      ],
      "execution_count": 235,
      "outputs": []
    },
    {
      "cell_type": "markdown",
      "metadata": {
        "_uuid": "d707c6af5f7d32c9d699494cfbeddc04a687d4f3",
        "id": "35LXuiXEDVwr"
      },
      "source": [
        "### Sigmoid Function\n",
        "<br>\n",
        "<img src=\"https://qph.fs.quoracdn.net/main-qimg-05edc1873d0103e36064862a45566dba\" width=\"500px\"/>"
      ]
    },
    {
      "cell_type": "code",
      "metadata": {
        "trusted": true,
        "_uuid": "116fc66d415563ca82b5400b7852cce9dad004ba",
        "id": "m2Chx-sQDVws"
      },
      "source": [
        "def sigmoid(z):\n",
        "    \n",
        "    y_head = 1/(1+ np.exp(-z))\n",
        "    return y_head"
      ],
      "execution_count": 236,
      "outputs": []
    },
    {
      "cell_type": "markdown",
      "metadata": {
        "_uuid": "3363dced8043a7db0ec0dc0464e14ff669c5b1d6",
        "id": "e6TeB-oRDVws"
      },
      "source": [
        "### Forward and Backward Propagation\n",
        "<br>\n",
        "<img src=\"https://image.slidesharecdn.com/gradientdescentbackpropandautomaticdifferentiation-160829164205/95/gradient-descent-back-propagation-and-auto-differentiation-advanced-spark-and-tensorflow-meetup-08042016-62-638.jpg?cb=1472489358\" width=\"500px\"/>"
      ]
    },
    {
      "cell_type": "markdown",
      "metadata": {
        "_uuid": "656c61dffe4729c195d84d117b2b8aa63c1cf9aa",
        "id": "MREvajDpDVws"
      },
      "source": [
        "### Cost Function\n",
        "<br>\n",
        "<img src=\"https://i.stack.imgur.com/XbU4S.png\" width=\"500px\"/>"
      ]
    },
    {
      "cell_type": "markdown",
      "metadata": {
        "_uuid": "948cf49e3a372a223ffcb809933e6aa0c1ad9515",
        "id": "5fVaYqTnDVws"
      },
      "source": [
        "### Gradient Descent\n",
        "<br>\n",
        "<img src=\"https://i.stack.imgur.com/pYVzl.png\" width=\"500px\"/>"
      ]
    },
    {
      "cell_type": "markdown",
      "metadata": {
        "_uuid": "34307d9833893a492402f94a467267175a24c8d8",
        "id": "ZaoInw0wDVws"
      },
      "source": [
        "By the way in formulas; <br>\n",
        "* h0(x^i)= y_head\n",
        "* y^i = y_train\n",
        "* x^i = x_train"
      ]
    },
    {
      "cell_type": "code",
      "metadata": {
        "trusted": true,
        "_uuid": "5998fbc58a696070458297830e30d4e4b036396d",
        "id": "UoR2ZEqzDVws"
      },
      "source": [
        "def forwardBackward(weight,bias,x_train,y_train):\n",
        "    # Forward\n",
        "    \n",
        "    y_head = sigmoid(np.dot(weight.T,x_train) + bias)\n",
        "    loss = -(y_train*np.log(y_head) + (1-y_train)*np.log(1-y_head))\n",
        "    cost = np.sum(loss) / x_train.shape[1]\n",
        "    \n",
        "    # Backward\n",
        "    derivative_weight = np.dot(x_train,((y_head-y_train).T))/x_train.shape[1]\n",
        "    derivative_bias = np.sum(y_head-y_train)/x_train.shape[1]\n",
        "    gradients = {\"Derivative Weight\" : derivative_weight, \"Derivative Bias\" : derivative_bias}\n",
        "    \n",
        "    return cost,gradients"
      ],
      "execution_count": 237,
      "outputs": []
    },
    {
      "cell_type": "code",
      "metadata": {
        "trusted": true,
        "_uuid": "0241c5bec516229c2832728e27782c273ca35b57",
        "id": "kqySW3DKDVwt"
      },
      "source": [
        "def update(weight,bias,x_train,y_train,learningRate,iteration) :\n",
        "    costList = []\n",
        "    index = []\n",
        "    \n",
        "    #for each iteration, update weight and bias values\n",
        "    for i in range(iteration):\n",
        "        cost,gradients = forwardBackward(weight,bias,x_train,y_train)\n",
        "        weight = weight - learningRate * gradients[\"Derivative Weight\"]\n",
        "        bias = bias - learningRate * gradients[\"Derivative Bias\"]\n",
        "        \n",
        "        costList.append(cost)\n",
        "        index.append(i)\n",
        "\n",
        "    parameters = {\"weight\": weight,\"bias\": bias}\n",
        "    \n",
        "    print(\"iteration:\",iteration)\n",
        "    print(\"cost:\",cost)\n",
        "\n",
        "    plt.plot(index,costList)\n",
        "    plt.xlabel(\"Number of Iteration\")\n",
        "    plt.ylabel(\"Cost\")\n",
        "    plt.show()\n",
        "\n",
        "    return parameters, gradients"
      ],
      "execution_count": 238,
      "outputs": []
    },
    {
      "cell_type": "code",
      "metadata": {
        "trusted": true,
        "_uuid": "a97c3ff651d88b280eb87ec076040f0becaf1f3e",
        "id": "AL-qs61rDVwt"
      },
      "source": [
        "def predict(weight,bias,x_test):\n",
        "    z = np.dot(weight.T,x_test) + bias\n",
        "    y_head = sigmoid(z)\n",
        "\n",
        "    y_prediction = np.zeros((1,x_test.shape[1]))\n",
        "    \n",
        "    for i in range(y_head.shape[1]):\n",
        "        if y_head[0,i] <= 0.5:\n",
        "            y_prediction[0,i] = 0\n",
        "        else:\n",
        "            y_prediction[0,i] = 1\n",
        "    return y_prediction"
      ],
      "execution_count": 239,
      "outputs": []
    },
    {
      "cell_type": "code",
      "metadata": {
        "trusted": true,
        "_uuid": "1b3ae665060ba757d8e0f5f29458fadf4be144ff",
        "id": "8pwjzXbmDVwt"
      },
      "source": [
        "def logistic_regression(x_train,y_train,x_test,y_test,learningRate,iteration):\n",
        "    dimension = x_train.shape[0]\n",
        "    weight,bias = initialize(dimension)\n",
        "    \n",
        "    parameters, gradients = update(weight,bias,x_train,y_train,learningRate,iteration)\n",
        "\n",
        "    y_prediction = predict(parameters[\"weight\"],parameters[\"bias\"],x_test)\n",
        "    \n",
        "    print(\"Manuel Test Accuracy: {:.2f}%\".format((100 - np.mean(np.abs(y_prediction - y_test))*100)))"
      ],
      "execution_count": null,
      "outputs": []
    },
    {
      "cell_type": "code",
      "metadata": {
        "trusted": true,
        "_uuid": "d866efadafcc3b49a90016c00da6c4d981cd8837",
        "id": "qgf_bUliDVwt",
        "colab": {
          "base_uri": "https://localhost:8080/",
          "height": 330
        },
        "outputId": "eeb35983-57f4-4cd5-9a22-9dc2f74af92b"
      },
      "source": [
        "logistic_regression(x_train,y_train,x_test,y_test,1,100)"
      ],
      "execution_count": 240,
      "outputs": [
        {
          "output_type": "stream",
          "text": [
            "iteration: 100\n",
            "cost: 0.557273218570364\n"
          ],
          "name": "stdout"
        },
        {
          "output_type": "display_data",
          "data": {
            "image/png": "[encoded data removed]",
            "text/plain": [
              "<Figure size 432x288 with 1 Axes>"
            ]
          },
          "metadata": {
            "tags": [],
            "needs_background": "light"
          }
        },
        {
          "output_type": "stream",
          "text": [
            "Manuel Test Accuracy: 70.43%\n"
          ],
          "name": "stdout"
        }
      ]
    },
    {
      "cell_type": "markdown",
      "metadata": {
        "_uuid": "75562006d1e3767f2a62c07301cce8766a3cf917",
        "id": "sfi3zXHtDVwt"
      },
      "source": [
        "## <font color=\"blue\">Manuel Test Accuracy is <font color=\"red\">**70.43%**</font></font><br>\n",
        "Let's find out sklearn's score."
      ]
    },
    {
      "cell_type": "markdown",
      "metadata": {
        "_uuid": "7ffb9f8fde45b53fb9bb6fbe25dc7339b1b15649",
        "id": "DA78kg60DVwt"
      },
      "source": [
        "### Sklearn Logistic Regression"
      ]
    },
    {
      "cell_type": "code",
      "metadata": {
        "trusted": true,
        "_uuid": "5592396ddebe9346767a2a34dd20abf300e5c730",
        "id": "qjfhgcfrDVwu",
        "colab": {
          "base_uri": "https://localhost:8080/"
        },
        "outputId": "1b1244dd-e8ab-4177-de08-0cc91cd518cb"
      },
      "source": [
        "accuracies = {}\n",
        "\n",
        "lr = LogisticRegression()\n",
        "lr.fit(x_train.T,y_train.T)\n",
        "acc = lr.score(x_test.T,y_test.T)*100\n",
        "\n",
        "accuracies['Logistic Regression'] = acc\n",
        "print(\"Test Accuracy {:.2f}%\".format(acc))"
      ],
      "execution_count": 242,
      "outputs": [
        {
          "output_type": "stream",
          "text": [
            "Test Accuracy 71.77%\n"
          ],
          "name": "stdout"
        }
      ]
    },
    {
      "cell_type": "markdown",
      "metadata": {
        "_uuid": "e483010f6bf26cc8801061b5122e632fcac5337e",
        "id": "45d27Sv4DVwu"
      },
      "source": [
        "1. ## <font color = \"purple\">Our model works with <font color=\"red\">**71.77%**</font> accuracy.</font>"
      ]
    },
    {
      "cell_type": "markdown",
      "metadata": {
        "_uuid": "b0a524cdd6eb069d02aab429a1cf2024ab54cf18",
        "id": "q9gyb0jzDVwu"
      },
      "source": [
        "## K-Nearest Neighbour (KNN) Classification\n",
        "<br>\n",
        "Let's see what will be score if we use KNN algorithm."
      ]
    },
    {
      "cell_type": "markdown",
      "metadata": {
        "_uuid": "2a9f77931e249f18b5247349932fbf650d9052fe",
        "id": "QZ9gELD-DVwu"
      },
      "source": [
        "**KNN Algorithm**\n",
        "<br>\n",
        "<img src=\"http://res.cloudinary.com/dyd911kmh/image/upload/f_auto,q_auto:best/v1531424125/KNN_final_a1mrv9.png\"/>"
      ]
    },
    {
      "cell_type": "code",
      "metadata": {
        "trusted": true,
        "_uuid": "b5d2956d9f265b47645ec2a6cd2eb7d50af5783a",
        "id": "8tDyFiauDVwu",
        "colab": {
          "base_uri": "https://localhost:8080/"
        },
        "outputId": "01d9e53f-3efc-4177-a680-83445cddcbf9"
      },
      "source": [
        "# KNN Model\n",
        "from sklearn.neighbors import KNeighborsClassifier\n",
        "knn = KNeighborsClassifier(n_neighbors = 2)  # n_neighbors means k\n",
        "knn.fit(x_train.T, y_train.T)\n",
        "prediction = knn.predict(x_test.T)\n",
        "\n",
        "print(\"{} NN Score: {:.2f}%\".format(2, knn.score(x_test.T, y_test.T)*100))"
      ],
      "execution_count": 247,
      "outputs": [
        {
          "output_type": "stream",
          "text": [
            "2 NN Score: 65.59%\n"
          ],
          "name": "stdout"
        }
      ]
    },
    {
      "cell_type": "markdown",
      "metadata": {
        "id": "OYxwSTL2YK-V"
      },
      "source": [
        "\n",
        "1. ## <font color = \"purple\">Our model works with <font color=\"red\">**65.59%**</font> accuracy.</font>\n"
      ]
    },
    {
      "cell_type": "code",
      "metadata": {
        "trusted": true,
        "_uuid": "8db6f0c13aa1462624cf0da04a03c9ee4db8a991",
        "id": "3jfFzSPmDVwv",
        "colab": {
          "base_uri": "https://localhost:8080/",
          "height": 296
        },
        "outputId": "6a958dc8-d4b2-414f-b90b-58e5e3b115fe"
      },
      "source": [
        "# try ro find best k value\n",
        "scoreList = []\n",
        "for i in range(1,20):\n",
        "    knn2 = KNeighborsClassifier(n_neighbors = i)  # n_neighbors means k\n",
        "    knn2.fit(x_train.T, y_train.T)\n",
        "    scoreList.append(knn2.score(x_test.T, y_test.T))\n",
        "    \n",
        "plt.plot(range(1,20), scoreList)\n",
        "plt.xticks(np.arange(1,20,1))\n",
        "plt.xlabel(\"K value\")\n",
        "plt.ylabel(\"Score\")\n",
        "plt.show()\n",
        "\n",
        "acc = max(scoreList)*100\n",
        "accuracies['KNN'] = acc\n",
        "print(\"Maximum KNN Score is {:.2f}%\".format(acc))"
      ],
      "execution_count": 248,
      "outputs": [
        {
          "output_type": "display_data",
          "data": {
            "image/png": "[encoded data removed]",
            "text/plain": [
              "<Figure size 432x288 with 1 Axes>"
            ]
          },
          "metadata": {
            "tags": [],
            "needs_background": "light"
          }
        },
        {
          "output_type": "stream",
          "text": [
            "Maximum KNN Score is 69.35%\n"
          ],
          "name": "stdout"
        }
      ]
    },
    {
      "cell_type": "markdown",
      "metadata": {
        "_uuid": "02ec17348cc5c31a9f15ed8c132b8e3cf6e915c4",
        "id": "nby8JtElDVwv"
      },
      "source": [
        "As you can see above if we define k as 3-7-8 we will reach maximum score. <br>\n",
        "## <font color=\"green\">KNN Model's Accuracy is <font color=\"red\">88.52%</font></font>"
      ]
    },
    {
      "cell_type": "markdown",
      "metadata": {
        "_uuid": "ca03737d17129db8ac352aa7e2eb5ea71826f63b",
        "id": "8v7EbmlgDVwv"
      },
      "source": [
        "## Support Vector Machine (SVM) Algorithm \n",
        "Now we will use SVM algorithm. "
      ]
    },
    {
      "cell_type": "markdown",
      "metadata": {
        "_uuid": "a0eec2569ee5065a6f6fd7a25ed7f38c371b0afa",
        "id": "EfBAX0twDVwv"
      },
      "source": [
        "**Support Vector Machine Algorithm**\n",
        "<br>\n",
        "<img src=\"https://cdn-images-1.medium.com/max/1600/1*TudH6YvvH7-h5ZyF2dJV2w.jpeg\" width=\"500px\"/><br>\n",
        "<img src=\"https://aitrends.com/wp-content/uploads/2018/01/1-19SVM-2.jpg\" width=\"500px\"/>\n"
      ]
    },
    {
      "cell_type": "code",
      "metadata": {
        "trusted": true,
        "_uuid": "f51e85b552168f5ce56a43dd8ccb6452ee661317",
        "id": "oOsUKNoLDVwv"
      },
      "source": [
        "from sklearn.svm import SVC"
      ],
      "execution_count": 249,
      "outputs": []
    },
    {
      "cell_type": "code",
      "metadata": {
        "trusted": true,
        "_uuid": "28b9d504870997c3213b4c26e75cd4e3d92d6275",
        "id": "6hOuT7oDDVwv",
        "colab": {
          "base_uri": "https://localhost:8080/"
        },
        "outputId": "2305f345-360d-46a6-85b7-5d0a6c75282d"
      },
      "source": [
        "svm = SVC(random_state = 1)\n",
        "svm.fit(x_train.T, y_train.T)\n",
        "\n",
        "acc = svm.score(x_test.T,y_test.T)*100\n",
        "accuracies['SVM'] = acc\n",
        "print(\"Test Accuracy of SVM Algorithm: {:.2f}%\".format(acc))"
      ],
      "execution_count": 250,
      "outputs": [
        {
          "output_type": "stream",
          "text": [
            "Test Accuracy of SVM Algorithm: 70.16%\n"
          ],
          "name": "stdout"
        }
      ]
    },
    {
      "cell_type": "markdown",
      "metadata": {
        "_uuid": "d4107ae5690372c7c5ebdea21a46ea7e04adeefa",
        "id": "2HdiHzZpDVww"
      },
      "source": [
        "## <font color=\"orange\">Test Accuracy of SVM Algorithm is <font color=\"red\"> 70.16%</font></font>"
      ]
    },
    {
      "cell_type": "markdown",
      "metadata": {
        "_uuid": "058a659cd261c900ff5ce0c6894420cbc0d00232",
        "id": "TZ4O-jVfDVww"
      },
      "source": [
        "## Naive Bayes Algorithm"
      ]
    },
    {
      "cell_type": "markdown",
      "metadata": {
        "_uuid": "cb36324c6650e7371de9e77e53d6a531dd94a93a",
        "id": "bJnKupDsDVww"
      },
      "source": [
        "**Naive Bayes Algorithm**\n",
        "<br>\n",
        "<img src=\"https://s3.ap-south-1.amazonaws.com/techleer/204.png\" width=\"500px\"/>"
      ]
    },
    {
      "cell_type": "code",
      "metadata": {
        "trusted": true,
        "_uuid": "0544f45710912dab11c597b9a743bdc712f1e826",
        "id": "NT0Y-zf0DVwx",
        "colab": {
          "base_uri": "https://localhost:8080/"
        },
        "outputId": "acdcd7af-9ca1-42e8-c4f7-96d8fd339ab6"
      },
      "source": [
        "from sklearn.naive_bayes import GaussianNB\n",
        "nb = GaussianNB()\n",
        "nb.fit(x_train.T, y_train.T)\n",
        "\n",
        "acc = nb.score(x_test.T,y_test.T)*100\n",
        "accuracies['Naive Bayes'] = acc\n",
        "print(\"Accuracy of Naive Bayes: {:.2f}%\".format(acc))"
      ],
      "execution_count": 251,
      "outputs": [
        {
          "output_type": "stream",
          "text": [
            "Accuracy of Naive Bayes: 73.92%\n"
          ],
          "name": "stdout"
        }
      ]
    },
    {
      "cell_type": "markdown",
      "metadata": {
        "_uuid": "678daa3a73af2129b879f759a22eb6ea7e70370e",
        "id": "5KkObH4eDVwx"
      },
      "source": [
        "## <font color=\"magenta\">Accuracy of Naive Bayes: <font color=\"red\">73.92%</font></font>"
      ]
    },
    {
      "cell_type": "markdown",
      "metadata": {
        "_uuid": "998124b79b0c01da04cf9992112eafb60bdb857a",
        "id": "pcXrHUkxDVwx"
      },
      "source": [
        "## Decision Tree Algorithm"
      ]
    },
    {
      "cell_type": "markdown",
      "metadata": {
        "_uuid": "cd08ae4ab93fa7de207a80412f4a8cdfb8cfd932",
        "id": "w3WidHyqDVwy"
      },
      "source": [
        "**Decision Tree Algorithm**\n",
        "<br>\n",
        "![image.png](attachment:image.png)"
      ]
    },
    {
      "cell_type": "code",
      "metadata": {
        "trusted": true,
        "_uuid": "a3f57a094e75c7072857cb8adb40afa3fead5a26",
        "id": "OYgwlca4DVwy",
        "colab": {
          "base_uri": "https://localhost:8080/"
        },
        "outputId": "49867194-e11a-4df9-c0df-383e038a50c9"
      },
      "source": [
        "from sklearn.tree import DecisionTreeClassifier\n",
        "dtc = DecisionTreeClassifier()\n",
        "dtc.fit(x_train.T, y_train.T)\n",
        "\n",
        "acc = dtc.score(x_test.T, y_test.T)*100\n",
        "accuracies['Decision Tree'] = acc\n",
        "print(\"Decision Tree Test Accuracy {:.2f}%\".format(acc))"
      ],
      "execution_count": 253,
      "outputs": [
        {
          "output_type": "stream",
          "text": [
            "Decision Tree Test Accuracy 64.78%\n"
          ],
          "name": "stdout"
        }
      ]
    },
    {
      "cell_type": "markdown",
      "metadata": {
        "_uuid": "b6914af2063b8991db2db75edb1e5eebee108b1c",
        "id": "a3fryGF2DVwy"
      },
      "source": [
        "## <font color=\"#CFC60E\">Test Accuracy of Decision Tree Algorithm: <font color=\"red\">64.78%</font></font>"
      ]
    },
    {
      "cell_type": "markdown",
      "metadata": {
        "_uuid": "8b409e74067d3b7acfb1841fb35be018fbb92183",
        "id": "K2XVYWlYDVwy"
      },
      "source": [
        "## Random Forest Classification"
      ]
    },
    {
      "cell_type": "code",
      "metadata": {
        "trusted": true,
        "_uuid": "c81ae8e5658bea3a910901e6bc35a319bba701a9",
        "id": "-yNgrNVtDVwy",
        "colab": {
          "base_uri": "https://localhost:8080/"
        },
        "outputId": "ed128296-41fd-47dc-ce60-fd2dd9c1e202"
      },
      "source": [
        "# Random Forest Classification\n",
        "from sklearn.ensemble import RandomForestClassifier\n",
        "rf = RandomForestClassifier(n_estimators = 1000, random_state = 1)\n",
        "rf.fit(x_train.T, y_train.T)\n",
        "\n",
        "acc = rf.score(x_test.T,y_test.T)*100\n",
        "accuracies['Random Forest'] = acc\n",
        "print(\"Random Forest Algorithm Accuracy Score : {:.2f}%\".format(acc))"
      ],
      "execution_count": 254,
      "outputs": [
        {
          "output_type": "stream",
          "text": [
            "Random Forest Algorithm Accuracy Score : 73.12%\n"
          ],
          "name": "stdout"
        }
      ]
    },
    {
      "cell_type": "markdown",
      "metadata": {
        "_uuid": "a0ce99be479572718f67cf4cc178299fdd9ff6a1",
        "id": "h6-XBs3eDVwz"
      },
      "source": [
        "## <font color=\"#0FBBAE\">Test Accuracy of Random Forest: <font color=\"red\">73.12%</font></font>"
      ]
    },
    {
      "cell_type": "markdown",
      "metadata": {
        "_uuid": "3ba9f36a63105b2557e4314be41dc9620fab27f6",
        "id": "UaldTAHWDVwz"
      },
      "source": [
        "## Comparing Models"
      ]
    },
    {
      "cell_type": "code",
      "metadata": {
        "trusted": true,
        "_uuid": "9e594d64f9a20255ca8687179d858e3dce855136",
        "id": "NpIS_iafDVwz",
        "colab": {
          "base_uri": "https://localhost:8080/",
          "height": 334
        },
        "outputId": "8ff444e3-44b6-4233-a939-a123c6b32866"
      },
      "source": [
        "colors = [\"purple\", \"green\", \"orange\", \"magenta\",\"#CFC60E\",\"#0FBBAE\"]\n",
        "\n",
        "sns.set_style(\"whitegrid\")\n",
        "plt.figure(figsize=(16,5))\n",
        "plt.yticks(np.arange(0,100,10))\n",
        "plt.ylabel(\"Accuracy %\")\n",
        "plt.xlabel(\"Algorithms\")\n",
        "sns.barplot(x=list(accuracies.keys()), y=list(accuracies.values()), palette=colors)\n",
        "plt.show()"
      ],
      "execution_count": 255,
      "outputs": [
        {
          "output_type": "display_data",
          "data": {
            "image/png": "[encoded data removed]",
            "text/plain": [
              "<Figure size 1152x360 with 1 Axes>"
            ]
          },
          "metadata": {
            "tags": []
          }
        }
      ]
    },
    {
      "cell_type": "markdown",
      "metadata": {
        "_uuid": "3300e662f1fffbcc9c9aea95d6c11e559e84e412",
        "id": "_hEKajtjDVwz"
      },
      "source": [
        "Our models work fine but best of them are KNN and Random Forest with 88.52% of accuracy. Let's look their confusion matrixes."
      ]
    },
    {
      "cell_type": "markdown",
      "metadata": {
        "_uuid": "0f8e3cd00eb3f1c573468e4a8708d7a6ca8df67b",
        "id": "FbyecA1WDVw0"
      },
      "source": [
        "## Confusion Matrix"
      ]
    },
    {
      "cell_type": "code",
      "metadata": {
        "trusted": true,
        "_uuid": "3a280577a5739b773e3ce0ca50d3cda671ba9a32",
        "id": "aKDXGM3fDVw0"
      },
      "source": [
        "# Predicted values\n",
        "y_head_lr = lr.predict(x_test.T)\n",
        "knn3 = KNeighborsClassifier(n_neighbors = 3)\n",
        "knn3.fit(x_train.T, y_train.T)\n",
        "y_head_knn = knn3.predict(x_test.T)\n",
        "y_head_svm = svm.predict(x_test.T)\n",
        "y_head_nb = nb.predict(x_test.T)\n",
        "y_head_dtc = dtc.predict(x_test.T)\n",
        "y_head_rf = rf.predict(x_test.T)"
      ],
      "execution_count": 256,
      "outputs": []
    },
    {
      "cell_type": "code",
      "metadata": {
        "trusted": true,
        "_uuid": "89e2140778e93d3eecfc41d5b995cb9131633313",
        "id": "Y0DLPGQGDVw0"
      },
      "source": [
        "from sklearn.metrics import confusion_matrix\n",
        "\n",
        "cm_lr = confusion_matrix(y_test,y_head_lr)\n",
        "cm_knn = confusion_matrix(y_test,y_head_knn)\n",
        "cm_svm = confusion_matrix(y_test,y_head_svm)\n",
        "cm_nb = confusion_matrix(y_test,y_head_nb)\n",
        "cm_dtc = confusion_matrix(y_test,y_head_dtc)\n",
        "cm_rf = confusion_matrix(y_test,y_head_rf)\n"
      ],
      "execution_count": 257,
      "outputs": []
    },
    {
      "cell_type": "code",
      "metadata": {
        "trusted": true,
        "_uuid": "b91a2a68b5cc12ea58f255731cf76d49fd2ed5ec",
        "id": "CdUX8aK3DVw1",
        "colab": {
          "base_uri": "https://localhost:8080/",
          "height": 787
        },
        "outputId": "a3c6fd4a-e58c-415d-e180-687567b54c9f"
      },
      "source": [
        "plt.figure(figsize=(24,12))\n",
        "\n",
        "plt.suptitle(\"Confusion Matrixes\",fontsize=24)\n",
        "plt.subplots_adjust(wspace = 0.4, hspace= 0.4)\n",
        "\n",
        "plt.subplot(2,3,1)\n",
        "plt.title(\"Logistic Regression Confusion Matrix\")\n",
        "sns.heatmap(cm_lr,annot=True,cmap=\"Blues\",fmt=\"d\",cbar=False, annot_kws={\"size\": 24})\n",
        "\n",
        "plt.subplot(2,3,2)\n",
        "plt.title(\"K Nearest Neighbors Confusion Matrix\")\n",
        "sns.heatmap(cm_knn,annot=True,cmap=\"Blues\",fmt=\"d\",cbar=False, annot_kws={\"size\": 24})\n",
        "\n",
        "plt.subplot(2,3,3)\n",
        "plt.title(\"Support Vector Machine Confusion Matrix\")\n",
        "sns.heatmap(cm_svm,annot=True,cmap=\"Blues\",fmt=\"d\",cbar=False, annot_kws={\"size\": 24})\n",
        "\n",
        "plt.subplot(2,3,4)\n",
        "plt.title(\"Naive Bayes Confusion Matrix\")\n",
        "sns.heatmap(cm_nb,annot=True,cmap=\"Blues\",fmt=\"d\",cbar=False, annot_kws={\"size\": 24})\n",
        "\n",
        "plt.subplot(2,3,5)\n",
        "plt.title(\"Decision Tree Classifier Confusion Matrix\")\n",
        "sns.heatmap(cm_dtc,annot=True,cmap=\"Blues\",fmt=\"d\",cbar=False, annot_kws={\"size\": 24})\n",
        "\n",
        "plt.subplot(2,3,6)\n",
        "plt.title(\"Random Forest Confusion Matrix\")\n",
        "sns.heatmap(cm_rf,annot=True,cmap=\"Blues\",fmt=\"d\",cbar=False, annot_kws={\"size\": 24})\n",
        "\n",
        "plt.show()"
      ],
      "execution_count": 258,
      "outputs": [
        {
          "output_type": "display_data",
          "data": {
            "image/png": "[encoded data removed]",
            "text/plain": [
              "<Figure size 1728x864 with 6 Axes>"
            ]
          },
          "metadata": {
            "tags": []
          }
        }
      ]
    },
    {
      "cell_type": "markdown",
      "metadata": {
        "_uuid": "e6ac9b36fd4b17bd96a5879f8c269f90171d5982",
        "id": "6JQ4JzIeDVw1"
      },
      "source": [
        "**I am new with data science. Please comment me your feedbacks to help me improve myself. Thanks for your time.**"
      ]
    }
  ]
}